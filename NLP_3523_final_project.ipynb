{
  "cells": [
    {
      "cell_type": "markdown",
      "metadata": {
        "id": "NCV6TIy-sSnA"
      },
      "source": [
        "# NLP Final Project"
      ]
    },
    {
      "cell_type": "code",
      "execution_count": null,
      "metadata": {
        "colab": {
          "base_uri": "https://localhost:8080/"
        },
        "id": "6F2P7_FZ-DTp",
        "outputId": "509ecd7e-db76-42d3-982a-091be7cff2b1"
      },
      "outputs": [
        {
          "output_type": "stream",
          "name": "stdout",
          "text": [
            "Cloning into 'CMU-MultimodalSDK'...\n",
            "remote: Enumerating objects: 86, done.\u001b[K\n",
            "remote: Counting objects: 100% (86/86), done.\u001b[K\n",
            "remote: Compressing objects: 100% (72/72), done.\u001b[K\n",
            "remote: Total 86 (delta 7), reused 83 (delta 7), pack-reused 0\u001b[K\n",
            "Receiving objects: 100% (86/86), 290.30 KiB | 3.67 MiB/s, done.\n",
            "Resolving deltas: 100% (7/7), done.\n"
          ]
        }
      ],
      "source": [
        "!git clone https://github.com/CMU-MultiComp-Lab/CMU-MultimodalSDK.git\n",
        "!cp -r CMU-MultimodalSDK/mmsdk mmsdk"
      ]
    },
    {
      "cell_type": "code",
      "execution_count": null,
      "metadata": {
        "colab": {
          "base_uri": "https://localhost:8080/"
        },
        "id": "F7Gctv_D-TJu",
        "outputId": "b5c6e89c-07fd-4f0e-9a20-b1af4f9283c6"
      },
      "outputs": [
        {
          "output_type": "stream",
          "name": "stdout",
          "text": [
            "\u001b[2K     \u001b[90m━━━━━━━━━━━━━━━━━━━━━━━━━━━━━━━━━━━━━━━━\u001b[0m \u001b[32m7.4/7.4 MB\u001b[0m \u001b[31m17.8 MB/s\u001b[0m eta \u001b[36m0:00:00\u001b[0m\n",
            "\u001b[2K     \u001b[90m━━━━━━━━━━━━━━━━━━━━━━━━━━━━━━━━━━━━━━\u001b[0m \u001b[32m268.8/268.8 kB\u001b[0m \u001b[31m28.6 MB/s\u001b[0m eta \u001b[36m0:00:00\u001b[0m\n",
            "\u001b[2K     \u001b[90m━━━━━━━━━━━━━━━━━━━━━━━━━━━━━━━━━━━━━━━━\u001b[0m \u001b[32m7.8/7.8 MB\u001b[0m \u001b[31m44.4 MB/s\u001b[0m eta \u001b[36m0:00:00\u001b[0m\n",
            "\u001b[2K     \u001b[90m━━━━━━━━━━━━━━━━━━━━━━━━━━━━━━━━━━━━━━━━\u001b[0m \u001b[32m1.3/1.3 MB\u001b[0m \u001b[31m49.7 MB/s\u001b[0m eta \u001b[36m0:00:00\u001b[0m\n",
            "\u001b[2K     \u001b[90m━━━━━━━━━━━━━━━━━━━━━━━━━━━━━━━━━━━━━━━\u001b[0m \u001b[32m158.4/158.4 kB\u001b[0m \u001b[31m3.8 MB/s\u001b[0m eta \u001b[36m0:00:00\u001b[0m\n",
            "\u001b[2K     \u001b[90m━━━━━━━━━━━━━━━━━━━━━━━━━━━━━━━━━━━━━━\u001b[0m \u001b[32m111.0/111.0 kB\u001b[0m \u001b[31m15.1 MB/s\u001b[0m eta \u001b[36m0:00:00\u001b[0m\n",
            "\u001b[?25h"
          ]
        }
      ],
      "source": [
        "!pip install transformers -q\n",
        "!pip install validators -q\n",
        "!pip install colorama -q\n",
        "!pip install torcheval --q"
      ]
    },
    {
      "cell_type": "code",
      "execution_count": null,
      "metadata": {
        "id": "BQ05s36T-AWu",
        "colab": {
          "base_uri": "https://localhost:8080/"
        },
        "outputId": "e9574fa2-46d9-481f-9063-59bd3cacb8b8"
      },
      "outputs": [
        {
          "output_type": "stream",
          "name": "stderr",
          "text": [
            "/content/mmsdk/mmdatasdk/computational_sequence/file_ops.py:53: SyntaxWarning: \"is\" with a literal. Did you mean \"==\"?\n",
            "  metadataHandle.create_dataset(metadataKey,(1,),dtype=h5py.special_dtype(vlen=unicode) if sys.version_info.major is 2 else h5py.special_dtype(vlen=str))\n",
            "/content/mmsdk/mmdatasdk/computational_sequence/file_ops.py:54: SyntaxWarning: \"is\" with a literal. Did you mean \"==\"?\n",
            "  cast_operator=unicode if sys.version_info.major is 2 else str\n"
          ]
        }
      ],
      "source": [
        "import random\n",
        "import torch\n",
        "\n",
        "import pandas as pd\n",
        "import numpy as np\n",
        "import torch.nn as nn\n",
        "import matplotlib.pyplot as plt\n",
        "import seaborn as sns\n",
        "\n",
        "from typing import NamedTuple\n",
        "from tqdm import tqdm\n",
        "from mmsdk import mmdatasdk\n",
        "\n",
        "from sklearn.model_selection import train_test_split\n",
        "from torch.utils.data import Dataset, DataLoader\n",
        "from torch.nn.utils.rnn import pad_sequence\n",
        "from torch import FloatTensor, no_grad\n",
        "from torch.optim import Adam\n",
        "from transformers import BertTokenizer\n",
        "from transformers import BertModel, BertTokenizer\n",
        "from torcheval.metrics import R2Score, MeanSquaredError"
      ]
    },
    {
      "cell_type": "code",
      "execution_count": null,
      "metadata": {
        "id": "I2mxFrFD-AWv"
      },
      "outputs": [],
      "source": [
        "import warnings\n",
        "warnings.filterwarnings('ignore')"
      ]
    },
    {
      "cell_type": "code",
      "execution_count": null,
      "metadata": {
        "id": "uHCVPx_h-AWv"
      },
      "outputs": [],
      "source": [
        "RANDOM_SEED = 42\n",
        "random.seed(RANDOM_SEED)\n",
        "np.random.seed(RANDOM_SEED)"
      ]
    },
    {
      "cell_type": "code",
      "execution_count": null,
      "metadata": {
        "id": "eHv63eCe-AWw"
      },
      "outputs": [],
      "source": [
        "DEVICE = 'cuda' if torch.cuda.is_available() else 'cpu'\n",
        "assert DEVICE == 'cuda'"
      ]
    },
    {
      "cell_type": "markdown",
      "metadata": {
        "id": "p9kVgXMGsmQd"
      },
      "source": [
        "\n",
        "<br></br>\n",
        "\n",
        "### Generate Dataset"
      ]
    },
    {
      "cell_type": "code",
      "execution_count": null,
      "metadata": {
        "colab": {
          "base_uri": "https://localhost:8080/"
        },
        "id": "vt-SDXeC-AWw",
        "outputId": "9e54cb09-ccce-47db-9643-1d58a2c58fe3"
      },
      "outputs": [
        {
          "output_type": "stream",
          "name": "stdout",
          "text": [
            "\u001b[94m\u001b[1m[2023-08-17 10:20:41.278] | Status  | \u001b[0mDownloading from http://immortal.multicomp.cs.cmu.edu/CMU-MOSI/language/CMU_MOSI_TimestampedWordVectors.csd to cmumosi/CMU_MOSI_TimestampedWordVectors.csd...\n"
          ]
        },
        {
          "output_type": "stream",
          "name": "stderr",
          "text": []
        },
        {
          "output_type": "stream",
          "name": "stdout",
          "text": [
            "\u001b[92m\u001b[1m[2023-08-17 10:20:43.991] | Success | \u001b[0mDownload complete!\n",
            "\u001b[92m\u001b[1m[2023-08-17 10:20:43.992] | Success | \u001b[0mComputational sequence read from file cmumosi/CMU_MOSI_TimestampedWordVectors.csd ...\n",
            "\u001b[94m\u001b[1m[2023-08-17 10:20:44.001] | Status  | \u001b[0mChecking the integrity of the <glove_vectors> computational sequence ...\n",
            "\u001b[94m\u001b[1m[2023-08-17 10:20:44.001] | Status  | \u001b[0mChecking the format of the data in <glove_vectors> computational sequence ...\n"
          ]
        },
        {
          "output_type": "stream",
          "name": "stderr",
          "text": []
        },
        {
          "output_type": "stream",
          "name": "stdout",
          "text": [
            "\u001b[92m\u001b[1m[2023-08-17 10:20:44.044] | Success | \u001b[0m<glove_vectors> computational sequence data in correct format.\n",
            "\u001b[94m\u001b[1m[2023-08-17 10:20:44.044] | Status  | \u001b[0mChecking the format of the metadata in <glove_vectors> computational sequence ...\n",
            "\u001b[93m\u001b[1m[2023-08-17 10:20:44.044] | Warning | \u001b[0m<glove_vectors> computational sequence does not have all the required metadata ... continuing \n",
            "\u001b[94m\u001b[1m[2023-08-17 10:20:44.132] | Status  | \u001b[0mDownloading from http://immortal.multicomp.cs.cmu.edu/CMU-MOSI/visual/CMU_MOSI_Visual_Facet_41.csd to cmumosi/CMU_MOSI_Visual_Facet_41.csd...\n"
          ]
        },
        {
          "output_type": "stream",
          "name": "stderr",
          "text": []
        },
        {
          "output_type": "stream",
          "name": "stdout",
          "text": [
            "\u001b[92m\u001b[1m[2023-08-17 10:20:47.190] | Success | \u001b[0mDownload complete!\n",
            "\u001b[92m\u001b[1m[2023-08-17 10:20:47.192] | Success | \u001b[0mComputational sequence read from file cmumosi/CMU_MOSI_Visual_Facet_41.csd ...\n",
            "\u001b[94m\u001b[1m[2023-08-17 10:20:47.208] | Status  | \u001b[0mChecking the integrity of the <FACET_4.1> computational sequence ...\n",
            "\u001b[94m\u001b[1m[2023-08-17 10:20:47.208] | Status  | \u001b[0mChecking the format of the data in <FACET_4.1> computational sequence ...\n"
          ]
        },
        {
          "output_type": "stream",
          "name": "stderr",
          "text": []
        },
        {
          "output_type": "stream",
          "name": "stdout",
          "text": [
            "\u001b[92m\u001b[1m[2023-08-17 10:20:47.388] | Success | \u001b[0m<FACET_4.1> computational sequence data in correct format.\n",
            "\u001b[94m\u001b[1m[2023-08-17 10:20:47.388] | Status  | \u001b[0mChecking the format of the metadata in <FACET_4.1> computational sequence ...\n",
            "\u001b[93m\u001b[1m[2023-08-17 10:20:47.388] | Warning | \u001b[0m<FACET_4.1> computational sequence does not have all the required metadata ... continuing \n",
            "\u001b[94m\u001b[1m[2023-08-17 10:20:47.485] | Status  | \u001b[0mDownloading from http://immortal.multicomp.cs.cmu.edu/CMU-MOSI/visual/CMU_MOSI_Visual_Facet_42.csd to cmumosi/CMU_MOSI_Visual_Facet_42.csd...\n"
          ]
        },
        {
          "output_type": "stream",
          "name": "stderr",
          "text": []
        },
        {
          "output_type": "stream",
          "name": "stdout",
          "text": [
            "\u001b[92m\u001b[1m[2023-08-17 10:20:50.253] | Success | \u001b[0mDownload complete!\n",
            "\u001b[92m\u001b[1m[2023-08-17 10:20:50.254] | Success | \u001b[0mComputational sequence read from file cmumosi/CMU_MOSI_Visual_Facet_42.csd ...\n",
            "\u001b[94m\u001b[1m[2023-08-17 10:20:50.276] | Status  | \u001b[0mChecking the integrity of the <FACET_4.2> computational sequence ...\n",
            "\u001b[94m\u001b[1m[2023-08-17 10:20:50.276] | Status  | \u001b[0mChecking the format of the data in <FACET_4.2> computational sequence ...\n"
          ]
        },
        {
          "output_type": "stream",
          "name": "stderr",
          "text": []
        },
        {
          "output_type": "stream",
          "name": "stdout",
          "text": [
            "\u001b[92m\u001b[1m[2023-08-17 10:20:50.406] | Success | \u001b[0m<FACET_4.2> computational sequence data in correct format.\n",
            "\u001b[94m\u001b[1m[2023-08-17 10:20:50.406] | Status  | \u001b[0mChecking the format of the metadata in <FACET_4.2> computational sequence ...\n",
            "\u001b[93m\u001b[1m[2023-08-17 10:20:50.406] | Warning | \u001b[0m<FACET_4.2> computational sequence does not have all the required metadata ... continuing \n",
            "\u001b[94m\u001b[1m[2023-08-17 10:20:50.506] | Status  | \u001b[0mDownloading from http://immortal.multicomp.cs.cmu.edu/CMU-MOSI/acoustic/CMU_MOSI_OpenSmile_EB10.csd to cmumosi/CMU_MOSI_OpenSmile_EB10.csd...\n"
          ]
        },
        {
          "output_type": "stream",
          "name": "stderr",
          "text": []
        },
        {
          "output_type": "stream",
          "name": "stdout",
          "text": [
            "\u001b[92m\u001b[1m[2023-08-17 10:20:51.520] | Success | \u001b[0mDownload complete!\n",
            "\u001b[92m\u001b[1m[2023-08-17 10:20:51.522] | Success | \u001b[0mComputational sequence read from file cmumosi/CMU_MOSI_OpenSmile_EB10.csd ...\n",
            "\u001b[94m\u001b[1m[2023-08-17 10:20:51.544] | Status  | \u001b[0mChecking the integrity of the <OpenSmile_emobase2010> computational sequence ...\n",
            "\u001b[94m\u001b[1m[2023-08-17 10:20:51.545] | Status  | \u001b[0mChecking the format of the data in <OpenSmile_emobase2010> computational sequence ...\n"
          ]
        },
        {
          "output_type": "stream",
          "name": "stderr",
          "text": []
        },
        {
          "output_type": "stream",
          "name": "stdout",
          "text": [
            "\u001b[92m\u001b[1m[2023-08-17 10:20:51.655] | Success | \u001b[0m<OpenSmile_emobase2010> computational sequence data in correct format.\n",
            "\u001b[94m\u001b[1m[2023-08-17 10:20:51.656] | Status  | \u001b[0mChecking the format of the metadata in <OpenSmile_emobase2010> computational sequence ...\n",
            "\u001b[93m\u001b[1m[2023-08-17 10:20:51.657] | Warning | \u001b[0m<OpenSmile_emobase2010> computational sequence does not have all the required metadata ... continuing \n",
            "\u001b[94m\u001b[1m[2023-08-17 10:20:51.745] | Status  | \u001b[0mDownloading from http://immortal.multicomp.cs.cmu.edu/CMU-MOSI/acoustic/CMU_MOSI_openSMILE_IS09.csd to cmumosi/CMU_MOSI_openSMILE_IS09.csd...\n"
          ]
        },
        {
          "output_type": "stream",
          "name": "stderr",
          "text": []
        },
        {
          "output_type": "stream",
          "name": "stdout",
          "text": [
            "\u001b[92m\u001b[1m[2023-08-17 10:21:09.682] | Success | \u001b[0mDownload complete!\n",
            "\u001b[92m\u001b[1m[2023-08-17 10:21:09.690] | Success | \u001b[0mComputational sequence read from file cmumosi/CMU_MOSI_openSMILE_IS09.csd ...\n",
            "\u001b[94m\u001b[1m[2023-08-17 10:21:09.723] | Status  | \u001b[0mChecking the integrity of the <b'OpenSMILE'> computational sequence ...\n",
            "\u001b[94m\u001b[1m[2023-08-17 10:21:09.723] | Status  | \u001b[0mChecking the format of the data in <b'OpenSMILE'> computational sequence ...\n"
          ]
        },
        {
          "output_type": "stream",
          "name": "stderr",
          "text": []
        },
        {
          "output_type": "stream",
          "name": "stdout",
          "text": [
            "\u001b[92m\u001b[1m[2023-08-17 10:21:09.828] | Success | \u001b[0m<b'OpenSMILE'> computational sequence data in correct format.\n",
            "\u001b[94m\u001b[1m[2023-08-17 10:21:09.828] | Status  | \u001b[0mChecking the format of the metadata in <b'OpenSMILE'> computational sequence ...\n",
            "\u001b[93m\u001b[1m[2023-08-17 10:21:09.828] | Warning | \u001b[0m<b'OpenSMILE'> computational sequence does not have all the required metadata ... continuing \n",
            "\u001b[94m\u001b[1m[2023-08-17 10:21:09.922] | Status  | \u001b[0mDownloading from http://immortal.multicomp.cs.cmu.edu/CMU-MOSI/visual/CMU_MOSI_Visual_OpenFace_1.csd to cmumosi/CMU_MOSI_Visual_OpenFace_1.csd...\n"
          ]
        },
        {
          "output_type": "stream",
          "name": "stderr",
          "text": []
        },
        {
          "output_type": "stream",
          "name": "stdout",
          "text": [
            "\u001b[92m\u001b[1m[2023-08-17 10:21:32.906] | Success | \u001b[0mDownload complete!\n",
            "\u001b[92m\u001b[1m[2023-08-17 10:21:32.907] | Success | \u001b[0mComputational sequence read from file cmumosi/CMU_MOSI_Visual_OpenFace_1.csd ...\n",
            "\u001b[94m\u001b[1m[2023-08-17 10:21:32.921] | Status  | \u001b[0mChecking the integrity of the <OpenFace_1> computational sequence ...\n",
            "\u001b[94m\u001b[1m[2023-08-17 10:21:32.921] | Status  | \u001b[0mChecking the format of the data in <OpenFace_1> computational sequence ...\n"
          ]
        },
        {
          "output_type": "stream",
          "name": "stderr",
          "text": []
        },
        {
          "output_type": "stream",
          "name": "stdout",
          "text": [
            "\u001b[92m\u001b[1m[2023-08-17 10:21:33.001] | Success | \u001b[0m<OpenFace_1> computational sequence data in correct format.\n",
            "\u001b[94m\u001b[1m[2023-08-17 10:21:33.002] | Status  | \u001b[0mChecking the format of the metadata in <OpenFace_1> computational sequence ...\n",
            "\u001b[93m\u001b[1m[2023-08-17 10:21:33.003] | Warning | \u001b[0m<OpenFace_1> computational sequence does not have all the required metadata ... continuing \n",
            "\u001b[94m\u001b[1m[2023-08-17 10:21:33.164] | Status  | \u001b[0mDownloading from http://immortal.multicomp.cs.cmu.edu/CMU-MOSI/visual/CMU_MOSI_Visual_OpenFace_2.csd to cmumosi/CMU_MOSI_Visual_OpenFace_2.csd...\n"
          ]
        },
        {
          "output_type": "stream",
          "name": "stderr",
          "text": []
        },
        {
          "output_type": "stream",
          "name": "stdout",
          "text": [
            "\u001b[92m\u001b[1m[2023-08-17 10:21:55.909] | Success | \u001b[0mDownload complete!\n",
            "\u001b[92m\u001b[1m[2023-08-17 10:21:55.911] | Success | \u001b[0mComputational sequence read from file cmumosi/CMU_MOSI_Visual_OpenFace_2.csd ...\n",
            "\u001b[94m\u001b[1m[2023-08-17 10:21:55.918] | Status  | \u001b[0mChecking the integrity of the <OpenFace_2> computational sequence ...\n",
            "\u001b[94m\u001b[1m[2023-08-17 10:21:55.918] | Status  | \u001b[0mChecking the format of the data in <OpenFace_2> computational sequence ...\n"
          ]
        },
        {
          "output_type": "stream",
          "name": "stderr",
          "text": []
        },
        {
          "output_type": "stream",
          "name": "stdout",
          "text": [
            "\u001b[92m\u001b[1m[2023-08-17 10:21:55.959] | Success | \u001b[0m<OpenFace_2> computational sequence data in correct format.\n",
            "\u001b[94m\u001b[1m[2023-08-17 10:21:55.959] | Status  | \u001b[0mChecking the format of the metadata in <OpenFace_2> computational sequence ...\n",
            "\u001b[93m\u001b[1m[2023-08-17 10:21:55.960] | Warning | \u001b[0m<OpenFace_2> computational sequence does not have all the required metadata ... continuing \n",
            "\u001b[94m\u001b[1m[2023-08-17 10:21:56.048] | Status  | \u001b[0mDownloading from http://immortal.multicomp.cs.cmu.edu/CMU-MOSI/acoustic/CMU_MOSI_COVAREP.csd to cmumosi/CMU_MOSI_COVAREP.csd...\n"
          ]
        },
        {
          "output_type": "stream",
          "name": "stderr",
          "text": []
        },
        {
          "output_type": "stream",
          "name": "stdout",
          "text": [
            "\u001b[92m\u001b[1m[2023-08-17 10:22:11.045] | Success | \u001b[0mDownload complete!\n",
            "\u001b[92m\u001b[1m[2023-08-17 10:22:11.047] | Success | \u001b[0mComputational sequence read from file cmumosi/CMU_MOSI_COVAREP.csd ...\n",
            "\u001b[94m\u001b[1m[2023-08-17 10:22:11.058] | Status  | \u001b[0mChecking the integrity of the <COVAREP> computational sequence ...\n",
            "\u001b[94m\u001b[1m[2023-08-17 10:22:11.059] | Status  | \u001b[0mChecking the format of the data in <COVAREP> computational sequence ...\n"
          ]
        },
        {
          "output_type": "stream",
          "name": "stderr",
          "text": []
        },
        {
          "output_type": "stream",
          "name": "stdout",
          "text": [
            "\u001b[92m\u001b[1m[2023-08-17 10:22:11.130] | Success | \u001b[0m<COVAREP> computational sequence data in correct format.\n",
            "\u001b[94m\u001b[1m[2023-08-17 10:22:11.130] | Status  | \u001b[0mChecking the format of the metadata in <COVAREP> computational sequence ...\n",
            "\u001b[93m\u001b[1m[2023-08-17 10:22:11.131] | Warning | \u001b[0m<COVAREP> computational sequence does not have all the required metadata ... continuing \n",
            "\u001b[92m\u001b[1m[2023-08-17 10:22:11.131] | Success | \u001b[0mDataset initialized successfully ... \n",
            "\u001b[94m\u001b[1m[2023-08-17 10:22:11.304] | Status  | \u001b[0mDownloading from http://immortal.multicomp.cs.cmu.edu/CMU-MOSI/language/CMU_MOSI_TimestampedWords.csd to cmumosi/CMU_MOSI_TimestampedWords.csd...\n"
          ]
        },
        {
          "output_type": "stream",
          "name": "stderr",
          "text": []
        },
        {
          "output_type": "stream",
          "name": "stdout",
          "text": [
            "\u001b[92m\u001b[1m[2023-08-17 10:22:11.563] | Success | \u001b[0mDownload complete!\n",
            "\u001b[92m\u001b[1m[2023-08-17 10:22:11.564] | Success | \u001b[0mComputational sequence read from file cmumosi/CMU_MOSI_TimestampedWords.csd ...\n",
            "\u001b[94m\u001b[1m[2023-08-17 10:22:11.577] | Status  | \u001b[0mChecking the integrity of the <words> computational sequence ...\n",
            "\u001b[94m\u001b[1m[2023-08-17 10:22:11.577] | Status  | \u001b[0mChecking the format of the data in <words> computational sequence ...\n"
          ]
        },
        {
          "output_type": "stream",
          "name": "stderr",
          "text": []
        },
        {
          "output_type": "stream",
          "name": "stdout",
          "text": [
            "\u001b[92m\u001b[1m[2023-08-17 10:22:11.643] | Success | \u001b[0m<words> computational sequence data in correct format.\n",
            "\u001b[94m\u001b[1m[2023-08-17 10:22:11.643] | Status  | \u001b[0mChecking the format of the metadata in <words> computational sequence ...\n",
            "\u001b[93m\u001b[1m[2023-08-17 10:22:11.644] | Warning | \u001b[0m<words> computational sequence does not have all the required metadata ... continuing \n",
            "\u001b[94m\u001b[1m[2023-08-17 10:22:11.732] | Status  | \u001b[0mDownloading from http://immortal.multicomp.cs.cmu.edu/CMU-MOSI/language/CMU_MOSI_TimestampedPhones.csd to cmumosi/CMU_MOSI_TimestampedPhones.csd...\n"
          ]
        },
        {
          "output_type": "stream",
          "name": "stderr",
          "text": []
        },
        {
          "output_type": "stream",
          "name": "stdout",
          "text": [
            "\u001b[92m\u001b[1m[2023-08-17 10:22:12.044] | Success | \u001b[0mDownload complete!\n",
            "\u001b[92m\u001b[1m[2023-08-17 10:22:12.045] | Success | \u001b[0mComputational sequence read from file cmumosi/CMU_MOSI_TimestampedPhones.csd ...\n",
            "\u001b[94m\u001b[1m[2023-08-17 10:22:12.056] | Status  | \u001b[0mChecking the integrity of the <phoneme> computational sequence ...\n",
            "\u001b[94m\u001b[1m[2023-08-17 10:22:12.058] | Status  | \u001b[0mChecking the format of the data in <phoneme> computational sequence ...\n"
          ]
        },
        {
          "output_type": "stream",
          "name": "stderr",
          "text": []
        },
        {
          "output_type": "stream",
          "name": "stdout",
          "text": [
            "\u001b[92m\u001b[1m[2023-08-17 10:22:12.136] | Success | \u001b[0m<phoneme> computational sequence data in correct format.\n",
            "\u001b[94m\u001b[1m[2023-08-17 10:22:12.137] | Status  | \u001b[0mChecking the format of the metadata in <phoneme> computational sequence ...\n",
            "\u001b[93m\u001b[1m[2023-08-17 10:22:12.138] | Warning | \u001b[0m<phoneme> computational sequence does not have all the required metadata ... continuing \n",
            "\u001b[94m\u001b[1m[2023-08-17 10:22:12.228] | Status  | \u001b[0mDownloading from http://immortal.multicomp.cs.cmu.edu/CMU-MOSI/labels/CMU_MOSI_Opinion_Labels.csd to cmumosi/CMU_MOSI_Opinion_Labels.csd...\n"
          ]
        },
        {
          "output_type": "stream",
          "name": "stderr",
          "text": []
        },
        {
          "output_type": "stream",
          "name": "stdout",
          "text": [
            "\u001b[92m\u001b[1m[2023-08-17 10:22:12.446] | Success | \u001b[0mDownload complete!\n",
            "\u001b[92m\u001b[1m[2023-08-17 10:22:12.449] | Success | \u001b[0mComputational sequence read from file cmumosi/CMU_MOSI_Opinion_Labels.csd ...\n",
            "\u001b[94m\u001b[1m[2023-08-17 10:22:12.463] | Status  | \u001b[0mChecking the integrity of the <Opinion Segment Labels> computational sequence ...\n",
            "\u001b[94m\u001b[1m[2023-08-17 10:22:12.463] | Status  | \u001b[0mChecking the format of the data in <Opinion Segment Labels> computational sequence ...\n"
          ]
        },
        {
          "output_type": "stream",
          "name": "stderr",
          "text": []
        },
        {
          "output_type": "stream",
          "name": "stdout",
          "text": [
            "\u001b[92m\u001b[1m[2023-08-17 10:22:12.558] | Success | \u001b[0m<Opinion Segment Labels> computational sequence data in correct format.\n",
            "\u001b[94m\u001b[1m[2023-08-17 10:22:12.558] | Status  | \u001b[0mChecking the format of the metadata in <Opinion Segment Labels> computational sequence ...\n",
            "\u001b[93m\u001b[1m[2023-08-17 10:22:12.559] | Warning | \u001b[0m<Opinion Segment Labels> computational sequence does not have all the required metadata ... continuing \n",
            "\u001b[94m\u001b[1m[2023-08-17 10:22:12.561] | Status  | \u001b[0mUnify was called ...\n",
            "\u001b[93m\u001b[1m[2023-08-17 10:22:12.563] | Warning | \u001b[0mc5xsKMxpXnc entry is not shared among all sequences, removing it ...\n",
            "\u001b[92m\u001b[1m[2023-08-17 10:22:12.565] | Success | \u001b[0mUnify completed ...\n",
            "\u001b[94m\u001b[1m[2023-08-17 10:22:12.565] | Status  | \u001b[0mPre-alignment based on <Opinion Segment Labels> computational sequence started ...\n",
            "\u001b[94m\u001b[1m[2023-08-17 10:22:19.687] | Status  | \u001b[0mPre-alignment done for <OpenFace_1> ...\n",
            "\u001b[94m\u001b[1m[2023-08-17 10:22:29.980] | Status  | \u001b[0mPre-alignment done for <OpenFace_2> ...\n",
            "\u001b[94m\u001b[1m[2023-08-17 10:22:30.155] | Status  | \u001b[0mPre-alignment done for <OpenSmile-emobase2010> ...\n",
            "\u001b[94m\u001b[1m[2023-08-17 10:22:30.579] | Status  | \u001b[0mPre-alignment done for <OpenSMILE> ...\n",
            "\u001b[94m\u001b[1m[2023-08-17 10:22:31.310] | Status  | \u001b[0mPre-alignment done for <glove_vectors> ...\n",
            "\u001b[94m\u001b[1m[2023-08-17 10:22:31.386] | Status  | \u001b[0mPre-alignment done for <words> ...\n",
            "\u001b[94m\u001b[1m[2023-08-17 10:22:34.864] | Status  | \u001b[0mPre-alignment done for <COVAREP> ...\n",
            "\u001b[94m\u001b[1m[2023-08-17 10:22:34.971] | Status  | \u001b[0mPre-alignment done for <phonemes> ...\n",
            "\u001b[94m\u001b[1m[2023-08-17 10:22:35.705] | Status  | \u001b[0mPre-alignment done for <FACET_4.2> ...\n",
            "\u001b[94m\u001b[1m[2023-08-17 10:22:36.531] | Status  | \u001b[0mPre-alignment done for <FACET_4.1> ...\n",
            "\u001b[94m\u001b[1m[2023-08-17 10:22:36.581] | Status  | \u001b[0mAlignment starting ...\n"
          ]
        },
        {
          "output_type": "stream",
          "name": "stderr",
          "text": [
            "Overall Progress:   0%|          | 0/92 [00:00<?, ? Computational Sequence Entries/s]\n",
            "  0%|          | 0/13 [00:00<?, ? Segments/s]\u001b[A\n",
            "Aligning 03bSnISJMiM:   0%|          | 0/13 [00:00<?, ? Segments/s]\u001b[A\n",
            "                                                                   \u001b[A\n",
            "  0%|          | 0/25 [00:00<?, ? Segments/s]\u001b[A\n",
            "Aligning 0h-zjBukYpk:   0%|          | 0/25 [00:00<?, ? Segments/s]\u001b[A\n",
            "Overall Progress:   2%|▏         | 2/92 [00:00<00:09,  9.92 Computational Sequence Entries/s]\n",
            "  0%|          | 0/14 [00:00<?, ? Segments/s]\u001b[A\n",
            "Aligning 1DmNV9C1hbY:   0%|          | 0/14 [00:00<?, ? Segments/s]\u001b[A\n",
            "                                                                   \u001b[A\n",
            "  0%|          | 0/30 [00:00<?, ? Segments/s]\u001b[A\n",
            "Aligning 1iG0909rllw:   0%|          | 0/30 [00:00<?, ? Segments/s]\u001b[A\n",
            "Aligning 1iG0909rllw:  90%|█████████ | 27/30 [00:00<00:00, 266.82 Segments/s]\u001b[A\n",
            "Overall Progress:   4%|▍         | 4/92 [00:00<00:08, 10.01 Computational Sequence Entries/s]\n",
            "  0%|          | 0/63 [00:00<?, ? Segments/s]\u001b[A\n",
            "Aligning 2WGyTLYerpo:   0%|          | 0/63 [00:00<?, ? Segments/s]\u001b[A\n",
            "Aligning 2WGyTLYerpo:  35%|███▍      | 22/63 [00:00<00:00, 217.68 Segments/s]\u001b[A\n",
            "Aligning 2WGyTLYerpo:  78%|███████▊  | 49/63 [00:00<00:00, 244.49 Segments/s]\u001b[A\n",
            "                                                                             \u001b[A\n",
            "  0%|          | 0/30 [00:00<?, ? Segments/s]\u001b[A\n",
            "Aligning 2iD-tVS8NPw:   0%|          | 0/30 [00:00<?, ? Segments/s]\u001b[A\n",
            "Aligning 2iD-tVS8NPw:  53%|█████▎    | 16/30 [00:00<00:00, 158.78 Segments/s]\u001b[A\n",
            "Overall Progress:   7%|▋         | 6/92 [00:00<00:14,  6.13 Computational Sequence Entries/s]\n",
            "  0%|          | 0/24 [00:00<?, ? Segments/s]\u001b[A\n",
            "Aligning 5W7Z1C_fDaE:   0%|          | 0/24 [00:00<?, ? Segments/s]\u001b[A\n",
            "Overall Progress:   8%|▊         | 7/92 [00:00<00:12,  6.65 Computational Sequence Entries/s]\n",
            "  0%|          | 0/12 [00:00<?, ? Segments/s]\u001b[A\n",
            "Aligning 6Egk_28TtTM:   0%|          | 0/12 [00:00<?, ? Segments/s]\u001b[A\n",
            "                                                                   \u001b[A\n",
            "  0%|          | 0/14 [00:00<?, ? Segments/s]\u001b[A\n",
            "Aligning 6_0THN4chvY:   0%|          | 0/14 [00:00<?, ? Segments/s]\u001b[A\n",
            "Overall Progress:  10%|▉         | 9/92 [00:01<00:10,  8.16 Computational Sequence Entries/s]\n",
            "  0%|          | 0/19 [00:00<?, ? Segments/s]\u001b[A\n",
            "Aligning 73jzhE8R1TQ:   0%|          | 0/19 [00:00<?, ? Segments/s]\u001b[A\n",
            "Aligning 73jzhE8R1TQ:  95%|█████████▍| 18/19 [00:00<00:00, 175.17 Segments/s]\u001b[A\n",
            "Overall Progress:  11%|█         | 10/92 [00:01<00:10,  8.12 Computational Sequence Entries/s]\n",
            "  0%|          | 0/39 [00:00<?, ? Segments/s]\u001b[A\n",
            "Aligning 7JsX8y1ysxY:   0%|          | 0/39 [00:00<?, ? Segments/s]\u001b[A\n",
            "Aligning 7JsX8y1ysxY:  49%|████▊     | 19/39 [00:00<00:00, 186.28 Segments/s]\u001b[A\n",
            "Aligning 7JsX8y1ysxY:  97%|█████████▋| 38/39 [00:00<00:00, 186.01 Segments/s]\u001b[A\n",
            "Overall Progress:  12%|█▏        | 11/92 [00:01<00:12,  6.74 Computational Sequence Entries/s]\n",
            "  0%|          | 0/23 [00:00<?, ? Segments/s]\u001b[A\n",
            "Aligning 8OtFthrtaJM:   0%|          | 0/23 [00:00<?, ? Segments/s]\u001b[A\n",
            "Aligning 8OtFthrtaJM:  78%|███████▊  | 18/23 [00:00<00:00, 179.21 Segments/s]\u001b[A\n",
            "Overall Progress:  13%|█▎        | 12/92 [00:01<00:11,  6.78 Computational Sequence Entries/s]\n",
            "  0%|          | 0/30 [00:00<?, ? Segments/s]\u001b[A\n",
            "Aligning 8d-gEyoeBzc:   0%|          | 0/30 [00:00<?, ? Segments/s]\u001b[A\n",
            "Aligning 8d-gEyoeBzc:  60%|██████    | 18/30 [00:00<00:00, 178.12 Segments/s]\u001b[A\n",
            "Overall Progress:  14%|█▍        | 13/92 [00:01<00:12,  6.40 Computational Sequence Entries/s]\n",
            "  0%|          | 0/26 [00:00<?, ? Segments/s]\u001b[A\n",
            "Aligning 8qrpnFRGt2A:   0%|          | 0/26 [00:00<?, ? Segments/s]\u001b[A\n",
            "Aligning 8qrpnFRGt2A:  65%|██████▌   | 17/26 [00:00<00:00, 168.14 Segments/s]\u001b[A\n",
            "Overall Progress:  15%|█▌        | 14/92 [00:02<00:12,  6.20 Computational Sequence Entries/s]\n",
            "  0%|          | 0/25 [00:00<?, ? Segments/s]\u001b[A\n",
            "Aligning 9J25DZhivz8:   0%|          | 0/25 [00:00<?, ? Segments/s]\u001b[A\n",
            "Aligning 9J25DZhivz8:  72%|███████▏  | 18/25 [00:00<00:00, 175.43 Segments/s]\u001b[A\n",
            "Overall Progress:  16%|█▋        | 15/92 [00:02<00:12,  6.18 Computational Sequence Entries/s]\n",
            "  0%|          | 0/25 [00:00<?, ? Segments/s]\u001b[A\n",
            "Aligning 9T9Hf74oK10:   0%|          | 0/25 [00:00<?, ? Segments/s]\u001b[A\n",
            "Aligning 9T9Hf74oK10:  68%|██████▊   | 17/25 [00:00<00:00, 156.11 Segments/s]\u001b[A\n",
            "Overall Progress:  17%|█▋        | 16/92 [00:02<00:12,  6.08 Computational Sequence Entries/s]\n",
            "  0%|          | 0/12 [00:00<?, ? Segments/s]\u001b[A\n",
            "Aligning 9c67fiY0wGQ:   0%|          | 0/12 [00:00<?, ? Segments/s]\u001b[A\n",
            "                                                                   \u001b[A\n",
            "  0%|          | 0/33 [00:00<?, ? Segments/s]\u001b[A\n",
            "Aligning 9qR7uwkblbs:   0%|          | 0/33 [00:00<?, ? Segments/s]\u001b[A\n",
            "Aligning 9qR7uwkblbs:  58%|█████▊    | 19/33 [00:00<00:00, 186.91 Segments/s]\u001b[A\n",
            "Overall Progress:  20%|█▉        | 18/92 [00:02<00:10,  6.81 Computational Sequence Entries/s]\n",
            "  0%|          | 0/31 [00:00<?, ? Segments/s]\u001b[A\n",
            "Aligning Af8D0E4ZXaw:   0%|          | 0/31 [00:00<?, ? Segments/s]\u001b[A\n",
            "Aligning Af8D0E4ZXaw:  61%|██████▏   | 19/31 [00:00<00:00, 185.51 Segments/s]\u001b[A\n",
            "Overall Progress:  21%|██        | 19/92 [00:02<00:11,  6.46 Computational Sequence Entries/s]\n",
            "  0%|          | 0/31 [00:00<?, ? Segments/s]\u001b[A\n",
            "Aligning BI97DNYfe5I:   0%|          | 0/31 [00:00<?, ? Segments/s]\u001b[A\n",
            "Aligning BI97DNYfe5I:  77%|███████▋  | 24/31 [00:00<00:00, 239.19 Segments/s]\u001b[A\n",
            "Overall Progress:  22%|██▏       | 20/92 [00:02<00:11,  6.54 Computational Sequence Entries/s]\n",
            "  0%|          | 0/31 [00:00<?, ? Segments/s]\u001b[A\n",
            "Aligning BXuRRbG0Ugk:   0%|          | 0/31 [00:00<?, ? Segments/s]\u001b[A\n",
            "Aligning BXuRRbG0Ugk:  58%|█████▊    | 18/31 [00:00<00:00, 175.01 Segments/s]\u001b[A\n",
            "Overall Progress:  23%|██▎       | 21/92 [00:03<00:11,  6.17 Computational Sequence Entries/s]\n",
            "  0%|          | 0/22 [00:00<?, ? Segments/s]\u001b[A\n",
            "Aligning Bfr499ggo-0:   0%|          | 0/22 [00:00<?, ? Segments/s]\u001b[A\n",
            "                                                                   \u001b[A\n",
            "  0%|          | 0/30 [00:00<?, ? Segments/s]\u001b[A\n",
            "Aligning BioHAh1qJAQ:   0%|          | 0/30 [00:00<?, ? Segments/s]\u001b[A\n",
            "Aligning BioHAh1qJAQ:  60%|██████    | 18/30 [00:00<00:00, 171.74 Segments/s]\u001b[A\n",
            "Overall Progress:  25%|██▌       | 23/92 [00:03<00:10,  6.55 Computational Sequence Entries/s]\n",
            "  0%|          | 0/26 [00:00<?, ? Segments/s]\u001b[A\n",
            "Aligning BvYR0L6f2Ig:   0%|          | 0/26 [00:00<?, ? Segments/s]\u001b[A\n",
            "Aligning BvYR0L6f2Ig:  73%|███████▎  | 19/26 [00:00<00:00, 187.43 Segments/s]\u001b[A\n",
            "Overall Progress:  26%|██▌       | 24/92 [00:03<00:10,  6.52 Computational Sequence Entries/s]\n",
            "  0%|          | 0/44 [00:00<?, ? Segments/s]\u001b[A\n",
            "Aligning Ci-AH39fi3Y:   0%|          | 0/44 [00:00<?, ? Segments/s]\u001b[A\n",
            "Aligning Ci-AH39fi3Y:  45%|████▌     | 20/44 [00:00<00:00, 191.79 Segments/s]\u001b[A\n",
            "Aligning Ci-AH39fi3Y:  91%|█████████ | 40/44 [00:00<00:00, 193.89 Segments/s]\u001b[A\n",
            "Overall Progress:  27%|██▋       | 25/92 [00:03<00:11,  5.68 Computational Sequence Entries/s]\n",
            "  0%|          | 0/31 [00:00<?, ? Segments/s]\u001b[A\n",
            "Aligning Clx4VXItLTE:   0%|          | 0/31 [00:00<?, ? Segments/s]\u001b[A\n",
            "Aligning Clx4VXItLTE:  61%|██████▏   | 19/31 [00:00<00:00, 185.74 Segments/s]\u001b[A\n",
            "Overall Progress:  28%|██▊       | 26/92 [00:03<00:11,  5.64 Computational Sequence Entries/s]\n",
            "  0%|          | 0/18 [00:00<?, ? Segments/s]\u001b[A\n",
            "Aligning Dg_0XKD0Mf4:   0%|          | 0/18 [00:00<?, ? Segments/s]\u001b[A\n",
            "Overall Progress:  29%|██▉       | 27/92 [00:04<00:10,  6.38 Computational Sequence Entries/s]\n",
            "  0%|          | 0/21 [00:00<?, ? Segments/s]\u001b[A\n",
            "Aligning G-xst2euQUc:   0%|          | 0/21 [00:00<?, ? Segments/s]\u001b[A\n",
            "Aligning G-xst2euQUc:  90%|█████████ | 19/21 [00:00<00:00, 183.57 Segments/s]\u001b[A\n",
            "Overall Progress:  30%|███       | 28/92 [00:04<00:09,  6.70 Computational Sequence Entries/s]\n",
            "  0%|          | 0/29 [00:00<?, ? Segments/s]\u001b[A\n",
            "Aligning G6GlGvlkxAQ:   0%|          | 0/29 [00:00<?, ? Segments/s]\u001b[A\n",
            "Aligning G6GlGvlkxAQ:  55%|█████▌    | 16/29 [00:00<00:00, 158.17 Segments/s]\u001b[A\n",
            "Overall Progress:  32%|███▏      | 29/92 [00:04<00:10,  6.19 Computational Sequence Entries/s]\n",
            "  0%|          | 0/18 [00:00<?, ? Segments/s]\u001b[A\n",
            "Aligning GWuJjcEuzt8:   0%|          | 0/18 [00:00<?, ? Segments/s]\u001b[A\n",
            "Overall Progress:  33%|███▎      | 30/92 [00:04<00:09,  6.75 Computational Sequence Entries/s]\n",
            "  0%|          | 0/34 [00:00<?, ? Segments/s]\u001b[A\n",
            "Aligning HEsqda8_d0Q:   0%|          | 0/34 [00:00<?, ? Segments/s]\u001b[A\n",
            "Aligning HEsqda8_d0Q:  53%|█████▎    | 18/34 [00:00<00:00, 178.45 Segments/s]\u001b[A\n",
            "Overall Progress:  34%|███▎      | 31/92 [00:04<00:09,  6.13 Computational Sequence Entries/s]\n",
            "  0%|          | 0/39 [00:00<?, ? Segments/s]\u001b[A\n",
            "Aligning I5y0__X72p0:   0%|          | 0/39 [00:00<?, ? Segments/s]\u001b[A\n",
            "Aligning I5y0__X72p0:  38%|███▊      | 15/39 [00:00<00:00, 144.80 Segments/s]\u001b[A\n",
            "Aligning I5y0__X72p0:  87%|████████▋ | 34/39 [00:00<00:00, 168.78 Segments/s]\u001b[A\n",
            "Overall Progress:  35%|███▍      | 32/92 [00:04<00:11,  5.28 Computational Sequence Entries/s]\n",
            "  0%|          | 0/16 [00:00<?, ? Segments/s]\u001b[A\n",
            "Aligning Iu2PFX3z_1s:   0%|          | 0/16 [00:00<?, ? Segments/s]\u001b[A\n",
            "                                                                   \u001b[A\n",
            "  0%|          | 0/22 [00:00<?, ? Segments/s]\u001b[A\n",
            "Aligning IumbAb8q2dM:   0%|          | 0/22 [00:00<?, ? Segments/s]\u001b[A\n",
            "Aligning IumbAb8q2dM:  95%|█████████▌| 21/22 [00:00<00:00, 202.39 Segments/s]\u001b[A\n",
            "Overall Progress:  37%|███▋      | 34/92 [00:05<00:08,  6.50 Computational Sequence Entries/s]\n",
            "  0%|          | 0/20 [00:00<?, ? Segments/s]\u001b[A\n",
            "Aligning Jkswaaud0hk:   0%|          | 0/20 [00:00<?, ? Segments/s]\u001b[A\n",
            "                                                                   \u001b[A\n",
            "  0%|          | 0/29 [00:00<?, ? Segments/s]\u001b[A\n",
            "Aligning LSi-o-IrDMs:   0%|          | 0/29 [00:00<?, ? Segments/s]\u001b[A\n",
            "Aligning LSi-o-IrDMs:  62%|██████▏   | 18/29 [00:00<00:00, 172.19 Segments/s]\u001b[A\n",
            "Overall Progress:  39%|███▉      | 36/92 [00:05<00:08,  6.77 Computational Sequence Entries/s]\n",
            "  0%|          | 0/18 [00:00<?, ? Segments/s]\u001b[A\n",
            "Aligning MLal-t_vJPM:   0%|          | 0/18 [00:00<?, ? Segments/s]\u001b[A\n",
            "Overall Progress:  40%|████      | 37/92 [00:05<00:07,  7.21 Computational Sequence Entries/s]\n",
            "  0%|          | 0/13 [00:00<?, ? Segments/s]\u001b[A\n",
            "Aligning Njd1F0vZSm4:   0%|          | 0/13 [00:00<?, ? Segments/s]\u001b[A\n",
            "                                                                   \u001b[A\n",
            "  0%|          | 0/32 [00:00<?, ? Segments/s]\u001b[A\n",
            "Aligning Nzq88NnDkEk:   0%|          | 0/32 [00:00<?, ? Segments/s]\u001b[A\n",
            "Aligning Nzq88NnDkEk:  59%|█████▉    | 19/32 [00:00<00:00, 180.95 Segments/s]\u001b[A\n",
            "Overall Progress:  42%|████▏     | 39/92 [00:05<00:07,  7.16 Computational Sequence Entries/s]\n",
            "  0%|          | 0/16 [00:00<?, ? Segments/s]\u001b[A\n",
            "Aligning OQvJTdtJ2H4:   0%|          | 0/16 [00:00<?, ? Segments/s]\u001b[A\n",
            "                                                                   \u001b[A\n",
            "  0%|          | 0/24 [00:00<?, ? Segments/s]\u001b[A\n",
            "Aligning OtBXNcAL_lE:   0%|          | 0/24 [00:00<?, ? Segments/s]\u001b[A\n",
            "Aligning OtBXNcAL_lE:  71%|███████   | 17/24 [00:00<00:00, 165.01 Segments/s]\u001b[A\n",
            "Overall Progress:  45%|████▍     | 41/92 [00:06<00:06,  7.42 Computational Sequence Entries/s]\n",
            "  0%|          | 0/25 [00:00<?, ? Segments/s]\u001b[A\n",
            "Aligning Oz06ZWiO20M:   0%|          | 0/25 [00:00<?, ? Segments/s]\u001b[A\n",
            "Aligning Oz06ZWiO20M:  52%|█████▏    | 13/25 [00:00<00:00, 128.61 Segments/s]\u001b[A\n",
            "Overall Progress:  46%|████▌     | 42/92 [00:06<00:07,  6.90 Computational Sequence Entries/s]\n",
            "  0%|          | 0/13 [00:00<?, ? Segments/s]\u001b[A\n",
            "Aligning POKffnXeBds:   0%|          | 0/13 [00:00<?, ? Segments/s]\u001b[A\n",
            "                                                                   \u001b[A\n",
            "  0%|          | 0/12 [00:00<?, ? Segments/s]\u001b[A\n",
            "Aligning PZ-lDQFboO8:   0%|          | 0/12 [00:00<?, ? Segments/s]\u001b[A\n",
            "Overall Progress:  48%|████▊     | 44/92 [00:06<00:05,  8.36 Computational Sequence Entries/s]\n",
            "  0%|          | 0/18 [00:00<?, ? Segments/s]\u001b[A\n",
            "Aligning QN9ZIUWUXsY:   0%|          | 0/18 [00:00<?, ? Segments/s]\u001b[A\n",
            "                                                                   \u001b[A\n",
            "  0%|          | 0/14 [00:00<?, ? Segments/s]\u001b[A\n",
            "Aligning Qr1Ca94K55A:   0%|          | 0/14 [00:00<?, ? Segments/s]\u001b[A\n",
            "Overall Progress:  50%|█████     | 46/92 [00:06<00:04,  9.63 Computational Sequence Entries/s]\n",
            "  0%|          | 0/22 [00:00<?, ? Segments/s]\u001b[A\n",
            "Aligning Sqr0AcuoNnk:   0%|          | 0/22 [00:00<?, ? Segments/s]\u001b[A\n",
            "                                                                   \u001b[A\n",
            "  0%|          | 0/15 [00:00<?, ? Segments/s]\u001b[A\n",
            "Aligning TvyZBvOMOTc:   0%|          | 0/15 [00:00<?, ? Segments/s]\u001b[A\n",
            "Overall Progress:  52%|█████▏    | 48/92 [00:06<00:04, 10.22 Computational Sequence Entries/s]\n",
            "  0%|          | 0/17 [00:00<?, ? Segments/s]\u001b[A\n",
            "Aligning VCslbP0mgZI:   0%|          | 0/17 [00:00<?, ? Segments/s]\u001b[A\n",
            "                                                                   \u001b[A\n",
            "  0%|          | 0/55 [00:00<?, ? Segments/s]\u001b[A\n",
            "Aligning VbQk4H8hgr0:   0%|          | 0/55 [00:00<?, ? Segments/s]\u001b[A\n",
            "Aligning VbQk4H8hgr0:  45%|████▌     | 25/55 [00:00<00:00, 247.64 Segments/s]\u001b[A\n",
            "Aligning VbQk4H8hgr0:  95%|█████████▍| 52/55 [00:00<00:00, 257.62 Segments/s]\u001b[A\n",
            "Overall Progress:  54%|█████▍    | 50/92 [00:07<00:05,  8.38 Computational Sequence Entries/s]\n",
            "  0%|          | 0/9 [00:00<?, ? Segments/s]\u001b[A\n",
            "Aligning Vj1wYRQjB-o:   0%|          | 0/9 [00:00<?, ? Segments/s]\u001b[A\n",
            "                                                                  \u001b[A\n",
            "  0%|          | 0/32 [00:00<?, ? Segments/s]\u001b[A\n",
            "Aligning W8NXH0Djyww:   0%|          | 0/32 [00:00<?, ? Segments/s]\u001b[A\n",
            "Aligning W8NXH0Djyww: 100%|██████████| 32/32 [00:00<00:00, 317.51 Segments/s]\u001b[A\n",
            "Overall Progress:  57%|█████▋    | 52/92 [00:07<00:04,  9.29 Computational Sequence Entries/s]\n",
            "  0%|          | 0/22 [00:00<?, ? Segments/s]\u001b[A\n",
            "Aligning WKA5OygbEKI:   0%|          | 0/22 [00:00<?, ? Segments/s]\u001b[A\n",
            "                                                                   \u001b[A\n",
            "  0%|          | 0/11 [00:00<?, ? Segments/s]\u001b[A\n",
            "Aligning X3j2zQgwYgE:   0%|          | 0/11 [00:00<?, ? Segments/s]\u001b[A\n",
            "Overall Progress:  59%|█████▊    | 54/92 [00:07<00:03, 10.13 Computational Sequence Entries/s]\n",
            "  0%|          | 0/9 [00:00<?, ? Segments/s]\u001b[A\n",
            "Aligning ZAIRrfG22O0:   0%|          | 0/9 [00:00<?, ? Segments/s]\u001b[A\n",
            "                                                                  \u001b[A\n",
            "  0%|          | 0/34 [00:00<?, ? Segments/s]\u001b[A\n",
            "Aligning ZUXBRvtny7o:   0%|          | 0/34 [00:00<?, ? Segments/s]\u001b[A\n",
            "Aligning ZUXBRvtny7o:  82%|████████▏ | 28/34 [00:00<00:00, 273.24 Segments/s]\u001b[A\n",
            "Overall Progress:  61%|██████    | 56/92 [00:07<00:03, 10.06 Computational Sequence Entries/s]\n",
            "  0%|          | 0/28 [00:00<?, ? Segments/s]\u001b[A\n",
            "Aligning _dI--eQ6qVU:   0%|          | 0/28 [00:00<?, ? Segments/s]\u001b[A\n",
            "Aligning _dI--eQ6qVU:  96%|█████████▋| 27/28 [00:00<00:00, 268.38 Segments/s]\u001b[A\n",
            "                                                                             \u001b[A\n",
            "  0%|          | 0/30 [00:00<?, ? Segments/s]\u001b[A\n",
            "Aligning aiEXnCPZubE:   0%|          | 0/30 [00:00<?, ? Segments/s]\u001b[A\n",
            "Aligning aiEXnCPZubE:  93%|█████████▎| 28/30 [00:00<00:00, 278.08 Segments/s]\u001b[A\n",
            "Overall Progress:  63%|██████▎   | 58/92 [00:07<00:03,  9.36 Computational Sequence Entries/s]\n",
            "  0%|          | 0/21 [00:00<?, ? Segments/s]\u001b[A\n",
            "Aligning atnd_PF-Lbs:   0%|          | 0/21 [00:00<?, ? Segments/s]\u001b[A\n",
            "                                                                   \u001b[A\n",
            "  0%|          | 0/34 [00:00<?, ? Segments/s]\u001b[A\n",
            "Aligning bOL9jKpeJRs:   0%|          | 0/34 [00:00<?, ? Segments/s]\u001b[A\n",
            "Aligning bOL9jKpeJRs:  94%|█████████▍| 32/34 [00:00<00:00, 312.36 Segments/s]\u001b[A\n",
            "Overall Progress:  65%|██████▌   | 60/92 [00:08<00:03,  9.32 Computational Sequence Entries/s]\n",
            "  0%|          | 0/25 [00:00<?, ? Segments/s]\u001b[A\n",
            "Aligning bvLlb-M3UXU:   0%|          | 0/25 [00:00<?, ? Segments/s]\u001b[A\n",
            "Overall Progress:  66%|██████▋   | 61/92 [00:08<00:03,  9.37 Computational Sequence Entries/s]\n",
            "  0%|          | 0/33 [00:00<?, ? Segments/s]\u001b[A\n",
            "Aligning c7UH_rxdZv4:   0%|          | 0/33 [00:00<?, ? Segments/s]\u001b[A\n",
            "Aligning c7UH_rxdZv4:  79%|███████▉  | 26/33 [00:00<00:00, 257.10 Segments/s]\u001b[A\n",
            "Overall Progress:  67%|██████▋   | 62/92 [00:08<00:03,  8.73 Computational Sequence Entries/s]\n",
            "  0%|          | 0/16 [00:00<?, ? Segments/s]\u001b[A\n",
            "Aligning cM3Yna7AavY:   0%|          | 0/16 [00:00<?, ? Segments/s]\u001b[A\n",
            "                                                                   \u001b[A\n",
            "  0%|          | 0/24 [00:00<?, ? Segments/s]\u001b[A\n",
            "Aligning cW1FSBF59ik:   0%|          | 0/24 [00:00<?, ? Segments/s]\u001b[A\n",
            "Aligning cW1FSBF59ik:  79%|███████▉  | 19/24 [00:00<00:00, 189.83 Segments/s]\u001b[A\n",
            "Overall Progress:  70%|██████▉   | 64/92 [00:08<00:03,  8.83 Computational Sequence Entries/s]\n",
            "  0%|          | 0/29 [00:00<?, ? Segments/s]\u001b[A\n",
            "Aligning cXypl4FnoZo:   0%|          | 0/29 [00:00<?, ? Segments/s]\u001b[A\n",
            "Aligning cXypl4FnoZo:  83%|████████▎ | 24/29 [00:00<00:00, 236.91 Segments/s]\u001b[A\n",
            "Overall Progress:  71%|███████   | 65/92 [00:08<00:03,  8.37 Computational Sequence Entries/s]\n",
            "  0%|          | 0/19 [00:00<?, ? Segments/s]\u001b[A\n",
            "Aligning d3_k5Xpfmik:   0%|          | 0/19 [00:00<?, ? Segments/s]\u001b[A\n",
            "                                                                   \u001b[A\n",
            "  0%|          | 0/43 [00:00<?, ? Segments/s]\u001b[A\n",
            "Aligning d6hH302o4v8:   0%|          | 0/43 [00:00<?, ? Segments/s]\u001b[A\n",
            "Aligning d6hH302o4v8:  79%|███████▉  | 34/43 [00:00<00:00, 337.41 Segments/s]\u001b[A\n",
            "Overall Progress:  73%|███████▎  | 67/92 [00:08<00:03,  8.25 Computational Sequence Entries/s]\n",
            "  0%|          | 0/15 [00:00<?, ? Segments/s]\u001b[A\n",
            "Aligning dq3Nf_lMPnE:   0%|          | 0/15 [00:00<?, ? Segments/s]\u001b[A\n",
            "                                                                   \u001b[A\n",
            "  0%|          | 0/19 [00:00<?, ? Segments/s]\u001b[A\n",
            "Aligning etzxEpPuc6I:   0%|          | 0/19 [00:00<?, ? Segments/s]\u001b[A\n",
            "Overall Progress:  75%|███████▌  | 69/92 [00:09<00:02,  9.37 Computational Sequence Entries/s]\n",
            "  0%|          | 0/30 [00:00<?, ? Segments/s]\u001b[A\n",
            "Aligning f9O3YtZ2VfI:   0%|          | 0/30 [00:00<?, ? Segments/s]\u001b[A\n",
            "Overall Progress:  76%|███████▌  | 70/92 [00:09<00:02,  9.31 Computational Sequence Entries/s]\n",
            "  0%|          | 0/15 [00:00<?, ? Segments/s]\u001b[A\n",
            "Aligning f_pcplsH_V0:   0%|          | 0/15 [00:00<?, ? Segments/s]\u001b[A\n",
            "                                                                   \u001b[A\n",
            "  0%|          | 0/14 [00:00<?, ? Segments/s]\u001b[A\n",
            "Aligning fvVhgmXxadc:   0%|          | 0/14 [00:00<?, ? Segments/s]\u001b[A\n",
            "Overall Progress:  78%|███████▊  | 72/92 [00:09<00:01, 10.56 Computational Sequence Entries/s]\n",
            "  0%|          | 0/18 [00:00<?, ? Segments/s]\u001b[A\n",
            "Aligning iiK8YX8oH1E:   0%|          | 0/18 [00:00<?, ? Segments/s]\u001b[A\n",
            "                                                                   \u001b[A\n",
            "  0%|          | 0/27 [00:00<?, ? Segments/s]\u001b[A\n",
            "Aligning jUzDDGyPkXU:   0%|          | 0/27 [00:00<?, ? Segments/s]\u001b[A\n",
            "Aligning jUzDDGyPkXU:  89%|████████▉ | 24/27 [00:00<00:00, 233.68 Segments/s]\u001b[A\n",
            "Overall Progress:  80%|████████  | 74/92 [00:09<00:01, 10.30 Computational Sequence Entries/s]\n",
            "  0%|          | 0/31 [00:00<?, ? Segments/s]\u001b[A\n",
            "Aligning k5Y_838nuGo:   0%|          | 0/31 [00:00<?, ? Segments/s]\u001b[A\n",
            "Aligning k5Y_838nuGo:  84%|████████▍ | 26/31 [00:00<00:00, 249.95 Segments/s]\u001b[A\n",
            "                                                                             \u001b[A\n",
            "  0%|          | 0/30 [00:00<?, ? Segments/s]\u001b[A\n",
            "Aligning lXPQBPVc5Cw:   0%|          | 0/30 [00:00<?, ? Segments/s]\u001b[A\n",
            "Aligning lXPQBPVc5Cw:  80%|████████  | 24/30 [00:00<00:00, 235.10 Segments/s]\u001b[A\n",
            "Overall Progress:  83%|████████▎ | 76/92 [00:09<00:01,  8.95 Computational Sequence Entries/s]\n",
            "  0%|          | 0/10 [00:00<?, ? Segments/s]\u001b[A\n",
            "Aligning nbWiPyCm4g0:   0%|          | 0/10 [00:00<?, ? Segments/s]\u001b[A\n",
            "                                                                   \u001b[A\n",
            "  0%|          | 0/24 [00:00<?, ? Segments/s]\u001b[A\n",
            "Aligning nzpVDcQ0ywM:   0%|          | 0/24 [00:00<?, ? Segments/s]\u001b[A\n",
            "Overall Progress:  85%|████████▍ | 78/92 [00:10<00:01,  9.54 Computational Sequence Entries/s]\n",
            "  0%|          | 0/14 [00:00<?, ? Segments/s]\u001b[A\n",
            "Aligning ob23OKe5a9Q:   0%|          | 0/14 [00:00<?, ? Segments/s]\u001b[A\n",
            "                                                                   \u001b[A\n",
            "  0%|          | 0/16 [00:00<?, ? Segments/s]\u001b[A\n",
            "Aligning pLTX3ipuDJI:   0%|          | 0/16 [00:00<?, ? Segments/s]\u001b[A\n",
            "Overall Progress:  87%|████████▋ | 80/92 [00:10<00:01, 10.47 Computational Sequence Entries/s]\n",
            "  0%|          | 0/21 [00:00<?, ? Segments/s]\u001b[A\n",
            "Aligning phBUpBr1hSo:   0%|          | 0/21 [00:00<?, ? Segments/s]\u001b[A\n",
            "                                                                   \u001b[A\n",
            "  0%|          | 0/22 [00:00<?, ? Segments/s]\u001b[A\n",
            "Aligning rnaNMUZpvvg:   0%|          | 0/22 [00:00<?, ? Segments/s]\u001b[A\n",
            "Overall Progress:  89%|████████▉ | 82/92 [00:10<00:00, 10.22 Computational Sequence Entries/s]\n",
            "  0%|          | 0/18 [00:00<?, ? Segments/s]\u001b[A\n",
            "Aligning tIrG4oNLFzE:   0%|          | 0/18 [00:00<?, ? Segments/s]\u001b[A\n",
            "                                                                   \u001b[A\n",
            "  0%|          | 0/16 [00:00<?, ? Segments/s]\u001b[A\n",
            "Aligning tStelxIAHjw:   0%|          | 0/16 [00:00<?, ? Segments/s]\u001b[A\n",
            "Overall Progress:  91%|█████████▏| 84/92 [00:10<00:00, 10.74 Computational Sequence Entries/s]\n",
            "  0%|          | 0/20 [00:00<?, ? Segments/s]\u001b[A\n",
            "Aligning tmZoasNr4rU:   0%|          | 0/20 [00:00<?, ? Segments/s]\u001b[A\n",
            "                                                                   \u001b[A\n",
            "  0%|          | 0/16 [00:00<?, ? Segments/s]\u001b[A\n",
            "Aligning v0zCBqDeKcE:   0%|          | 0/16 [00:00<?, ? Segments/s]\u001b[A\n",
            "Overall Progress:  93%|█████████▎| 86/92 [00:10<00:00, 10.60 Computational Sequence Entries/s]\n",
            "  0%|          | 0/12 [00:00<?, ? Segments/s]\u001b[A\n",
            "Aligning vvZ4IcEtiZc:   0%|          | 0/12 [00:00<?, ? Segments/s]\u001b[A\n",
            "                                                                   \u001b[A\n",
            "  0%|          | 0/22 [00:00<?, ? Segments/s]\u001b[A\n",
            "Aligning vyB00TXsimI:   0%|          | 0/22 [00:00<?, ? Segments/s]\u001b[A\n",
            "Overall Progress:  96%|█████████▌| 88/92 [00:10<00:00, 10.89 Computational Sequence Entries/s]\n",
            "  0%|          | 0/30 [00:00<?, ? Segments/s]\u001b[A\n",
            "Aligning wMbj6ajWbic:   0%|          | 0/30 [00:00<?, ? Segments/s]\u001b[A\n",
            "Aligning wMbj6ajWbic:  90%|█████████ | 27/30 [00:00<00:00, 266.69 Segments/s]\u001b[A\n",
            "                                                                             \u001b[A\n",
            "  0%|          | 0/24 [00:00<?, ? Segments/s]\u001b[A\n",
            "Aligning yDtzw_Y-7RU:   0%|          | 0/24 [00:00<?, ? Segments/s]\u001b[A\n",
            "Aligning yDtzw_Y-7RU: 100%|██████████| 24/24 [00:00<00:00, 234.32 Segments/s]\u001b[A\n",
            "Overall Progress:  98%|█████████▊| 90/92 [00:11<00:00,  9.71 Computational Sequence Entries/s]\n",
            "  0%|          | 0/23 [00:00<?, ? Segments/s]\u001b[A\n",
            "Aligning yvsjCA6Y5Fc:   0%|          | 0/23 [00:00<?, ? Segments/s]\u001b[A\n",
            "                                                                   \u001b[A\n",
            "  0%|          | 0/35 [00:00<?, ? Segments/s]\u001b[A\n",
            "Aligning zhpQhgha_KU:   0%|          | 0/35 [00:00<?, ? Segments/s]\u001b[A\n",
            "Aligning zhpQhgha_KU:  69%|██████▊   | 24/35 [00:00<00:00, 237.79 Segments/s]\u001b[A\n"
          ]
        },
        {
          "output_type": "stream",
          "name": "stdout",
          "text": [
            "\u001b[92m\u001b[1m[2023-08-17 10:22:48.033] | Success | \u001b[0mAlignment to <Opinion Segment Labels> complete.\n",
            "\u001b[94m\u001b[1m[2023-08-17 10:22:48.033] | Status  | \u001b[0mReplacing dataset content with aligned computational sequences\n",
            "\u001b[92m\u001b[1m[2023-08-17 10:22:48.057] | Success | \u001b[0mInitialized empty <glove_vectors> computational sequence.\n",
            "\u001b[94m\u001b[1m[2023-08-17 10:22:48.057] | Status  | \u001b[0mChecking the format of the data in <glove_vectors> computational sequence ...\n"
          ]
        },
        {
          "output_type": "stream",
          "name": "stderr",
          "text": []
        },
        {
          "output_type": "stream",
          "name": "stdout",
          "text": [
            "\u001b[92m\u001b[1m[2023-08-17 10:22:48.074] | Success | \u001b[0m<glove_vectors> computational sequence data in correct format.\n",
            "\u001b[94m\u001b[1m[2023-08-17 10:22:48.074] | Status  | \u001b[0mChecking the format of the metadata in <glove_vectors> computational sequence ...\n",
            "\u001b[93m\u001b[1m[2023-08-17 10:22:48.075] | Warning | \u001b[0m<glove_vectors> computational sequence does not have all the required metadata ... continuing \n",
            "\u001b[92m\u001b[1m[2023-08-17 10:22:48.075] | Success | \u001b[0mInitialized empty <FACET_4.1> computational sequence.\n",
            "\u001b[94m\u001b[1m[2023-08-17 10:22:48.077] | Status  | \u001b[0mChecking the format of the data in <FACET_4.1> computational sequence ...\n"
          ]
        },
        {
          "output_type": "stream",
          "name": "stderr",
          "text": []
        },
        {
          "output_type": "stream",
          "name": "stdout",
          "text": [
            "\u001b[92m\u001b[1m[2023-08-17 10:22:48.091] | Success | \u001b[0m<FACET_4.1> computational sequence data in correct format.\n",
            "\u001b[94m\u001b[1m[2023-08-17 10:22:48.092] | Status  | \u001b[0mChecking the format of the metadata in <FACET_4.1> computational sequence ...\n",
            "\u001b[93m\u001b[1m[2023-08-17 10:22:48.092] | Warning | \u001b[0m<FACET_4.1> computational sequence does not have all the required metadata ... continuing \n",
            "\u001b[92m\u001b[1m[2023-08-17 10:22:48.092] | Success | \u001b[0mInitialized empty <FACET_4.2> computational sequence.\n",
            "\u001b[94m\u001b[1m[2023-08-17 10:22:48.092] | Status  | \u001b[0mChecking the format of the data in <FACET_4.2> computational sequence ...\n"
          ]
        },
        {
          "output_type": "stream",
          "name": "stderr",
          "text": []
        },
        {
          "output_type": "stream",
          "name": "stdout",
          "text": [
            "\u001b[92m\u001b[1m[2023-08-17 10:22:48.105] | Success | \u001b[0m<FACET_4.2> computational sequence data in correct format.\n",
            "\u001b[94m\u001b[1m[2023-08-17 10:22:48.105] | Status  | \u001b[0mChecking the format of the metadata in <FACET_4.2> computational sequence ...\n",
            "\u001b[93m\u001b[1m[2023-08-17 10:22:48.105] | Warning | \u001b[0m<FACET_4.2> computational sequence does not have all the required metadata ... continuing \n",
            "\u001b[92m\u001b[1m[2023-08-17 10:22:48.105] | Success | \u001b[0mInitialized empty <OpenSmile-emobase2010> computational sequence.\n",
            "\u001b[94m\u001b[1m[2023-08-17 10:22:48.105] | Status  | \u001b[0mChecking the format of the data in <OpenSmile-emobase2010> computational sequence ...\n"
          ]
        },
        {
          "output_type": "stream",
          "name": "stderr",
          "text": []
        },
        {
          "output_type": "stream",
          "name": "stdout",
          "text": [
            "\u001b[92m\u001b[1m[2023-08-17 10:22:48.118] | Success | \u001b[0m<OpenSmile-emobase2010> computational sequence data in correct format.\n",
            "\u001b[94m\u001b[1m[2023-08-17 10:22:48.119] | Status  | \u001b[0mChecking the format of the metadata in <OpenSmile-emobase2010> computational sequence ...\n",
            "\u001b[93m\u001b[1m[2023-08-17 10:22:48.119] | Warning | \u001b[0m<OpenSmile-emobase2010> computational sequence does not have all the required metadata ... continuing \n",
            "\u001b[92m\u001b[1m[2023-08-17 10:22:48.119] | Success | \u001b[0mInitialized empty <OpenSMILE> computational sequence.\n",
            "\u001b[94m\u001b[1m[2023-08-17 10:22:48.119] | Status  | \u001b[0mChecking the format of the data in <OpenSMILE> computational sequence ...\n"
          ]
        },
        {
          "output_type": "stream",
          "name": "stderr",
          "text": []
        },
        {
          "output_type": "stream",
          "name": "stdout",
          "text": [
            "\u001b[92m\u001b[1m[2023-08-17 10:22:48.138] | Success | \u001b[0m<OpenSMILE> computational sequence data in correct format.\n",
            "\u001b[94m\u001b[1m[2023-08-17 10:22:48.139] | Status  | \u001b[0mChecking the format of the metadata in <OpenSMILE> computational sequence ...\n",
            "\u001b[93m\u001b[1m[2023-08-17 10:22:48.139] | Warning | \u001b[0m<OpenSMILE> computational sequence does not have all the required metadata ... continuing \n",
            "\u001b[92m\u001b[1m[2023-08-17 10:22:48.139] | Success | \u001b[0mInitialized empty <OpenFace_1> computational sequence.\n",
            "\u001b[94m\u001b[1m[2023-08-17 10:22:48.139] | Status  | \u001b[0mChecking the format of the data in <OpenFace_1> computational sequence ...\n"
          ]
        },
        {
          "output_type": "stream",
          "name": "stderr",
          "text": []
        },
        {
          "output_type": "stream",
          "name": "stdout",
          "text": [
            "\u001b[92m\u001b[1m[2023-08-17 10:22:48.152] | Success | \u001b[0m<OpenFace_1> computational sequence data in correct format.\n",
            "\u001b[94m\u001b[1m[2023-08-17 10:22:48.152] | Status  | \u001b[0mChecking the format of the metadata in <OpenFace_1> computational sequence ...\n",
            "\u001b[93m\u001b[1m[2023-08-17 10:22:48.152] | Warning | \u001b[0m<OpenFace_1> computational sequence does not have all the required metadata ... continuing \n",
            "\u001b[92m\u001b[1m[2023-08-17 10:22:48.152] | Success | \u001b[0mInitialized empty <OpenFace_2> computational sequence.\n",
            "\u001b[94m\u001b[1m[2023-08-17 10:22:48.152] | Status  | \u001b[0mChecking the format of the data in <OpenFace_2> computational sequence ...\n"
          ]
        },
        {
          "output_type": "stream",
          "name": "stderr",
          "text": []
        },
        {
          "output_type": "stream",
          "name": "stdout",
          "text": [
            "\u001b[92m\u001b[1m[2023-08-17 10:22:48.161] | Success | \u001b[0m<OpenFace_2> computational sequence data in correct format.\n",
            "\u001b[94m\u001b[1m[2023-08-17 10:22:48.161] | Status  | \u001b[0mChecking the format of the metadata in <OpenFace_2> computational sequence ...\n",
            "\u001b[93m\u001b[1m[2023-08-17 10:22:48.161] | Warning | \u001b[0m<OpenFace_2> computational sequence does not have all the required metadata ... continuing \n",
            "\u001b[92m\u001b[1m[2023-08-17 10:22:48.161] | Success | \u001b[0mInitialized empty <COVAREP> computational sequence.\n",
            "\u001b[94m\u001b[1m[2023-08-17 10:22:48.161] | Status  | \u001b[0mChecking the format of the data in <COVAREP> computational sequence ...\n"
          ]
        },
        {
          "output_type": "stream",
          "name": "stderr",
          "text": []
        },
        {
          "output_type": "stream",
          "name": "stdout",
          "text": [
            "\u001b[92m\u001b[1m[2023-08-17 10:22:48.181] | Success | \u001b[0m<COVAREP> computational sequence data in correct format.\n",
            "\u001b[94m\u001b[1m[2023-08-17 10:22:48.182] | Status  | \u001b[0mChecking the format of the metadata in <COVAREP> computational sequence ...\n",
            "\u001b[93m\u001b[1m[2023-08-17 10:22:48.182] | Warning | \u001b[0m<COVAREP> computational sequence does not have all the required metadata ... continuing \n",
            "\u001b[92m\u001b[1m[2023-08-17 10:22:48.182] | Success | \u001b[0mInitialized empty <words> computational sequence.\n",
            "\u001b[94m\u001b[1m[2023-08-17 10:22:48.182] | Status  | \u001b[0mChecking the format of the data in <words> computational sequence ...\n"
          ]
        },
        {
          "output_type": "stream",
          "name": "stderr",
          "text": []
        },
        {
          "output_type": "stream",
          "name": "stdout",
          "text": [
            "\u001b[92m\u001b[1m[2023-08-17 10:22:48.199] | Success | \u001b[0m<words> computational sequence data in correct format.\n",
            "\u001b[94m\u001b[1m[2023-08-17 10:22:48.200] | Status  | \u001b[0mChecking the format of the metadata in <words> computational sequence ...\n",
            "\u001b[93m\u001b[1m[2023-08-17 10:22:48.200] | Warning | \u001b[0m<words> computational sequence does not have all the required metadata ... continuing \n",
            "\u001b[92m\u001b[1m[2023-08-17 10:22:48.200] | Success | \u001b[0mInitialized empty <phonemes> computational sequence.\n",
            "\u001b[94m\u001b[1m[2023-08-17 10:22:48.200] | Status  | \u001b[0mChecking the format of the data in <phonemes> computational sequence ...\n"
          ]
        },
        {
          "output_type": "stream",
          "name": "stderr",
          "text": []
        },
        {
          "output_type": "stream",
          "name": "stdout",
          "text": [
            "\u001b[92m\u001b[1m[2023-08-17 10:22:48.215] | Success | \u001b[0m<phonemes> computational sequence data in correct format.\n",
            "\u001b[94m\u001b[1m[2023-08-17 10:22:48.216] | Status  | \u001b[0mChecking the format of the metadata in <phonemes> computational sequence ...\n",
            "\u001b[93m\u001b[1m[2023-08-17 10:22:48.216] | Warning | \u001b[0m<phonemes> computational sequence does not have all the required metadata ... continuing \n",
            "\u001b[92m\u001b[1m[2023-08-17 10:22:48.216] | Success | \u001b[0mInitialized empty <Opinion Segment Labels> computational sequence.\n",
            "\u001b[94m\u001b[1m[2023-08-17 10:22:48.216] | Status  | \u001b[0mChecking the format of the data in <Opinion Segment Labels> computational sequence ...\n"
          ]
        },
        {
          "output_type": "stream",
          "name": "stderr",
          "text": []
        },
        {
          "output_type": "stream",
          "name": "stdout",
          "text": [
            "\u001b[92m\u001b[1m[2023-08-17 10:22:48.233] | Success | \u001b[0m<Opinion Segment Labels> computational sequence data in correct format.\n",
            "\u001b[94m\u001b[1m[2023-08-17 10:22:48.233] | Status  | \u001b[0mChecking the format of the metadata in <Opinion Segment Labels> computational sequence ...\n",
            "\u001b[93m\u001b[1m[2023-08-17 10:22:48.233] | Warning | \u001b[0m<Opinion Segment Labels> computational sequence does not have all the required metadata ... continuing \n"
          ]
        }
      ],
      "source": [
        "# Download CMU-MOSI dataset from the mmdatasdk package\n",
        "cmumosi_highlevel = mmdatasdk.mmdataset(mmdatasdk.cmu_mosi.highlevel, 'cmumosi/')\n",
        "cmumosi_highlevel.add_computational_sequences(mmdatasdk.cmu_mosi.raw, 'cmumosi/')\n",
        "cmumosi_highlevel.add_computational_sequences(mmdatasdk.cmu_mosi.labels,'cmumosi/')\n",
        "cmumosi_highlevel.align('Opinion Segment Labels')"
      ]
    },
    {
      "cell_type": "code",
      "execution_count": null,
      "metadata": {
        "colab": {
          "base_uri": "https://localhost:8080/"
        },
        "id": "c3LEKe4S-AWx",
        "outputId": "66ce151e-36f3-46c8-f300-5f634f84a68d"
      },
      "outputs": [
        {
          "output_type": "execute_result",
          "data": {
            "text/plain": [
              "dict_keys(['glove_vectors', 'FACET_4.1', 'FACET_4.2', 'OpenSmile-emobase2010', 'OpenSMILE', 'OpenFace_1', 'OpenFace_2', 'COVAREP', 'words', 'phonemes', 'Opinion Segment Labels'])"
            ]
          },
          "metadata": {},
          "execution_count": 9
        }
      ],
      "source": [
        "cmumosi_highlevel.keys()"
      ]
    },
    {
      "cell_type": "code",
      "execution_count": null,
      "metadata": {
        "colab": {
          "base_uri": "https://localhost:8080/",
          "height": 113,
          "referenced_widgets": [
            "5ef034b18d8546abb4d68a0dace56e2b",
            "bb23b72f075b445fbd388c00e894f2ad",
            "dd56b4c00b664d65900f32f5d5addc3d",
            "0ea496cd36b54cb1b714a0989464a263",
            "a39bbe2142f94757951949c928a50ffd",
            "164d23fc7dbd49b5a6cc8c574faf3cbc",
            "40940b57f20d440b8aa0c84c31526c75",
            "b16ea48e424c4d3987599c63f6d1ce07",
            "32277b14820045c2aed05cc7ae3ff2cb",
            "fafa5238a3cf4f76ac21c340ad43c06f",
            "b6970e51e03d441fb8c2fde7d540f3e5",
            "f09c725308784d4492a6f96d658313e6",
            "68d1d262ae5c4e7292af19dffe656166",
            "f1217ffc926f4d80b6c3bc0daf2e0995",
            "5578267bd1134cedaa94575c7f0b07a2",
            "d9d98d7b93ac470d8a4287df263cb670",
            "2b3ddc6f823c4eb98720a3336d73a2e7",
            "1d9bb03ffdc440529051929f63dc4041",
            "f2c2edb747514f75b61fe2d90541a1d7",
            "810939062ddc45839dff5c9837fe613d",
            "918b8c3c1baa4a66aedd20050ef0d6af",
            "c11b6dbb2e5940ba8eeeba898349c649",
            "b8c7b2a311ef4f68b19753e1ca1e8929",
            "4d16a73f435d4e73951d97a415fe838b",
            "8ff07d80c27e4a8d9a2fedcd24226ef8",
            "cb2cb1ac12d44de29388118c1af0b232",
            "4ce71543fefe4ffba6ce8a8c63fa6961",
            "2ff0d3382f3f49c3ab95b10adf48cc65",
            "4fce290ab2be42438169673901124557",
            "79edfd2134494312a49f1d515bca0dee",
            "2a54fbe067ef4494994674bc95e1aaac",
            "c05d0d6f18b044f991a1d3d610cf6455",
            "cc0f0e254c114972bd6741c563d7d9a3"
          ]
        },
        "id": "CQ5GLO0I-AWx",
        "outputId": "7ec897e4-ec04-4901-cf52-e915bcd562c6"
      },
      "outputs": [
        {
          "output_type": "display_data",
          "data": {
            "text/plain": [
              "Downloading (…)solve/main/vocab.txt:   0%|          | 0.00/232k [00:00<?, ?B/s]"
            ],
            "application/vnd.jupyter.widget-view+json": {
              "version_major": 2,
              "version_minor": 0,
              "model_id": "5ef034b18d8546abb4d68a0dace56e2b"
            }
          },
          "metadata": {}
        },
        {
          "output_type": "display_data",
          "data": {
            "text/plain": [
              "Downloading (…)okenizer_config.json:   0%|          | 0.00/28.0 [00:00<?, ?B/s]"
            ],
            "application/vnd.jupyter.widget-view+json": {
              "version_major": 2,
              "version_minor": 0,
              "model_id": "f09c725308784d4492a6f96d658313e6"
            }
          },
          "metadata": {}
        },
        {
          "output_type": "display_data",
          "data": {
            "text/plain": [
              "Downloading (…)lve/main/config.json:   0%|          | 0.00/570 [00:00<?, ?B/s]"
            ],
            "application/vnd.jupyter.widget-view+json": {
              "version_major": 2,
              "version_minor": 0,
              "model_id": "b8c7b2a311ef4f68b19753e1ca1e8929"
            }
          },
          "metadata": {}
        }
      ],
      "source": [
        "tokenizer = BertTokenizer.from_pretrained('bert-base-uncased')"
      ]
    },
    {
      "cell_type": "code",
      "execution_count": null,
      "metadata": {
        "id": "vdhXUiXO-AWx"
      },
      "outputs": [],
      "source": [
        "SEP = 'sp'\n",
        "RANDOM_SEED = 42\n",
        "\n",
        "class DataPreprocessor:\n",
        "  \"\"\"\n",
        "  A Processing class responsible for feature and label alignments according to WordPiece tokenization\n",
        "  \"\"\"\n",
        "    def __init__(self, cmumosi_highlevel, tokenizer: BertTokenizer, random_seed=RANDOM_SEED, split_size=0.2):\n",
        "        self.__cmumosi_highlevel = cmumosi_highlevel\n",
        "        self.__tokenizer = tokenizer\n",
        "        self.__random_seed = random_seed\n",
        "        self.__split_size = split_size\n",
        "\n",
        "    def __to_seq(self, df):\n",
        "        return list(df[['text', 'visual_features', 'label']].itertuples(index=False, name=None))\n",
        "\n",
        "    def __generate_labels_df(self):\n",
        "        labels_df = pd.DataFrame(self.__cmumosi_highlevel['Opinion Segment Labels'].data).T\n",
        "        labels_df.columns = ['intervals', 'label']\n",
        "        labels_df['t_start'] = labels_df['intervals'].apply(lambda x: x[0][0])\n",
        "        labels_df['t_end'] = labels_df['intervals'].apply(lambda x: x[0][1])\n",
        "        labels_df = labels_df.drop(columns='intervals')\n",
        "        labels_df['label'] = labels_df['label'].apply(lambda x: x[0][0])\n",
        "\n",
        "        return labels_df.reset_index().rename(columns={'index': 'sample_id'})\n",
        "\n",
        "    def __generate_language_modality(self) -> pd.DataFrame:\n",
        "        words_df = pd.DataFrame(self.__cmumosi_highlevel['words'].data).T.reset_index().rename(columns={'index': 'sample_id'})\n",
        "        words_df = words_df.explode(['features', 'intervals']).reset_index(drop=True)\n",
        "        words_df['word'] = words_df.features.apply(lambda x: x[0].decode('utf-8'))\n",
        "        words_df = words_df[words_df.word != SEP].reset_index().drop(columns=['index'])\n",
        "        words_df['t_start'] = words_df.intervals.apply(lambda x: x[0])\n",
        "        words_df['t_end'] = words_df.intervals.apply(lambda x: x[1])\n",
        "        words_df = words_df.drop(columns=['features', 'intervals'])\n",
        "\n",
        "        return words_df\n",
        "\n",
        "    def __generate_visual_modality(self) -> pd.DataFrame:\n",
        "        visual_modality = pd.DataFrame.from_records(self.__cmumosi_highlevel['OpenFace_1'].data).T\n",
        "        visual_modality = visual_modality.reset_index().rename(columns={'index': 'sample_id'})\n",
        "        visual_modality = visual_modality.explode(['intervals', 'features']).reset_index(drop=True)\n",
        "        visual_modality['t_start'] = visual_modality.intervals.apply(lambda x: float(x[0]))\n",
        "        visual_modality['t_end'] = visual_modality.intervals.apply(lambda x: float(x[1]))\n",
        "        visual_modality = visual_modality.drop(columns=['intervals'])\n",
        "        return visual_modality\n",
        "\n",
        "\n",
        "    def __generate_data(self) -> pd.DataFrame:\n",
        "        labels_df = self.__generate_labels_df()\n",
        "        language_modality = self.__generate_language_modality()\n",
        "        visual_modality = self.__generate_visual_modality()\n",
        "\n",
        "        # merge the dataframes and align according to word piece tokenization (BERT tokenizaition)\n",
        "        data = pd.merge(language_modality, visual_modality, on='sample_id')\n",
        "        data = data[(data.t_start_x <= data.t_start_y) & (data.t_end_x >= data.t_end_y)]\n",
        "        data = data.drop(columns=['t_start_y', 't_end_y']).rename(columns={'t_start_x': 't_start', 't_end_x': 't_end'})\n",
        "        data = data.groupby(['sample_id', 'word', 't_start', 't_end']).agg({'features': lambda x: np.mean(x)}).reset_index().sort_values(by=['sample_id', 't_start'])\n",
        "        data['text'] = data.groupby('sample_id')['word'].transform(lambda x: ' '.join(x))\n",
        "        data['bert_token'] = data.word.apply(lambda x: self.__tokenizer.encode(x, add_special_tokens=False))\n",
        "        data = data.explode('bert_token')\n",
        "        data = data.rename(columns={'features': 'visual_features'})\n",
        "        data = data.groupby('sample_id').agg({'text': lambda x: x.iloc[0], 'visual_features': lambda x: np.stack(x)}).reset_index()\n",
        "        data = pd.merge(data, labels_df, on='sample_id')\n",
        "\n",
        "        return data\n",
        "\n",
        "    def prepare_data(self):\n",
        "        \"\"\"\n",
        "        genrerates CMU-MOSI train, validation and tests datasets\n",
        "        @return:\n",
        "          - train        List[Tuple[str, ndarray, float]]\n",
        "          - validation   List[Tuple[str, ndarray, float]]\n",
        "          - test         List[Tuple[str, ndarray, float]]\n",
        "        \"\"\"\n",
        "        data_df = self.__generate_data()\n",
        "        train_df, test_df = train_test_split(data_df, test_size=self.__split_size, random_state=self.__random_seed)\n",
        "        train_df, val_df = train_test_split(train_df, test_size=self.__split_size, random_state=self.__random_seed)\n",
        "        return self.__to_seq(train_df), self.__to_seq(val_df), self.__to_seq(test_df)"
      ]
    },
    {
      "cell_type": "code",
      "execution_count": null,
      "metadata": {
        "id": "HHIYdaWF-AWy"
      },
      "outputs": [],
      "source": [
        "class CMUMOSIDataset(Dataset):\n",
        "    def __init__(self, data, tokenizer: BertTokenizer):\n",
        "        self.__data = data\n",
        "        self.__tokenizer = tokenizer\n",
        "\n",
        "    def __len__(self):\n",
        "        return len(self.__data)\n",
        "\n",
        "    def __getitem__(self, idx):\n",
        "        return self.__data[idx]\n",
        "\n",
        "    def collate_fn(self, batch):\n",
        "        language, visual, label = zip(*batch)\n",
        "        language = self.__tokenizer(language, padding=True, return_tensors=\"pt\")\n",
        "        visual = pad_sequence([FloatTensor(x) for x in visual], batch_first=True)\n",
        "        return language, visual, FloatTensor(label)"
      ]
    },
    {
      "cell_type": "code",
      "execution_count": null,
      "metadata": {
        "id": "RNpr2ocQ-AWy"
      },
      "outputs": [],
      "source": [
        "train, val, test = DataPreprocessor(cmumosi_highlevel, tokenizer).prepare_data()\n",
        "\n",
        "train_dataset = CMUMOSIDataset(train, tokenizer)\n",
        "val_dataset = CMUMOSIDataset(val, tokenizer)\n",
        "test_dataset = CMUMOSIDataset(test, tokenizer)\n",
        "\n",
        "train_dl = DataLoader(train_dataset, batch_size=32, shuffle=True, collate_fn=train_dataset.collate_fn)\n",
        "val_dl = DataLoader(val_dataset, batch_size=32, shuffle=False, collate_fn=val_dataset.collate_fn)\n",
        "test_dl = DataLoader(test_dataset, batch_size=32, shuffle=False, collate_fn=test_dataset.collate_fn)"
      ]
    },
    {
      "cell_type": "code",
      "execution_count": null,
      "metadata": {
        "colab": {
          "base_uri": "https://localhost:8080/",
          "height": 487
        },
        "id": "QCiPflOKyIIW",
        "outputId": "a249941d-2b72-4f3e-ba23-ee05600f5a79"
      },
      "outputs": [
        {
          "output_type": "display_data",
          "data": {
            "text/plain": [
              "<Figure size 1000x500 with 1 Axes>"
            ],
            "image/png": "[encoded data removed]"
          },
          "metadata": {}
        }
      ],
      "source": [
        "# plot train data label distribution\n",
        "_, ax = plt.subplots(figsize=(10, 5))\n",
        "train_df = pd.DataFrame(train, columns=['language', 'visual', 'label'])\n",
        "sns.histplot(data=train_df, x='label', ax=ax)\n",
        "ax.set(title='sentiment distribuion in train dataset');"
      ]
    },
    {
      "cell_type": "code",
      "source": [
        "print(f'{len(train_dataset)=}')\n",
        "print(f'{len(val_dataset)=}')\n",
        "print(f'{len(test_dataset)=}')"
      ],
      "metadata": {
        "colab": {
          "base_uri": "https://localhost:8080/"
        },
        "id": "fZTBjj0wSgn1",
        "outputId": "56eaa274-c467-4f3f-a635-e628f291bf8f"
      },
      "execution_count": null,
      "outputs": [
        {
          "output_type": "stream",
          "name": "stdout",
          "text": [
            "len(train_dataset)=1396\n",
            "len(val_dataset)=350\n",
            "len(test_dataset)=437\n"
          ]
        }
      ]
    },
    {
      "cell_type": "markdown",
      "metadata": {
        "id": "-W4p_ArEs_X-"
      },
      "source": [
        "<br></br>\n",
        "## MCTN Model"
      ]
    },
    {
      "cell_type": "code",
      "execution_count": null,
      "metadata": {
        "id": "iKLYbNDF-AWz"
      },
      "outputs": [],
      "source": [
        "class MCTNLosses(NamedTuple):\n",
        "    forward_translation_loss: FloatTensor = None\n",
        "    cycle_consistency_loss: FloatTensor = None\n",
        "    prediction_loss: FloatTensor = None\n",
        "\n",
        "\n",
        "class MCTNOuputs(NamedTuple):\n",
        "    prediction: FloatTensor\n",
        "    losses: MCTNLosses = None\n",
        "\n",
        "\n",
        "class MCTN(nn.Module):\n",
        "    def __init__(self, bert_model, t_hidden_size=430, n_decoder_layers=2):\n",
        "        super(MCTN, self).__init__()\n",
        "\n",
        "        s_hidden_size = bert_model.config.hidden_size\n",
        "        self.bert_model = bert_model\n",
        "        self.linear_ts = nn.Linear(t_hidden_size, s_hidden_size)\n",
        "        decoder_layer = nn.TransformerDecoderLayer(d_model=s_hidden_size, nhead=8, batch_first=True)\n",
        "        self.decoder = nn.TransformerDecoder(decoder_layer, num_layers=n_decoder_layers)\n",
        "        self.sentiment_regressor = nn.Sequential(\n",
        "            nn.Dropout(0.1),\n",
        "            nn.Linear(s_hidden_size, 1)\n",
        "        )\n",
        "\n",
        "        self.lt_loss = nn.SmoothL1Loss()\n",
        "        self.lc_loss = nn.SmoothL1Loss()\n",
        "        self.pred_loss = nn.MSELoss()\n",
        "\n",
        "\n",
        "    def forward(self, language, visual=None, label=None):\n",
        "        if visual is None:\n",
        "            return self._inference(language, label)\n",
        "\n",
        "        # forward translation\n",
        "        outputs_s = self.bert_model(**language)\n",
        "        Hst = outputs_s.last_hidden_state\n",
        "        Xt = self.linear_ts(visual)\n",
        "        Xt_hat = self.decoder(Xt, Hst)\n",
        "\n",
        "        # backward translation\n",
        "        Hts = self.bert_model(inputs_embeds=Xt_hat, output_hidden_states=True).last_hidden_state\n",
        "        Xs = outputs_s.hidden_states[0]\n",
        "        Xs_hat = self.decoder(Xs, Hts)\n",
        "\n",
        "        # sentiment prediction\n",
        "        pred = self.sentiment_regressor(Hst[:, 0, :]).squeeze()\n",
        "        outputs = MCTNOuputs(pred)\n",
        "\n",
        "        if label is not None:\n",
        "            lt = self.lt_loss(Xt_hat, Xt)       # forward translation loss\n",
        "            lc = self.lc_loss(Xs_hat, Xs)       # cycle consistency loss\n",
        "            ls = self.pred_loss(pred, label)    # prediction loss\n",
        "            losses = MCTNLosses(lt, lc, ls)\n",
        "            outputs = MCTNOuputs(pred, losses)\n",
        "\n",
        "        return outputs\n",
        "\n",
        "    def _inference(self, language, label=None):\n",
        "        \"to be used during textual inference (no acoustic modality)\"\n",
        "        outputs_s = self.bert_model(**language)\n",
        "        pred = self.sentiment_regressor(outputs_s.last_hidden_state[:, 0, :]).squeeze()\n",
        "        outputs = MCTNOuputs(pred)\n",
        "\n",
        "        if label is not None:\n",
        "            ls = self.pred_loss(pred, label)    # prediction loss\n",
        "            losses = MCTNLosses(prediction_loss=ls)\n",
        "            outputs = MCTNOuputs(pred, losses)\n",
        "\n",
        "        return outputs"
      ]
    },
    {
      "cell_type": "markdown",
      "source": [
        "<br></br>\n",
        "## Training"
      ],
      "metadata": {
        "id": "8Wq6nXBGWx63"
      }
    },
    {
      "cell_type": "code",
      "execution_count": null,
      "metadata": {
        "id": "vkbTJ8Dk-AWz"
      },
      "outputs": [],
      "source": [
        "class Trainer:\n",
        "    def __init__(self, model, train_dl, val_dl, optimizer, lambda_t=1, lambda_c=1):\n",
        "        self.__model = model\n",
        "        self.__train_dl = train_dl\n",
        "        self.__val_dl = val_dl\n",
        "        self.__optimizer = optimizer\n",
        "        self.__lambda_t = lambda_t\n",
        "        self.__lambda_c = lambda_c\n",
        "\n",
        "\n",
        "    @property\n",
        "    def model(self):\n",
        "        return self.__model\n",
        "\n",
        "\n",
        "    def __forward_single_batch(self, language, visual, label):\n",
        "        language, visual, label = language.to(DEVICE), visual.to(DEVICE), label.to(DEVICE)\n",
        "        outputs = self.__model(language, visual, label)\n",
        "        losses = outputs.losses\n",
        "        loss = losses.forward_translation_loss * self.__lambda_t + losses.cycle_consistency_loss * self.__lambda_c + losses.prediction_loss\n",
        "        return outputs, loss\n",
        "\n",
        "\n",
        "    def __run_epoch(self, dl, train: bool):\n",
        "        if train:\n",
        "            self.__model.train()\n",
        "            desc = \"Training\"\n",
        "        else:\n",
        "            self.__model.eval()\n",
        "            desc = \"Evaluating\"\n",
        "\n",
        "        epoch_losses = []\n",
        "        mctn_losses = []\n",
        "        with tqdm(total=len(dl), desc=desc, leave=False) as pbar:\n",
        "            for idx, (language, visual, label) in enumerate(dl):\n",
        "                if train:\n",
        "                    self.__optimizer.zero_grad()\n",
        "\n",
        "                outputs, loss = self.__forward_single_batch(language, visual, label)\n",
        "\n",
        "                if train:\n",
        "                    loss.backward()\n",
        "                    self.__optimizer.step()\n",
        "\n",
        "                epoch_losses.append(loss.item())\n",
        "                mctn_losses.append(tuple([x.item() for x in outputs.losses]))\n",
        "\n",
        "                if idx % 5 == 0:\n",
        "                    pbar.set_postfix({\"loss\": epoch_losses[-1]})\n",
        "                pbar.update(1)\n",
        "\n",
        "        return np.mean(epoch_losses), np.array(mctn_losses).mean(axis=0)\n",
        "\n",
        "\n",
        "    def train(self, epochs=10):\n",
        "        train_losses = []\n",
        "        mctn_train_losses = []\n",
        "        val_losses = []\n",
        "        mctn_val_losses = []\n",
        "\n",
        "        for epoch in range(epochs):\n",
        "            epoch_loss, mctn_loss = self.__run_epoch(self.__train_dl, train=True)\n",
        "            train_losses.append(epoch_loss)\n",
        "            mctn_train_losses.append(mctn_loss)\n",
        "\n",
        "            with no_grad():\n",
        "                epoch_loss, mctn_loss = self.__run_epoch(self.__val_dl, train=False)\n",
        "                val_losses.append(epoch_loss)\n",
        "                mctn_val_losses.append(mctn_loss)\n",
        "\n",
        "            print(f\"Epoch {epoch+1}/{epochs} | Train loss: {train_losses[-1]} | Train MCTN loss: {mctn_train_losses[-1]} | Val loss: {val_losses[-1]} | Val MCTN loss: {mctn_val_losses[-1]}\")\n",
        "\n",
        "        return train_losses, mctn_train_losses, val_losses, mctn_val_losses\n",
        "\n",
        "\n",
        "    def evaluate(self, dl):\n",
        "        return self.__run_epoch(dl, train=False)\n",
        "\n",
        "\n",
        "    def evaluate_language(self, dl) -> float:\n",
        "        self.__model.eval()\n",
        "        losses = []\n",
        "        with no_grad(), tqdm(total=len(dl), desc=\"Evaluating\", leave=False) as pbar:\n",
        "            for idx, (language, label) in enumerate(dl):\n",
        "                language, label = language.to(DEVICE), label.to(DEVICE)\n",
        "                outputs = self.__model(language=language, label=label)\n",
        "                losses.append(outputs.losses.prediction_loss.item())\n",
        "                pbar.update(1)\n",
        "\n",
        "        return np.mean(losses)"
      ]
    },
    {
      "cell_type": "code",
      "execution_count": null,
      "metadata": {
        "id": "uzFcolR--AW0"
      },
      "outputs": [],
      "source": [
        "def plot_train_results(mctn_train_losses, mctn_val_losses, title_suffix=''):\n",
        "    cols = [\"forward_translation_loss\", \"cycle_consistency_loss\", \"prediction_loss\"]\n",
        "    train_mctn_losses_df = pd.DataFrame(mctn_train_losses, columns=cols)\n",
        "    val_mctn_losses_df = pd.DataFrame(mctn_val_losses, columns=cols)\n",
        "\n",
        "    _, ax = plt.subplots(1, 3, figsize=(20, 5))\n",
        "    for i, loss in enumerate(cols):\n",
        "        sns.lineplot(data=train_mctn_losses_df[loss], ax=ax[i], label=\"train\")\n",
        "        sns.lineplot(data=val_mctn_losses_df[loss], ax=ax[i], label=\"val\")\n",
        "        ax[i].set_title(loss + ' ' + title_suffix)\n",
        "        ax[i].set_xlabel(\"Epoch\")\n",
        "        ax[i].set_ylabel(\"Loss\")"
      ]
    },
    {
      "cell_type": "code",
      "execution_count": null,
      "metadata": {
        "id": "OsuLDupIc7yu"
      },
      "outputs": [],
      "source": [
        "def run_experiment(lt, lc, epochs=10) -> Trainer:\n",
        "  tokenizer = BertTokenizer.from_pretrained('bert-base-uncased')\n",
        "  bert_model = BertModel.from_pretrained('bert-base-uncased', output_hidden_states = True)\n",
        "  mctn = MCTN(bert_model).to(DEVICE)\n",
        "  optimizer = Adam(mctn.parameters(), lr=1e-5)\n",
        "\n",
        "  trainer = Trainer(mctn, train_dl, val_dl, optimizer, lambda_t=lt, lambda_c=lc)\n",
        "  train_losses, mctn_train_losses, val_losses, mctn_val_losses = trainer.train(epochs=epochs)\n",
        "  plot_train_results(mctn_train_losses, mctn_val_losses, title_suffix=f'{lt=}, {lc=}')\n",
        "\n",
        "  test_loss, test_mctn_losses = trainer.evaluate(test_dl)\n",
        "  print(f'{test_loss=}, {test_mctn_losses=}')\n",
        "\n",
        "  return trainer"
      ]
    },
    {
      "cell_type": "markdown",
      "source": [
        "<br></br>\n",
        "### Running serveral experiments with multiple hyperparameters"
      ],
      "metadata": {
        "id": "L4fodUtZW8MD"
      }
    },
    {
      "cell_type": "code",
      "execution_count": null,
      "metadata": {
        "id": "GiHktJLkbE0n"
      },
      "outputs": [],
      "source": [
        "trainers = {}\n",
        "\n",
        "for lt, lc in [\n",
        "    (0.5, 0.5),\n",
        "    (0.2, 0.8),\n",
        "    (0.8, 0.2),\n",
        "    (1, 0),\n",
        "    (0, 1),\n",
        "    (0, 0)\n",
        "  ]:\n",
        "  trainers[(lt, lc)] = run_experiment(lt, lc, epochs=20)"
      ]
    },
    {
      "cell_type": "markdown",
      "source": [
        "<br></br>\n",
        "## MCTN candidate VS Baseline Model"
      ],
      "metadata": {
        "id": "ArxyzO0EXbav"
      }
    },
    {
      "cell_type": "code",
      "execution_count": null,
      "metadata": {
        "colab": {
          "base_uri": "https://localhost:8080/",
          "height": 1000,
          "referenced_widgets": [
            "d4d99bb24c3b4cc0b5720132ba61613e",
            "f770db76e1ba499fa8307ca75be5dae2",
            "d12eb52c676f4070a97fbb833e8a53ed",
            "2e39bbec31924d2ebe9d5c54bb2ab8f4",
            "c38a03b8292d4f73be4f193e7d958a40",
            "ab678a72ef0e452293e01edfd9eb44f6",
            "570cb4d9fa104db680b9f51954a1d1d8",
            "85e7c6d1bd334202a8954e4db7224693",
            "e1ed97f75d9c48729da6cd53efc88d63",
            "5253f6599b6a4fafa4ecd9abb5a89f1d",
            "1c663f0912a54d8d8219f82e6d11b918"
          ]
        },
        "id": "H-Qr0IVhhHNu",
        "outputId": "d8d67246-4a4b-4e9b-c34e-247e8c6bd881"
      },
      "outputs": [
        {
          "output_type": "display_data",
          "data": {
            "text/plain": [
              "Downloading model.safetensors:   0%|          | 0.00/440M [00:00<?, ?B/s]"
            ],
            "application/vnd.jupyter.widget-view+json": {
              "version_major": 2,
              "version_minor": 0,
              "model_id": "d4d99bb24c3b4cc0b5720132ba61613e"
            }
          },
          "metadata": {}
        },
        {
          "output_type": "stream",
          "name": "stderr",
          "text": []
        },
        {
          "output_type": "stream",
          "name": "stdout",
          "text": [
            "Epoch 1/40 | Train loss: 18.60145367275585 | Train MCTN loss: [32.41856753  0.18477133  2.29978428] | Val loss: 14.967029918323863 | Val MCTN loss: [26.47692091  0.16114747  1.64799606]\n"
          ]
        },
        {
          "output_type": "stream",
          "name": "stderr",
          "text": []
        },
        {
          "output_type": "stream",
          "name": "stdout",
          "text": [
            "Epoch 2/40 | Train loss: 13.725397305055099 | Train MCTN loss: [24.75912129  0.15126555  1.27020397] | Val loss: 11.407771717418324 | Val MCTN loss: [20.42971819  0.13962274  1.12310127]\n"
          ]
        },
        {
          "output_type": "stream",
          "name": "stderr",
          "text": []
        },
        {
          "output_type": "stream",
          "name": "stdout",
          "text": [
            "Epoch 3/40 | Train loss: 10.068976640701294 | Train MCTN loss: [18.44257283  0.13290932  0.78123559] | Val loss: 9.057029247283936 | Val MCTN loss: [15.58556643  0.11913889  1.20467653]\n"
          ]
        },
        {
          "output_type": "stream",
          "name": "stderr",
          "text": []
        },
        {
          "output_type": "stream",
          "name": "stdout",
          "text": [
            "Epoch 4/40 | Train loss: 7.508538002317602 | Train MCTN loss: [13.82360917  0.11469538  0.5393858 ] | Val loss: 7.262638828971169 | Val MCTN loss: [11.94154124  0.09926737  1.24223463]\n"
          ]
        },
        {
          "output_type": "stream",
          "name": "stderr",
          "text": []
        },
        {
          "output_type": "stream",
          "name": "stdout",
          "text": [
            "Epoch 5/40 | Train loss: 5.782094180583954 | Train MCTN loss: [10.65467811  0.0979874   0.40576149] | Val loss: 5.831411144950173 | Val MCTN loss: [9.24824689 0.08335455 1.16561039]\n"
          ]
        },
        {
          "output_type": "stream",
          "name": "stderr",
          "text": []
        },
        {
          "output_type": "stream",
          "name": "stdout",
          "text": [
            "Epoch 6/40 | Train loss: 4.507484652779319 | Train MCTN loss: [8.32709458 0.08434809 0.30176332] | Val loss: 5.045749599283392 | Val MCTN loss: [7.41373682 0.06982864 1.30396688]\n"
          ]
        },
        {
          "output_type": "stream",
          "name": "stderr",
          "text": []
        },
        {
          "output_type": "stream",
          "name": "stdout",
          "text": [
            "Epoch 7/40 | Train loss: 3.863706447861411 | Train MCTN loss: [7.17089553 0.07337897 0.24156921] | Val loss: 4.232531547546387 | Val MCTN loss: [6.09299222 0.05817617 1.15694739]\n"
          ]
        },
        {
          "output_type": "stream",
          "name": "stderr",
          "text": []
        },
        {
          "output_type": "stream",
          "name": "stdout",
          "text": [
            "Epoch 8/40 | Train loss: 3.112175101583654 | Train MCTN loss: [5.79191047 0.06396777 0.18423595] | Val loss: 3.7701002901250664 | Val MCTN loss: [5.16741967 0.05263566 1.16007267]\n"
          ]
        },
        {
          "output_type": "stream",
          "name": "stderr",
          "text": []
        },
        {
          "output_type": "stream",
          "name": "stdout",
          "text": [
            "Epoch 9/40 | Train loss: 2.652383354577151 | Train MCTN loss: [4.91661455 0.0605225  0.16381482] | Val loss: 3.4500650492581455 | Val MCTN loss: [4.55468191 0.05114304 1.14715261]\n"
          ]
        },
        {
          "output_type": "stream",
          "name": "stderr",
          "text": []
        },
        {
          "output_type": "stream",
          "name": "stdout",
          "text": [
            "Epoch 10/40 | Train loss: 2.4077666483142157 | Train MCTN loss: [4.45137222 0.05888175 0.15263968] | Val loss: 3.203039841218428 | Val MCTN loss: [4.09872313 0.05024162 1.1285575 ]\n"
          ]
        },
        {
          "output_type": "stream",
          "name": "stderr",
          "text": []
        },
        {
          "output_type": "stream",
          "name": "stdout",
          "text": [
            "Epoch 11/40 | Train loss: 2.1783546547998083 | Train MCTN loss: [4.02265147 0.05745389 0.13830194] | Val loss: 3.02651554887945 | Val MCTN loss: [3.75118505 0.04946431 1.12619088]\n"
          ]
        },
        {
          "output_type": "stream",
          "name": "stderr",
          "text": []
        },
        {
          "output_type": "stream",
          "name": "stdout",
          "text": [
            "Epoch 12/40 | Train loss: 2.002657577395439 | Train MCTN loss: [3.72273636 0.05640179 0.11308849] | Val loss: 2.8651175932450728 | Val MCTN loss: [3.456277   0.04879116 1.11258348]\n"
          ]
        },
        {
          "output_type": "stream",
          "name": "stderr",
          "text": []
        },
        {
          "output_type": "stream",
          "name": "stdout",
          "text": [
            "Epoch 13/40 | Train loss: 1.8942022201689808 | Train MCTN loss: [3.48503244 0.05565693 0.12385755] | Val loss: 2.755190134048462 | Val MCTN loss: [3.20937419 0.04816839 1.12641889]\n"
          ]
        },
        {
          "output_type": "stream",
          "name": "stderr",
          "text": []
        },
        {
          "output_type": "stream",
          "name": "stdout",
          "text": [
            "Epoch 14/40 | Train loss: 1.7655468813397668 | Train MCTN loss: [3.25188024 0.05467799 0.11226776] | Val loss: 2.6408375176516445 | Val MCTN loss: [2.99186954 0.04762507 1.12109025]\n"
          ]
        },
        {
          "output_type": "stream",
          "name": "stderr",
          "text": []
        },
        {
          "output_type": "stream",
          "name": "stdout",
          "text": [
            "Epoch 15/40 | Train loss: 1.6449251242659308 | Train MCTN loss: [3.02938389 0.0540036  0.10323138] | Val loss: 2.492892200296575 | Val MCTN loss: [2.80679336 0.04693173 1.06602958]\n"
          ]
        },
        {
          "output_type": "stream",
          "name": "stderr",
          "text": []
        },
        {
          "output_type": "stream",
          "name": "stdout",
          "text": [
            "Epoch 16/40 | Train loss: 1.5515798804434864 | Train MCTN loss: [2.86348519 0.05319255 0.09324102] | Val loss: 2.450670350681652 | Val MCTN loss: [2.62890224 0.046264   1.11308725]\n"
          ]
        },
        {
          "output_type": "stream",
          "name": "stderr",
          "text": []
        },
        {
          "output_type": "stream",
          "name": "stdout",
          "text": [
            "Epoch 17/40 | Train loss: 1.4795325168154456 | Train MCTN loss: [2.73570411 0.05245159 0.08545468] | Val loss: 2.347211946140636 | Val MCTN loss: [2.47368727 0.04558811 1.08757422]\n"
          ]
        },
        {
          "output_type": "stream",
          "name": "stderr",
          "text": []
        },
        {
          "output_type": "stream",
          "name": "stdout",
          "text": [
            "Epoch 18/40 | Train loss: 1.4465665966272354 | Train MCTN loss: [2.64030654 0.05195248 0.10043709] | Val loss: 2.224609916860407 | Val MCTN loss: [2.32309521 0.04472276 1.04070091]\n"
          ]
        },
        {
          "output_type": "stream",
          "name": "stderr",
          "text": []
        },
        {
          "output_type": "stream",
          "name": "stdout",
          "text": [
            "Epoch 19/40 | Train loss: 1.273662656545639 | Train MCTN loss: [2.3190878  0.05055131 0.08884309] | Val loss: 2.2037347230044277 | Val MCTN loss: [2.19356533 0.04378675 1.08505869]\n"
          ]
        },
        {
          "output_type": "stream",
          "name": "stderr",
          "text": []
        },
        {
          "output_type": "stream",
          "name": "stdout",
          "text": [
            "Epoch 20/40 | Train loss: 1.2365547161210666 | Train MCTN loss: [2.25942482 0.04967859 0.08200302] | Val loss: 2.107497800480236 | Val MCTN loss: [2.07203035 0.04253602 1.05021464]\n"
          ]
        },
        {
          "output_type": "stream",
          "name": "stderr",
          "text": []
        },
        {
          "output_type": "stream",
          "name": "stdout",
          "text": [
            "Epoch 21/40 | Train loss: 1.1575391617688267 | Train MCTN loss: [2.11202324 0.04850721 0.07727394] | Val loss: 2.0349911668083887 | Val MCTN loss: [1.9579441  0.04091433 1.03556198]\n"
          ]
        },
        {
          "output_type": "stream",
          "name": "stderr",
          "text": []
        },
        {
          "output_type": "stream",
          "name": "stdout",
          "text": [
            "Epoch 22/40 | Train loss: 1.0600787529891187 | Train MCTN loss: [1.92197277 0.0465007  0.07584202] | Val loss: 2.007439201528376 | Val MCTN loss: [1.85525287 0.03868348 1.06047104]\n"
          ]
        },
        {
          "output_type": "stream",
          "name": "stderr",
          "text": []
        },
        {
          "output_type": "stream",
          "name": "stdout",
          "text": [
            "Epoch 23/40 | Train loss: 1.0206449743021617 | Train MCTN loss: [1.85458053 0.04454145 0.07108398] | Val loss: 1.9432160529223355 | Val MCTN loss: [1.7587793  0.03614279 1.045755  ]\n"
          ]
        },
        {
          "output_type": "stream",
          "name": "stderr",
          "text": []
        },
        {
          "output_type": "stream",
          "name": "stdout",
          "text": [
            "Epoch 24/40 | Train loss: 1.0049088935960422 | Train MCTN loss: [1.81949965 0.04332919 0.07349447] | Val loss: 1.889325813813643 | Val MCTN loss: [1.66789553 0.03570696 1.03752459]\n"
          ]
        },
        {
          "output_type": "stream",
          "name": "stderr",
          "text": []
        },
        {
          "output_type": "stream",
          "name": "stdout",
          "text": [
            "Epoch 25/40 | Train loss: 0.9349025481126525 | Train MCTN loss: [1.69200638 0.04267881 0.06755995] | Val loss: 1.8473255742679944 | Val MCTN loss: [1.57555426 0.03531975 1.04188858]\n"
          ]
        },
        {
          "output_type": "stream",
          "name": "stderr",
          "text": []
        },
        {
          "output_type": "stream",
          "name": "stdout",
          "text": [
            "Epoch 26/40 | Train loss: 0.9160456948659637 | Train MCTN loss: [1.64911487 0.04248786 0.07024433] | Val loss: 1.8140238523483276 | Val MCTN loss: [1.49458998 0.03508339 1.04918717]\n"
          ]
        },
        {
          "output_type": "stream",
          "name": "stderr",
          "text": []
        },
        {
          "output_type": "stream",
          "name": "stdout",
          "text": [
            "Epoch 27/40 | Train loss: 0.850966827435927 | Train MCTN loss: [1.53546432 0.04192047 0.06227443] | Val loss: 1.7585579373619773 | Val MCTN loss: [1.41768318 0.0349046  1.03226405]\n"
          ]
        },
        {
          "output_type": "stream",
          "name": "stderr",
          "text": []
        },
        {
          "output_type": "stream",
          "name": "stdout",
          "text": [
            "Epoch 28/40 | Train loss: 0.7827160175551068 | Train MCTN loss: [1.39988948 0.04146245 0.06204006] | Val loss: 1.713921611959284 | Val MCTN loss: [1.34538084 0.03469516 1.02388363]\n"
          ]
        },
        {
          "output_type": "stream",
          "name": "stderr",
          "text": []
        },
        {
          "output_type": "stream",
          "name": "stdout",
          "text": [
            "Epoch 29/40 | Train loss: 0.779257217591459 | Train MCTN loss: [1.38323792 0.04135838 0.06695907] | Val loss: 1.6711579452861438 | Val MCTN loss: [1.28155537 0.03466498 1.01304779]\n"
          ]
        },
        {
          "output_type": "stream",
          "name": "stderr",
          "text": []
        },
        {
          "output_type": "stream",
          "name": "stdout",
          "text": [
            "Epoch 30/40 | Train loss: 0.7237942239100282 | Train MCTN loss: [1.27931407 0.04091198 0.06368119] | Val loss: 1.6405669992620295 | Val MCTN loss: [1.21912428 0.03438167 1.01381404]\n"
          ]
        },
        {
          "output_type": "stream",
          "name": "stderr",
          "text": []
        },
        {
          "output_type": "stream",
          "name": "stdout",
          "text": [
            "Epoch 31/40 | Train loss: 0.6985937600786035 | Train MCTN loss: [1.24938181 0.04084903 0.05347834] | Val loss: 1.5908975492824207 | Val MCTN loss: [1.16071269 0.03422853 0.99342693]\n"
          ]
        },
        {
          "output_type": "stream",
          "name": "stderr",
          "text": []
        },
        {
          "output_type": "stream",
          "name": "stdout",
          "text": [
            "Epoch 32/40 | Train loss: 0.6788213835521177 | Train MCTN loss: [1.20754929 0.04060577 0.05474386] | Val loss: 1.5749584328044544 | Val MCTN loss: [1.10702651 0.03405627 1.00441703]\n"
          ]
        },
        {
          "output_type": "stream",
          "name": "stderr",
          "text": []
        },
        {
          "output_type": "stream",
          "name": "stdout",
          "text": [
            "Epoch 33/40 | Train loss: 0.6289795887741175 | Train MCTN loss: [1.10741327 0.04013668 0.05520461] | Val loss: 1.5505354621193626 | Val MCTN loss: [1.06089776 0.03394291 1.00311514]\n"
          ]
        },
        {
          "output_type": "stream",
          "name": "stderr",
          "text": []
        },
        {
          "output_type": "stream",
          "name": "stdout",
          "text": [
            "Epoch 34/40 | Train loss: 0.6077624098821119 | Train MCTN loss: [1.07318653 0.04007186 0.05113321] | Val loss: 1.5315118594603105 | Val MCTN loss: [1.01036619 0.03387018 1.00939369]\n"
          ]
        },
        {
          "output_type": "stream",
          "name": "stderr",
          "text": []
        },
        {
          "output_type": "stream",
          "name": "stdout",
          "text": [
            "Epoch 35/40 | Train loss: 0.5790267796678976 | Train MCTN loss: [1.01923151 0.03963873 0.04959167] | Val loss: 1.510102477940646 | Val MCTN loss: [0.96555276 0.03374689 1.01045264]\n"
          ]
        },
        {
          "output_type": "stream",
          "name": "stderr",
          "text": []
        },
        {
          "output_type": "stream",
          "name": "stdout",
          "text": [
            "Epoch 36/40 | Train loss: 0.5470530980012633 | Train MCTN loss: [0.95599026 0.03936041 0.04937776] | Val loss: 1.5022384903647683 | Val MCTN loss: [0.92216802 0.03364328 1.02433284]\n"
          ]
        },
        {
          "output_type": "stream",
          "name": "stderr",
          "text": []
        },
        {
          "output_type": "stream",
          "name": "stdout",
          "text": [
            "Epoch 37/40 | Train loss: 0.5362392095002261 | Train MCTN loss: [0.9348146  0.03923195 0.04921594] | Val loss: 1.4578165791251443 | Val MCTN loss: [0.88550374 0.03358827 0.99827057]\n"
          ]
        },
        {
          "output_type": "stream",
          "name": "stderr",
          "text": []
        },
        {
          "output_type": "stream",
          "name": "stdout",
          "text": [
            "Epoch 38/40 | Train loss: 0.5226967036724091 | Train MCTN loss: [0.9080719  0.03912165 0.04909992] | Val loss: 1.4346116781234741 | Val MCTN loss: [0.84527659 0.03346734 0.99523971]\n"
          ]
        },
        {
          "output_type": "stream",
          "name": "stderr",
          "text": []
        },
        {
          "output_type": "stream",
          "name": "stdout",
          "text": [
            "Epoch 39/40 | Train loss: 0.49262274463068356 | Train MCTN loss: [0.85098856 0.03887789 0.04768952] | Val loss: 1.4041255658323115 | Val MCTN loss: [0.80703384 0.03332004 0.98394864]\n"
          ]
        },
        {
          "output_type": "stream",
          "name": "stderr",
          "text": []
        },
        {
          "output_type": "stream",
          "name": "stdout",
          "text": [
            "Epoch 40/40 | Train loss: 0.46763597801327705 | Train MCTN loss: [0.79847949 0.0385511  0.04912068] | Val loss: 1.3872364542701028 | Val MCTN loss: [0.77477634 0.03328883 0.98320387]\n"
          ]
        },
        {
          "output_type": "stream",
          "name": "stderr",
          "text": []
        },
        {
          "output_type": "stream",
          "name": "stdout",
          "text": [
            "test_loss=1.3723670967987605, test_mctn_losses=array([0.89356356, 0.03357751, 0.90879658])\n"
          ]
        },
        {
          "output_type": "display_data",
          "data": {
            "text/plain": [
              "<Figure size 2000x500 with 3 Axes>"
            ],
            "image/png": "[encoded data removed]"
          },
          "metadata": {}
        }
      ],
      "source": [
        "mctn_trainer = run_experiment(0.5, 0.5, epochs=40)"
      ]
    },
    {
      "cell_type": "code",
      "source": [
        "baseline_trainer = run_experiment(0, 0, epochs=40)"
      ],
      "metadata": {
        "colab": {
          "base_uri": "https://localhost:8080/",
          "height": 1000
        },
        "id": "hyu6gfFAc5Zi",
        "outputId": "4a46ad0e-d7ec-4a42-9b3a-e7168bc2a57f"
      },
      "execution_count": null,
      "outputs": [
        {
          "output_type": "stream",
          "name": "stderr",
          "text": []
        },
        {
          "output_type": "stream",
          "name": "stdout",
          "text": [
            "Epoch 1/40 | Train loss: 2.3185652060942217 | Train MCTN loss: [33.92559979  0.23593497  2.31856521] | Val loss: 1.6754578893834895 | Val MCTN loss: [32.05036892  0.24622472  1.67545789]\n"
          ]
        },
        {
          "output_type": "stream",
          "name": "stderr",
          "text": []
        },
        {
          "output_type": "stream",
          "name": "stdout",
          "text": [
            "Epoch 2/40 | Train loss: 1.3187588940967212 | Train MCTN loss: [32.44992432  0.24304975  1.31875889] | Val loss: 1.149267386306416 | Val MCTN loss: [32.05547957  0.25082549  1.14926739]\n"
          ]
        },
        {
          "output_type": "stream",
          "name": "stderr",
          "text": []
        },
        {
          "output_type": "stream",
          "name": "stdout",
          "text": [
            "Epoch 3/40 | Train loss: 0.8416582318869504 | Train MCTN loss: [32.66052498  0.24415058  0.84165823] | Val loss: 1.1069325858896428 | Val MCTN loss: [32.05614888  0.25157412  1.10693259]\n"
          ]
        },
        {
          "output_type": "stream",
          "name": "stderr",
          "text": []
        },
        {
          "output_type": "stream",
          "name": "stdout",
          "text": [
            "Epoch 4/40 | Train loss: 0.575781484219161 | Train MCTN loss: [34.87977839  0.24341399  0.57578148] | Val loss: 1.0840318365530535 | Val MCTN loss: [32.05523057  0.25201547  1.08403184]\n"
          ]
        },
        {
          "output_type": "stream",
          "name": "stderr",
          "text": []
        },
        {
          "output_type": "stream",
          "name": "stdout",
          "text": [
            "Epoch 5/40 | Train loss: 0.40760884941978887 | Train MCTN loss: [31.96576164  0.24655635  0.40760885] | Val loss: 1.0248556462201206 | Val MCTN loss: [32.05540657  0.25228007  1.02485565]\n"
          ]
        },
        {
          "output_type": "stream",
          "name": "stderr",
          "text": []
        },
        {
          "output_type": "stream",
          "name": "stdout",
          "text": [
            "Epoch 6/40 | Train loss: 0.29508158937096596 | Train MCTN loss: [33.20575664  0.24549899  0.29508159] | Val loss: 1.0929995070804248 | Val MCTN loss: [32.05454098  0.25243125  1.09299951]\n"
          ]
        },
        {
          "output_type": "stream",
          "name": "stderr",
          "text": []
        },
        {
          "output_type": "stream",
          "name": "stdout",
          "text": [
            "Epoch 7/40 | Train loss: 0.22757531702518463 | Train MCTN loss: [33.38377151  0.24514955  0.22757532] | Val loss: 1.0183156024325977 | Val MCTN loss: [32.05506307  0.25190694  1.0183156 ]\n"
          ]
        },
        {
          "output_type": "stream",
          "name": "stderr",
          "text": []
        },
        {
          "output_type": "stream",
          "name": "stdout",
          "text": [
            "Epoch 8/40 | Train loss: 0.20242408849298954 | Train MCTN loss: [33.18938021  0.24492544  0.20242409] | Val loss: 1.0341240709478206 | Val MCTN loss: [32.05469652  0.25171016  1.03412407]\n"
          ]
        },
        {
          "output_type": "stream",
          "name": "stderr",
          "text": []
        },
        {
          "output_type": "stream",
          "name": "stdout",
          "text": [
            "Epoch 9/40 | Train loss: 0.17899211851710622 | Train MCTN loss: [32.96996867  0.24506341  0.17899212] | Val loss: 1.02024845643477 | Val MCTN loss: [32.05470917  0.25170418  1.02024846]\n"
          ]
        },
        {
          "output_type": "stream",
          "name": "stderr",
          "text": []
        },
        {
          "output_type": "stream",
          "name": "stdout",
          "text": [
            "Epoch 10/40 | Train loss: 0.1534615856680003 | Train MCTN loss: [33.20020292  0.24471655  0.15346159] | Val loss: 1.0230188911611384 | Val MCTN loss: [32.05478373  0.25140068  1.02301889]\n"
          ]
        },
        {
          "output_type": "stream",
          "name": "stderr",
          "text": []
        },
        {
          "output_type": "stream",
          "name": "stdout",
          "text": [
            "Epoch 11/40 | Train loss: 0.13293030595576222 | Train MCTN loss: [32.95580374  0.24487689  0.13293031] | Val loss: 0.9575579816644842 | Val MCTN loss: [32.05486766  0.25139798  0.95755798]\n"
          ]
        },
        {
          "output_type": "stream",
          "name": "stderr",
          "text": []
        },
        {
          "output_type": "stream",
          "name": "stdout",
          "text": [
            "Epoch 12/40 | Train loss: 0.1277307630939917 | Train MCTN loss: [33.47148156  0.24411719  0.12773076] | Val loss: 0.9959145079959523 | Val MCTN loss: [32.0546334   0.25145396  0.99591451]\n"
          ]
        },
        {
          "output_type": "stream",
          "name": "stderr",
          "text": []
        },
        {
          "output_type": "stream",
          "name": "stdout",
          "text": [
            "Epoch 13/40 | Train loss: 0.13060263713652437 | Train MCTN loss: [33.48225904  0.24404491  0.13060264] | Val loss: 1.0041952295736833 | Val MCTN loss: [32.05450908  0.25086124  1.00419523]\n"
          ]
        },
        {
          "output_type": "stream",
          "name": "stderr",
          "text": []
        },
        {
          "output_type": "stream",
          "name": "stdout",
          "text": [
            "Epoch 14/40 | Train loss: 0.12252270895987749 | Train MCTN loss: [32.60336176  0.24447921  0.12252271] | Val loss: 0.9811283620921049 | Val MCTN loss: [32.05446763  0.25133942  0.98112836]\n"
          ]
        },
        {
          "output_type": "stream",
          "name": "stderr",
          "text": []
        },
        {
          "output_type": "stream",
          "name": "stdout",
          "text": [
            "Epoch 15/40 | Train loss: 0.10430472276427528 | Train MCTN loss: [32.84989116  0.24446898  0.10430472] | Val loss: 0.9796179533004761 | Val MCTN loss: [32.05434765  0.25113779  0.97961795]\n"
          ]
        },
        {
          "output_type": "stream",
          "name": "stderr",
          "text": []
        },
        {
          "output_type": "stream",
          "name": "stdout",
          "text": [
            "Epoch 16/40 | Train loss: 0.09922965759919448 | Train MCTN loss: [31.70051217  0.24475059  0.09922966] | Val loss: 0.99808039448478 | Val MCTN loss: [32.05423043  0.25063116  0.99808039]\n"
          ]
        },
        {
          "output_type": "stream",
          "name": "stderr",
          "text": []
        },
        {
          "output_type": "stream",
          "name": "stdout",
          "text": [
            "Epoch 17/40 | Train loss: 0.10135048221458089 | Train MCTN loss: [31.7507404   0.24471783  0.10135048] | Val loss: 1.006067005070773 | Val MCTN loss: [32.05413298  0.25089117  1.00606701]\n"
          ]
        },
        {
          "output_type": "stream",
          "name": "stderr",
          "text": []
        },
        {
          "output_type": "stream",
          "name": "stdout",
          "text": [
            "Epoch 18/40 | Train loss: 0.1005982245233926 | Train MCTN loss: [32.66670741  0.24444322  0.10059822] | Val loss: 0.9856191169131886 | Val MCTN loss: [32.05457028  0.25118577  0.98561912]\n"
          ]
        },
        {
          "output_type": "stream",
          "name": "stderr",
          "text": []
        },
        {
          "output_type": "stream",
          "name": "stdout",
          "text": [
            "Epoch 19/40 | Train loss: 0.09143741378052668 | Train MCTN loss: [31.66317764  0.24476092  0.09143741] | Val loss: 0.9545752839608626 | Val MCTN loss: [32.05436707  0.25011491  0.95457528]\n"
          ]
        },
        {
          "output_type": "stream",
          "name": "stderr",
          "text": []
        },
        {
          "output_type": "stream",
          "name": "stdout",
          "text": [
            "Epoch 20/40 | Train loss: 0.08676555693488229 | Train MCTN loss: [32.96462072  0.24295663  0.08676556] | Val loss: 0.9731012420220808 | Val MCTN loss: [32.05427378  0.24964941  0.97310124]\n"
          ]
        },
        {
          "output_type": "stream",
          "name": "stderr",
          "text": []
        },
        {
          "output_type": "stream",
          "name": "stdout",
          "text": [
            "Epoch 21/40 | Train loss: 0.08303330008956519 | Train MCTN loss: [32.66355467  0.24275652  0.0830333 ] | Val loss: 0.953208175572482 | Val MCTN loss: [32.05401785  0.2494123   0.95320818]\n"
          ]
        },
        {
          "output_type": "stream",
          "name": "stderr",
          "text": []
        },
        {
          "output_type": "stream",
          "name": "stdout",
          "text": [
            "Epoch 22/40 | Train loss: 0.08478781106797131 | Train MCTN loss: [32.54651115  0.24318044  0.08478781] | Val loss: 0.9846555157141252 | Val MCTN loss: [32.05407125  0.24979218  0.98465552]\n"
          ]
        },
        {
          "output_type": "stream",
          "name": "stderr",
          "text": []
        },
        {
          "output_type": "stream",
          "name": "stdout",
          "text": [
            "Epoch 23/40 | Train loss: 0.0779305858198892 | Train MCTN loss: [31.34669026  0.24374197  0.07793059] | Val loss: 0.9804814132777128 | Val MCTN loss: [32.05371389  0.24937985  0.98048141]\n"
          ]
        },
        {
          "output_type": "stream",
          "name": "stderr",
          "text": []
        },
        {
          "output_type": "stream",
          "name": "stdout",
          "text": [
            "Epoch 24/40 | Train loss: 0.07345839877697555 | Train MCTN loss: [32.10973321  0.2430627   0.0734584 ] | Val loss: 0.9662587534297596 | Val MCTN loss: [32.05383838  0.24905262  0.96625875]\n"
          ]
        },
        {
          "output_type": "stream",
          "name": "stderr",
          "text": []
        },
        {
          "output_type": "stream",
          "name": "stdout",
          "text": [
            "Epoch 25/40 | Train loss: 0.07350477398457853 | Train MCTN loss: [33.31307504  0.24210571  0.07350477] | Val loss: 0.9624913551590659 | Val MCTN loss: [32.05390948  0.24908937  0.96249136]\n"
          ]
        },
        {
          "output_type": "stream",
          "name": "stderr",
          "text": []
        },
        {
          "output_type": "stream",
          "name": "stdout",
          "text": [
            "Epoch 26/40 | Train loss: 0.07062612101435661 | Train MCTN loss: [33.05475872  0.24205123  0.07062612] | Val loss: 0.9736809459599581 | Val MCTN loss: [32.05401108  0.24878979  0.97368095]\n"
          ]
        },
        {
          "output_type": "stream",
          "name": "stderr",
          "text": []
        },
        {
          "output_type": "stream",
          "name": "stdout",
          "text": [
            "Epoch 27/40 | Train loss: 0.06462951554832133 | Train MCTN loss: [33.481245    0.24202465  0.06462952] | Val loss: 0.9489703937010332 | Val MCTN loss: [32.05385208  0.2490597   0.94897039]\n"
          ]
        },
        {
          "output_type": "stream",
          "name": "stderr",
          "text": []
        },
        {
          "output_type": "stream",
          "name": "stdout",
          "text": [
            "Epoch 28/40 | Train loss: 0.0647584530101581 | Train MCTN loss: [32.51929431  0.24242786  0.06475845] | Val loss: 0.9582701921463013 | Val MCTN loss: [32.05358835  0.24883658  0.95827019]\n"
          ]
        },
        {
          "output_type": "stream",
          "name": "stderr",
          "text": []
        },
        {
          "output_type": "stream",
          "name": "stdout",
          "text": [
            "Epoch 29/40 | Train loss: 0.06776569673622196 | Train MCTN loss: [32.85567769  0.24167013  0.0677657 ] | Val loss: 0.9660392132672396 | Val MCTN loss: [32.05371891  0.24863001  0.96603921]\n"
          ]
        },
        {
          "output_type": "stream",
          "name": "stderr",
          "text": []
        },
        {
          "output_type": "stream",
          "name": "stdout",
          "text": [
            "Epoch 30/40 | Train loss: 0.06206904089247638 | Train MCTN loss: [33.14041957  0.24152593  0.06206904] | Val loss: 0.9458380233157765 | Val MCTN loss: [32.05357274  0.24840895  0.94583802]\n"
          ]
        },
        {
          "output_type": "stream",
          "name": "stderr",
          "text": []
        },
        {
          "output_type": "stream",
          "name": "stdout",
          "text": [
            "Epoch 31/40 | Train loss: 0.06456190897998484 | Train MCTN loss: [33.15812683  0.2412982   0.06456191] | Val loss: 0.9416032000021501 | Val MCTN loss: [32.0537014   0.24824023  0.9416032 ]\n"
          ]
        },
        {
          "output_type": "stream",
          "name": "stderr",
          "text": []
        },
        {
          "output_type": "stream",
          "name": "stdout",
          "text": [
            "Epoch 32/40 | Train loss: 0.057807776060971344 | Train MCTN loss: [32.36205355  0.24206578  0.05780778] | Val loss: 0.9429440173235807 | Val MCTN loss: [32.0538018   0.24863197  0.94294402]\n"
          ]
        },
        {
          "output_type": "stream",
          "name": "stderr",
          "text": []
        },
        {
          "output_type": "stream",
          "name": "stdout",
          "text": [
            "Epoch 33/40 | Train loss: 0.05976125555620952 | Train MCTN loss: [33.07458687  0.24151935  0.05976126] | Val loss: 0.9452213807539507 | Val MCTN loss: [32.05350616  0.24809346  0.94522138]\n"
          ]
        },
        {
          "output_type": "stream",
          "name": "stderr",
          "text": []
        },
        {
          "output_type": "stream",
          "name": "stdout",
          "text": [
            "Epoch 34/40 | Train loss: 0.06264960228211501 | Train MCTN loss: [32.76953281  0.24166724  0.0626496 ] | Val loss: 0.9586910984732888 | Val MCTN loss: [32.05374718  0.24808797  0.9586911 ]\n"
          ]
        },
        {
          "output_type": "stream",
          "name": "stderr",
          "text": []
        },
        {
          "output_type": "stream",
          "name": "stdout",
          "text": [
            "Epoch 35/40 | Train loss: 0.0559922129931775 | Train MCTN loss: [31.80996986  0.24176139  0.05599221] | Val loss: 0.9345864328471097 | Val MCTN loss: [32.05359077  0.24806856  0.93458643]\n"
          ]
        },
        {
          "output_type": "stream",
          "name": "stderr",
          "text": []
        },
        {
          "output_type": "stream",
          "name": "stdout",
          "text": [
            "Epoch 36/40 | Train loss: 0.05401289124380459 | Train MCTN loss: [32.26183722  0.24161179  0.05401289] | Val loss: 0.9223715717142279 | Val MCTN loss: [32.05355766  0.24790454  0.92237157]\n"
          ]
        },
        {
          "output_type": "stream",
          "name": "stderr",
          "text": []
        },
        {
          "output_type": "stream",
          "name": "stdout",
          "text": [
            "Epoch 37/40 | Train loss: 0.054676184388385576 | Train MCTN loss: [32.96865279  0.24090822  0.05467618] | Val loss: 0.9744737256656993 | Val MCTN loss: [32.05345917  0.24744054  0.97447373]\n"
          ]
        },
        {
          "output_type": "stream",
          "name": "stderr",
          "text": []
        },
        {
          "output_type": "stream",
          "name": "stdout",
          "text": [
            "Epoch 38/40 | Train loss: 0.05991679531606761 | Train MCTN loss: [32.34854198  0.24129624  0.0599168 ] | Val loss: 0.9424615068869158 | Val MCTN loss: [32.05347217  0.2473705   0.94246151]\n"
          ]
        },
        {
          "output_type": "stream",
          "name": "stderr",
          "text": []
        },
        {
          "output_type": "stream",
          "name": "stdout",
          "text": [
            "Epoch 39/40 | Train loss: 0.05444361349906434 | Train MCTN loss: [32.03384846  0.2410293   0.05444361] | Val loss: 0.9434714588251981 | Val MCTN loss: [32.05338669  0.24663759  0.94347146]\n"
          ]
        },
        {
          "output_type": "stream",
          "name": "stderr",
          "text": []
        },
        {
          "output_type": "stream",
          "name": "stdout",
          "text": [
            "Epoch 40/40 | Train loss: 0.055389727127145634 | Train MCTN loss: [32.4937704   0.24040139  0.05538973] | Val loss: 0.9407504526051608 | Val MCTN loss: [32.053442    0.24715488  0.94075045]\n"
          ]
        },
        {
          "output_type": "stream",
          "name": "stderr",
          "text": []
        },
        {
          "output_type": "stream",
          "name": "stdout",
          "text": [
            "test_loss=0.9602538602692741, test_mctn_losses=array([36.41992487,  0.24395236,  0.96025386])\n"
          ]
        },
        {
          "output_type": "display_data",
          "data": {
            "text/plain": [
              "<Figure size 2000x500 with 3 Axes>"
            ],
            "image/png": "[encoded data removed]"
          },
          "metadata": {}
        }
      ]
    },
    {
      "cell_type": "markdown",
      "source": [
        "<br></br>\n",
        "### Movies Dataset Evaluation"
      ],
      "metadata": {
        "id": "6VoZ6mTxXpvJ"
      }
    },
    {
      "cell_type": "code",
      "source": [
        "!gdown 1NjmsXhTjdAA6a-EZQSrgwkLU5RhOdvsK"
      ],
      "metadata": {
        "id": "GLpQuL4PWlm4",
        "colab": {
          "base_uri": "https://localhost:8080/"
        },
        "outputId": "358fbbad-9489-4baa-c297-683f5febeb17"
      },
      "execution_count": null,
      "outputs": [
        {
          "output_type": "stream",
          "name": "stdout",
          "text": [
            "Downloading...\n",
            "From: https://drive.google.com/uc?id=1NjmsXhTjdAA6a-EZQSrgwkLU5RhOdvsK\n",
            "To: /content/train.tsv\n",
            "100% 8.48M/8.48M [00:00<00:00, 52.1MB/s]\n"
          ]
        }
      ]
    },
    {
      "cell_type": "code",
      "source": [
        "def load_movies_data(path='/content/train.tsv'):\n",
        "  def _rescale(x, new_min, new_max):\n",
        "      old_min, old_max = np.min(x), np.max(x)\n",
        "      return (x - old_min) / (old_max - old_min) * (new_max - new_min) + new_min\n",
        "\n",
        "  _, ax = plt.subplots(1,2, figsize=(14,5))\n",
        "  movies_df = pd.read_csv(path, sep='\\t')\n",
        "  # rescale labels to the training data label distribution\n",
        "  movies_df['label'] = _rescale(movies_df.Sentiment, -3, 3)\n",
        "\n",
        "  movies_df['Sentiment'].hist(ax=ax[0])\n",
        "  ax[0].set(title='Raw sentiment distribution')\n",
        "  movies_df['label'].hist(ax=ax[1])\n",
        "  ax[1].set(title='Re-scaled sentiment distribution')\n",
        "\n",
        "  movies_seq = list(movies_df[['Phrase', 'label']].itertuples(index=False, name=None))\n",
        "  return movies_seq"
      ],
      "metadata": {
        "id": "7gzXH2d_dEJG"
      },
      "execution_count": null,
      "outputs": []
    },
    {
      "cell_type": "code",
      "source": [
        "class MoviesDataset(Dataset):\n",
        "    def __init__(self, data, tokenizer: BertTokenizer):\n",
        "        self.__data = data\n",
        "        self.__tokenizer = tokenizer\n",
        "\n",
        "    def __len__(self):\n",
        "        return len(self.__data)\n",
        "\n",
        "    def __getitem__(self, idx):\n",
        "        return self.__data[idx]\n",
        "\n",
        "    def collate_fn(self, batch):\n",
        "        language, label = zip(*batch)\n",
        "        language = self.__tokenizer(language, padding=True, return_tensors=\"pt\")\n",
        "        return language, FloatTensor(label)"
      ],
      "metadata": {
        "id": "Czwhgkr2e_Qd"
      },
      "execution_count": null,
      "outputs": []
    },
    {
      "cell_type": "code",
      "source": [
        "movies_seq = load_movies_data()\n",
        "movies_dataset = MoviesDataset(movies_seq, tokenizer)\n",
        "movies_dl = DataLoader(movies_dataset, batch_size=64, shuffle=False, collate_fn=movies_dataset.collate_fn)"
      ],
      "metadata": {
        "colab": {
          "base_uri": "https://localhost:8080/",
          "height": 468
        },
        "id": "GPDWfyOkfZd6",
        "outputId": "37b52d53-22a8-4aae-e2b9-5e9753605158"
      },
      "execution_count": null,
      "outputs": [
        {
          "output_type": "display_data",
          "data": {
            "text/plain": [
              "<Figure size 1400x500 with 2 Axes>"
            ],
            "image/png": "[encoded data removed]"
          },
          "metadata": {}
        }
      ]
    },
    {
      "cell_type": "code",
      "source": [
        "def evaluate(mctn: MCTN, text_dl):\n",
        "    mctn = mctn.to(DEVICE)\n",
        "    mctn.eval()\n",
        "    with no_grad(), tqdm(total=len(text_dl), desc=\"Evaluating\", leave=False) as pbar:\n",
        "        mse = MeanSquaredError().to(DEVICE)\n",
        "        r2 = R2Score().to(DEVICE)\n",
        "\n",
        "        for idx, (language, label) in enumerate(text_dl):\n",
        "            language, label = language.to(DEVICE), label.to(DEVICE)\n",
        "            outputs = mctn(language=language, label=label)\n",
        "\n",
        "            # clculate regression evalutation metrics\n",
        "            mse.update(outputs.prediction, label)\n",
        "            r2.update(outputs.prediction, label)\n",
        "\n",
        "            pbar.update(1)\n",
        "\n",
        "    return {\"mse\": mse.compute().item(), \"r2\": r2.compute().item()}"
      ],
      "metadata": {
        "id": "w5AwyY9Biqh1"
      },
      "execution_count": null,
      "outputs": []
    },
    {
      "cell_type": "code",
      "source": [
        "mctn_eval_results = evaluate(mctn_trainer.model, movies_dl)"
      ],
      "metadata": {
        "colab": {
          "base_uri": "https://localhost:8080/"
        },
        "id": "EzyctGzbhxjc",
        "outputId": "2829bcd7-dba3-46b7-b442-a059afcbf265"
      },
      "execution_count": null,
      "outputs": [
        {
          "output_type": "stream",
          "name": "stderr",
          "text": []
        }
      ]
    },
    {
      "cell_type": "code",
      "source": [
        "baseline_eval_results = evaluate(baseline_trainer.model, movies_dl)"
      ],
      "metadata": {
        "colab": {
          "base_uri": "https://localhost:8080/"
        },
        "id": "dYwyy0djUWH1",
        "outputId": "7dcc7bfe-2c71-47da-b1c5-b2c916a7827b"
      },
      "execution_count": null,
      "outputs": [
        {
          "output_type": "stream",
          "name": "stderr",
          "text": []
        }
      ]
    },
    {
      "cell_type": "code",
      "source": [
        "df = pd.DataFrame([mctn_eval_results, baseline_eval_results])\n",
        "df.index =['MCTN', 'baseline']"
      ],
      "metadata": {
        "id": "4qllfogIaffB"
      },
      "execution_count": null,
      "outputs": []
    },
    {
      "cell_type": "code",
      "source": [
        "df"
      ],
      "metadata": {
        "colab": {
          "base_uri": "https://localhost:8080/",
          "height": 112
        },
        "id": "Zy93xUxsiG0x",
        "outputId": "f30e448f-bdfc-4131-a701-3ecc06537e7e"
      },
      "execution_count": null,
      "outputs": [
        {
          "output_type": "execute_result",
          "data": {
            "text/plain": [
              "               mse        r2\n",
              "MCTN      1.051824  0.414871\n",
              "baseline  1.139170  0.366281"
            ],
            "text/html": [
              "\n",
              "\n",
              "  <div id=\"df-8686ea40-345f-479b-a27b-9854b82b3984\">\n",
              "    <div class=\"colab-df-container\">\n",
              "      <div>\n",
              "<style scoped>\n",
              "    .dataframe tbody tr th:only-of-type {\n",
              "        vertical-align: middle;\n",
              "    }\n",
              "\n",
              "    .dataframe tbody tr th {\n",
              "        vertical-align: top;\n",
              "    }\n",
              "\n",
              "    .dataframe thead th {\n",
              "        text-align: right;\n",
              "    }\n",
              "</style>\n",
              "<table border=\"1\" class=\"dataframe\">\n",
              "  <thead>\n",
              "    <tr style=\"text-align: right;\">\n",
              "      <th></th>\n",
              "      <th>mse</th>\n",
              "      <th>r2</th>\n",
              "    </tr>\n",
              "  </thead>\n",
              "  <tbody>\n",
              "    <tr>\n",
              "      <th>MCTN</th>\n",
              "      <td>1.051824</td>\n",
              "      <td>0.414871</td>\n",
              "    </tr>\n",
              "    <tr>\n",
              "      <th>baseline</th>\n",
              "      <td>1.139170</td>\n",
              "      <td>0.366281</td>\n",
              "    </tr>\n",
              "  </tbody>\n",
              "</table>\n",
              "</div>\n",
              "      <button class=\"colab-df-convert\" onclick=\"convertToInteractive('df-8686ea40-345f-479b-a27b-9854b82b3984')\"\n",
              "              title=\"Convert this dataframe to an interactive table.\"\n",
              "              style=\"display:none;\">\n",
              "\n",
              "  <svg xmlns=\"http://www.w3.org/2000/svg\" height=\"24px\"viewBox=\"0 0 24 24\"\n",
              "       width=\"24px\">\n",
              "    <path d=\"M0 0h24v24H0V0z\" fill=\"none\"/>\n",
              "    <path d=\"M18.56 5.44l.94 2.06.94-2.06 2.06-.94-2.06-.94-.94-2.06-.94 2.06-2.06.94zm-11 1L8.5 8.5l.94-2.06 2.06-.94-2.06-.94L8.5 2.5l-.94 2.06-2.06.94zm10 10l.94 2.06.94-2.06 2.06-.94-2.06-.94-.94-2.06-.94 2.06-2.06.94z\"/><path d=\"M17.41 7.96l-1.37-1.37c-.4-.4-.92-.59-1.43-.59-.52 0-1.04.2-1.43.59L10.3 9.45l-7.72 7.72c-.78.78-.78 2.05 0 2.83L4 21.41c.39.39.9.59 1.41.59.51 0 1.02-.2 1.41-.59l7.78-7.78 2.81-2.81c.8-.78.8-2.07 0-2.86zM5.41 20L4 18.59l7.72-7.72 1.47 1.35L5.41 20z\"/>\n",
              "  </svg>\n",
              "      </button>\n",
              "\n",
              "\n",
              "\n",
              "    <div id=\"df-4dea32a5-4df2-4484-879e-34b35e6918ab\">\n",
              "      <button class=\"colab-df-quickchart\" onclick=\"quickchart('df-4dea32a5-4df2-4484-879e-34b35e6918ab')\"\n",
              "              title=\"Suggest charts.\"\n",
              "              style=\"display:none;\">\n",
              "\n",
              "<svg xmlns=\"http://www.w3.org/2000/svg\" height=\"24px\"viewBox=\"0 0 24 24\"\n",
              "     width=\"24px\">\n",
              "    <g>\n",
              "        <path d=\"M19 3H5c-1.1 0-2 .9-2 2v14c0 1.1.9 2 2 2h14c1.1 0 2-.9 2-2V5c0-1.1-.9-2-2-2zM9 17H7v-7h2v7zm4 0h-2V7h2v10zm4 0h-2v-4h2v4z\"/>\n",
              "    </g>\n",
              "</svg>\n",
              "      </button>\n",
              "    </div>\n",
              "\n",
              "<style>\n",
              "  .colab-df-quickchart {\n",
              "    background-color: #E8F0FE;\n",
              "    border: none;\n",
              "    border-radius: 50%;\n",
              "    cursor: pointer;\n",
              "    display: none;\n",
              "    fill: #1967D2;\n",
              "    height: 32px;\n",
              "    padding: 0 0 0 0;\n",
              "    width: 32px;\n",
              "  }\n",
              "\n",
              "  .colab-df-quickchart:hover {\n",
              "    background-color: #E2EBFA;\n",
              "    box-shadow: 0px 1px 2px rgba(60, 64, 67, 0.3), 0px 1px 3px 1px rgba(60, 64, 67, 0.15);\n",
              "    fill: #174EA6;\n",
              "  }\n",
              "\n",
              "  [theme=dark] .colab-df-quickchart {\n",
              "    background-color: #3B4455;\n",
              "    fill: #D2E3FC;\n",
              "  }\n",
              "\n",
              "  [theme=dark] .colab-df-quickchart:hover {\n",
              "    background-color: #434B5C;\n",
              "    box-shadow: 0px 1px 3px 1px rgba(0, 0, 0, 0.15);\n",
              "    filter: drop-shadow(0px 1px 2px rgba(0, 0, 0, 0.3));\n",
              "    fill: #FFFFFF;\n",
              "  }\n",
              "</style>\n",
              "\n",
              "    <script>\n",
              "      async function quickchart(key) {\n",
              "        const containerElement = document.querySelector('#' + key);\n",
              "        const charts = await google.colab.kernel.invokeFunction(\n",
              "            'suggestCharts', [key], {});\n",
              "      }\n",
              "    </script>\n",
              "\n",
              "\n",
              "      <script>\n",
              "\n",
              "function displayQuickchartButton(domScope) {\n",
              "  let quickchartButtonEl =\n",
              "    domScope.querySelector('#df-4dea32a5-4df2-4484-879e-34b35e6918ab button.colab-df-quickchart');\n",
              "  quickchartButtonEl.style.display =\n",
              "    google.colab.kernel.accessAllowed ? 'block' : 'none';\n",
              "}\n",
              "\n",
              "        displayQuickchartButton(document);\n",
              "      </script>\n",
              "      <style>\n",
              "    .colab-df-container {\n",
              "      display:flex;\n",
              "      flex-wrap:wrap;\n",
              "      gap: 12px;\n",
              "    }\n",
              "\n",
              "    .colab-df-convert {\n",
              "      background-color: #E8F0FE;\n",
              "      border: none;\n",
              "      border-radius: 50%;\n",
              "      cursor: pointer;\n",
              "      display: none;\n",
              "      fill: #1967D2;\n",
              "      height: 32px;\n",
              "      padding: 0 0 0 0;\n",
              "      width: 32px;\n",
              "    }\n",
              "\n",
              "    .colab-df-convert:hover {\n",
              "      background-color: #E2EBFA;\n",
              "      box-shadow: 0px 1px 2px rgba(60, 64, 67, 0.3), 0px 1px 3px 1px rgba(60, 64, 67, 0.15);\n",
              "      fill: #174EA6;\n",
              "    }\n",
              "\n",
              "    [theme=dark] .colab-df-convert {\n",
              "      background-color: #3B4455;\n",
              "      fill: #D2E3FC;\n",
              "    }\n",
              "\n",
              "    [theme=dark] .colab-df-convert:hover {\n",
              "      background-color: #434B5C;\n",
              "      box-shadow: 0px 1px 3px 1px rgba(0, 0, 0, 0.15);\n",
              "      filter: drop-shadow(0px 1px 2px rgba(0, 0, 0, 0.3));\n",
              "      fill: #FFFFFF;\n",
              "    }\n",
              "  </style>\n",
              "\n",
              "      <script>\n",
              "        const buttonEl =\n",
              "          document.querySelector('#df-8686ea40-345f-479b-a27b-9854b82b3984 button.colab-df-convert');\n",
              "        buttonEl.style.display =\n",
              "          google.colab.kernel.accessAllowed ? 'block' : 'none';\n",
              "\n",
              "        async function convertToInteractive(key) {\n",
              "          const element = document.querySelector('#df-8686ea40-345f-479b-a27b-9854b82b3984');\n",
              "          const dataTable =\n",
              "            await google.colab.kernel.invokeFunction('convertToInteractive',\n",
              "                                                     [key], {});\n",
              "          if (!dataTable) return;\n",
              "\n",
              "          const docLinkHtml = 'Like what you see? Visit the ' +\n",
              "            '<a target=\"_blank\" href=https://colab.research.google.com/notebooks/data_table.ipynb>data table notebook</a>'\n",
              "            + ' to learn more about interactive tables.';\n",
              "          element.innerHTML = '';\n",
              "          dataTable['output_type'] = 'display_data';\n",
              "          await google.colab.output.renderOutput(dataTable, element);\n",
              "          const docLink = document.createElement('div');\n",
              "          docLink.innerHTML = docLinkHtml;\n",
              "          element.appendChild(docLink);\n",
              "        }\n",
              "      </script>\n",
              "    </div>\n",
              "  </div>\n"
            ]
          },
          "metadata": {},
          "execution_count": 30
        }
      ]
    }
  ],
  "metadata": {
    "accelerator": "GPU",
    "colab": {
      "provenance": [],
      "toc_visible": true
    },
    "kernelspec": {
      "display_name": "Python 3",
      "name": "python3"
    },
    "language_info": {
      "codemirror_mode": {
        "name": "ipython",
        "version": 3
      },
      "file_extension": ".py",
      "mimetype": "text/x-python",
      "name": "python",
      "nbconvert_exporter": "python",
      "pygments_lexer": "ipython3",
      "version": "3.9.17"
    },
    "widgets": {
      "application/vnd.jupyter.widget-state+json": {
        "5ef034b18d8546abb4d68a0dace56e2b": {
          "model_module": "@jupyter-widgets/controls",
          "model_name": "HBoxModel",
          "model_module_version": "1.5.0",
          "state": {
            "_dom_classes": [],
            "_model_module": "@jupyter-widgets/controls",
            "_model_module_version": "1.5.0",
            "_model_name": "HBoxModel",
            "_view_count": null,
            "_view_module": "@jupyter-widgets/controls",
            "_view_module_version": "1.5.0",
            "_view_name": "HBoxView",
            "box_style": "",
            "children": [
              "IPY_MODEL_bb23b72f075b445fbd388c00e894f2ad",
              "IPY_MODEL_dd56b4c00b664d65900f32f5d5addc3d",
              "IPY_MODEL_0ea496cd36b54cb1b714a0989464a263"
            ],
            "layout": "IPY_MODEL_a39bbe2142f94757951949c928a50ffd"
          }
        },
        "bb23b72f075b445fbd388c00e894f2ad": {
          "model_module": "@jupyter-widgets/controls",
          "model_name": "HTMLModel",
          "model_module_version": "1.5.0",
          "state": {
            "_dom_classes": [],
            "_model_module": "@jupyter-widgets/controls",
            "_model_module_version": "1.5.0",
            "_model_name": "HTMLModel",
            "_view_count": null,
            "_view_module": "@jupyter-widgets/controls",
            "_view_module_version": "1.5.0",
            "_view_name": "HTMLView",
            "description": "",
            "description_tooltip": null,
            "layout": "IPY_MODEL_164d23fc7dbd49b5a6cc8c574faf3cbc",
            "placeholder": "​",
            "style": "IPY_MODEL_40940b57f20d440b8aa0c84c31526c75",
            "value": "Downloading (…)solve/main/vocab.txt: 100%"
          }
        },
        "dd56b4c00b664d65900f32f5d5addc3d": {
          "model_module": "@jupyter-widgets/controls",
          "model_name": "FloatProgressModel",
          "model_module_version": "1.5.0",
          "state": {
            "_dom_classes": [],
            "_model_module": "@jupyter-widgets/controls",
            "_model_module_version": "1.5.0",
            "_model_name": "FloatProgressModel",
            "_view_count": null,
            "_view_module": "@jupyter-widgets/controls",
            "_view_module_version": "1.5.0",
            "_view_name": "ProgressView",
            "bar_style": "success",
            "description": "",
            "description_tooltip": null,
            "layout": "IPY_MODEL_b16ea48e424c4d3987599c63f6d1ce07",
            "max": 231508,
            "min": 0,
            "orientation": "horizontal",
            "style": "IPY_MODEL_32277b14820045c2aed05cc7ae3ff2cb",
            "value": 231508
          }
        },
        "0ea496cd36b54cb1b714a0989464a263": {
          "model_module": "@jupyter-widgets/controls",
          "model_name": "HTMLModel",
          "model_module_version": "1.5.0",
          "state": {
            "_dom_classes": [],
            "_model_module": "@jupyter-widgets/controls",
            "_model_module_version": "1.5.0",
            "_model_name": "HTMLModel",
            "_view_count": null,
            "_view_module": "@jupyter-widgets/controls",
            "_view_module_version": "1.5.0",
            "_view_name": "HTMLView",
            "description": "",
            "description_tooltip": null,
            "layout": "IPY_MODEL_fafa5238a3cf4f76ac21c340ad43c06f",
            "placeholder": "​",
            "style": "IPY_MODEL_b6970e51e03d441fb8c2fde7d540f3e5",
            "value": " 232k/232k [00:00&lt;00:00, 4.50MB/s]"
          }
        },
        "a39bbe2142f94757951949c928a50ffd": {
          "model_module": "@jupyter-widgets/base",
          "model_name": "LayoutModel",
          "model_module_version": "1.2.0",
          "state": {
            "_model_module": "@jupyter-widgets/base",
            "_model_module_version": "1.2.0",
            "_model_name": "LayoutModel",
            "_view_count": null,
            "_view_module": "@jupyter-widgets/base",
            "_view_module_version": "1.2.0",
            "_view_name": "LayoutView",
            "align_content": null,
            "align_items": null,
            "align_self": null,
            "border": null,
            "bottom": null,
            "display": null,
            "flex": null,
            "flex_flow": null,
            "grid_area": null,
            "grid_auto_columns": null,
            "grid_auto_flow": null,
            "grid_auto_rows": null,
            "grid_column": null,
            "grid_gap": null,
            "grid_row": null,
            "grid_template_areas": null,
            "grid_template_columns": null,
            "grid_template_rows": null,
            "height": null,
            "justify_content": null,
            "justify_items": null,
            "left": null,
            "margin": null,
            "max_height": null,
            "max_width": null,
            "min_height": null,
            "min_width": null,
            "object_fit": null,
            "object_position": null,
            "order": null,
            "overflow": null,
            "overflow_x": null,
            "overflow_y": null,
            "padding": null,
            "right": null,
            "top": null,
            "visibility": null,
            "width": null
          }
        },
        "164d23fc7dbd49b5a6cc8c574faf3cbc": {
          "model_module": "@jupyter-widgets/base",
          "model_name": "LayoutModel",
          "model_module_version": "1.2.0",
          "state": {
            "_model_module": "@jupyter-widgets/base",
            "_model_module_version": "1.2.0",
            "_model_name": "LayoutModel",
            "_view_count": null,
            "_view_module": "@jupyter-widgets/base",
            "_view_module_version": "1.2.0",
            "_view_name": "LayoutView",
            "align_content": null,
            "align_items": null,
            "align_self": null,
            "border": null,
            "bottom": null,
            "display": null,
            "flex": null,
            "flex_flow": null,
            "grid_area": null,
            "grid_auto_columns": null,
            "grid_auto_flow": null,
            "grid_auto_rows": null,
            "grid_column": null,
            "grid_gap": null,
            "grid_row": null,
            "grid_template_areas": null,
            "grid_template_columns": null,
            "grid_template_rows": null,
            "height": null,
            "justify_content": null,
            "justify_items": null,
            "left": null,
            "margin": null,
            "max_height": null,
            "max_width": null,
            "min_height": null,
            "min_width": null,
            "object_fit": null,
            "object_position": null,
            "order": null,
            "overflow": null,
            "overflow_x": null,
            "overflow_y": null,
            "padding": null,
            "right": null,
            "top": null,
            "visibility": null,
            "width": null
          }
        },
        "40940b57f20d440b8aa0c84c31526c75": {
          "model_module": "@jupyter-widgets/controls",
          "model_name": "DescriptionStyleModel",
          "model_module_version": "1.5.0",
          "state": {
            "_model_module": "@jupyter-widgets/controls",
            "_model_module_version": "1.5.0",
            "_model_name": "DescriptionStyleModel",
            "_view_count": null,
            "_view_module": "@jupyter-widgets/base",
            "_view_module_version": "1.2.0",
            "_view_name": "StyleView",
            "description_width": ""
          }
        },
        "b16ea48e424c4d3987599c63f6d1ce07": {
          "model_module": "@jupyter-widgets/base",
          "model_name": "LayoutModel",
          "model_module_version": "1.2.0",
          "state": {
            "_model_module": "@jupyter-widgets/base",
            "_model_module_version": "1.2.0",
            "_model_name": "LayoutModel",
            "_view_count": null,
            "_view_module": "@jupyter-widgets/base",
            "_view_module_version": "1.2.0",
            "_view_name": "LayoutView",
            "align_content": null,
            "align_items": null,
            "align_self": null,
            "border": null,
            "bottom": null,
            "display": null,
            "flex": null,
            "flex_flow": null,
            "grid_area": null,
            "grid_auto_columns": null,
            "grid_auto_flow": null,
            "grid_auto_rows": null,
            "grid_column": null,
            "grid_gap": null,
            "grid_row": null,
            "grid_template_areas": null,
            "grid_template_columns": null,
            "grid_template_rows": null,
            "height": null,
            "justify_content": null,
            "justify_items": null,
            "left": null,
            "margin": null,
            "max_height": null,
            "max_width": null,
            "min_height": null,
            "min_width": null,
            "object_fit": null,
            "object_position": null,
            "order": null,
            "overflow": null,
            "overflow_x": null,
            "overflow_y": null,
            "padding": null,
            "right": null,
            "top": null,
            "visibility": null,
            "width": null
          }
        },
        "32277b14820045c2aed05cc7ae3ff2cb": {
          "model_module": "@jupyter-widgets/controls",
          "model_name": "ProgressStyleModel",
          "model_module_version": "1.5.0",
          "state": {
            "_model_module": "@jupyter-widgets/controls",
            "_model_module_version": "1.5.0",
            "_model_name": "ProgressStyleModel",
            "_view_count": null,
            "_view_module": "@jupyter-widgets/base",
            "_view_module_version": "1.2.0",
            "_view_name": "StyleView",
            "bar_color": null,
            "description_width": ""
          }
        },
        "fafa5238a3cf4f76ac21c340ad43c06f": {
          "model_module": "@jupyter-widgets/base",
          "model_name": "LayoutModel",
          "model_module_version": "1.2.0",
          "state": {
            "_model_module": "@jupyter-widgets/base",
            "_model_module_version": "1.2.0",
            "_model_name": "LayoutModel",
            "_view_count": null,
            "_view_module": "@jupyter-widgets/base",
            "_view_module_version": "1.2.0",
            "_view_name": "LayoutView",
            "align_content": null,
            "align_items": null,
            "align_self": null,
            "border": null,
            "bottom": null,
            "display": null,
            "flex": null,
            "flex_flow": null,
            "grid_area": null,
            "grid_auto_columns": null,
            "grid_auto_flow": null,
            "grid_auto_rows": null,
            "grid_column": null,
            "grid_gap": null,
            "grid_row": null,
            "grid_template_areas": null,
            "grid_template_columns": null,
            "grid_template_rows": null,
            "height": null,
            "justify_content": null,
            "justify_items": null,
            "left": null,
            "margin": null,
            "max_height": null,
            "max_width": null,
            "min_height": null,
            "min_width": null,
            "object_fit": null,
            "object_position": null,
            "order": null,
            "overflow": null,
            "overflow_x": null,
            "overflow_y": null,
            "padding": null,
            "right": null,
            "top": null,
            "visibility": null,
            "width": null
          }
        },
        "b6970e51e03d441fb8c2fde7d540f3e5": {
          "model_module": "@jupyter-widgets/controls",
          "model_name": "DescriptionStyleModel",
          "model_module_version": "1.5.0",
          "state": {
            "_model_module": "@jupyter-widgets/controls",
            "_model_module_version": "1.5.0",
            "_model_name": "DescriptionStyleModel",
            "_view_count": null,
            "_view_module": "@jupyter-widgets/base",
            "_view_module_version": "1.2.0",
            "_view_name": "StyleView",
            "description_width": ""
          }
        },
        "f09c725308784d4492a6f96d658313e6": {
          "model_module": "@jupyter-widgets/controls",
          "model_name": "HBoxModel",
          "model_module_version": "1.5.0",
          "state": {
            "_dom_classes": [],
            "_model_module": "@jupyter-widgets/controls",
            "_model_module_version": "1.5.0",
            "_model_name": "HBoxModel",
            "_view_count": null,
            "_view_module": "@jupyter-widgets/controls",
            "_view_module_version": "1.5.0",
            "_view_name": "HBoxView",
            "box_style": "",
            "children": [
              "IPY_MODEL_68d1d262ae5c4e7292af19dffe656166",
              "IPY_MODEL_f1217ffc926f4d80b6c3bc0daf2e0995",
              "IPY_MODEL_5578267bd1134cedaa94575c7f0b07a2"
            ],
            "layout": "IPY_MODEL_d9d98d7b93ac470d8a4287df263cb670"
          }
        },
        "68d1d262ae5c4e7292af19dffe656166": {
          "model_module": "@jupyter-widgets/controls",
          "model_name": "HTMLModel",
          "model_module_version": "1.5.0",
          "state": {
            "_dom_classes": [],
            "_model_module": "@jupyter-widgets/controls",
            "_model_module_version": "1.5.0",
            "_model_name": "HTMLModel",
            "_view_count": null,
            "_view_module": "@jupyter-widgets/controls",
            "_view_module_version": "1.5.0",
            "_view_name": "HTMLView",
            "description": "",
            "description_tooltip": null,
            "layout": "IPY_MODEL_2b3ddc6f823c4eb98720a3336d73a2e7",
            "placeholder": "​",
            "style": "IPY_MODEL_1d9bb03ffdc440529051929f63dc4041",
            "value": "Downloading (…)okenizer_config.json: 100%"
          }
        },
        "f1217ffc926f4d80b6c3bc0daf2e0995": {
          "model_module": "@jupyter-widgets/controls",
          "model_name": "FloatProgressModel",
          "model_module_version": "1.5.0",
          "state": {
            "_dom_classes": [],
            "_model_module": "@jupyter-widgets/controls",
            "_model_module_version": "1.5.0",
            "_model_name": "FloatProgressModel",
            "_view_count": null,
            "_view_module": "@jupyter-widgets/controls",
            "_view_module_version": "1.5.0",
            "_view_name": "ProgressView",
            "bar_style": "success",
            "description": "",
            "description_tooltip": null,
            "layout": "IPY_MODEL_f2c2edb747514f75b61fe2d90541a1d7",
            "max": 28,
            "min": 0,
            "orientation": "horizontal",
            "style": "IPY_MODEL_810939062ddc45839dff5c9837fe613d",
            "value": 28
          }
        },
        "5578267bd1134cedaa94575c7f0b07a2": {
          "model_module": "@jupyter-widgets/controls",
          "model_name": "HTMLModel",
          "model_module_version": "1.5.0",
          "state": {
            "_dom_classes": [],
            "_model_module": "@jupyter-widgets/controls",
            "_model_module_version": "1.5.0",
            "_model_name": "HTMLModel",
            "_view_count": null,
            "_view_module": "@jupyter-widgets/controls",
            "_view_module_version": "1.5.0",
            "_view_name": "HTMLView",
            "description": "",
            "description_tooltip": null,
            "layout": "IPY_MODEL_918b8c3c1baa4a66aedd20050ef0d6af",
            "placeholder": "​",
            "style": "IPY_MODEL_c11b6dbb2e5940ba8eeeba898349c649",
            "value": " 28.0/28.0 [00:00&lt;00:00, 1.62kB/s]"
          }
        },
        "d9d98d7b93ac470d8a4287df263cb670": {
          "model_module": "@jupyter-widgets/base",
          "model_name": "LayoutModel",
          "model_module_version": "1.2.0",
          "state": {
            "_model_module": "@jupyter-widgets/base",
            "_model_module_version": "1.2.0",
            "_model_name": "LayoutModel",
            "_view_count": null,
            "_view_module": "@jupyter-widgets/base",
            "_view_module_version": "1.2.0",
            "_view_name": "LayoutView",
            "align_content": null,
            "align_items": null,
            "align_self": null,
            "border": null,
            "bottom": null,
            "display": null,
            "flex": null,
            "flex_flow": null,
            "grid_area": null,
            "grid_auto_columns": null,
            "grid_auto_flow": null,
            "grid_auto_rows": null,
            "grid_column": null,
            "grid_gap": null,
            "grid_row": null,
            "grid_template_areas": null,
            "grid_template_columns": null,
            "grid_template_rows": null,
            "height": null,
            "justify_content": null,
            "justify_items": null,
            "left": null,
            "margin": null,
            "max_height": null,
            "max_width": null,
            "min_height": null,
            "min_width": null,
            "object_fit": null,
            "object_position": null,
            "order": null,
            "overflow": null,
            "overflow_x": null,
            "overflow_y": null,
            "padding": null,
            "right": null,
            "top": null,
            "visibility": null,
            "width": null
          }
        },
        "2b3ddc6f823c4eb98720a3336d73a2e7": {
          "model_module": "@jupyter-widgets/base",
          "model_name": "LayoutModel",
          "model_module_version": "1.2.0",
          "state": {
            "_model_module": "@jupyter-widgets/base",
            "_model_module_version": "1.2.0",
            "_model_name": "LayoutModel",
            "_view_count": null,
            "_view_module": "@jupyter-widgets/base",
            "_view_module_version": "1.2.0",
            "_view_name": "LayoutView",
            "align_content": null,
            "align_items": null,
            "align_self": null,
            "border": null,
            "bottom": null,
            "display": null,
            "flex": null,
            "flex_flow": null,
            "grid_area": null,
            "grid_auto_columns": null,
            "grid_auto_flow": null,
            "grid_auto_rows": null,
            "grid_column": null,
            "grid_gap": null,
            "grid_row": null,
            "grid_template_areas": null,
            "grid_template_columns": null,
            "grid_template_rows": null,
            "height": null,
            "justify_content": null,
            "justify_items": null,
            "left": null,
            "margin": null,
            "max_height": null,
            "max_width": null,
            "min_height": null,
            "min_width": null,
            "object_fit": null,
            "object_position": null,
            "order": null,
            "overflow": null,
            "overflow_x": null,
            "overflow_y": null,
            "padding": null,
            "right": null,
            "top": null,
            "visibility": null,
            "width": null
          }
        },
        "1d9bb03ffdc440529051929f63dc4041": {
          "model_module": "@jupyter-widgets/controls",
          "model_name": "DescriptionStyleModel",
          "model_module_version": "1.5.0",
          "state": {
            "_model_module": "@jupyter-widgets/controls",
            "_model_module_version": "1.5.0",
            "_model_name": "DescriptionStyleModel",
            "_view_count": null,
            "_view_module": "@jupyter-widgets/base",
            "_view_module_version": "1.2.0",
            "_view_name": "StyleView",
            "description_width": ""
          }
        },
        "f2c2edb747514f75b61fe2d90541a1d7": {
          "model_module": "@jupyter-widgets/base",
          "model_name": "LayoutModel",
          "model_module_version": "1.2.0",
          "state": {
            "_model_module": "@jupyter-widgets/base",
            "_model_module_version": "1.2.0",
            "_model_name": "LayoutModel",
            "_view_count": null,
            "_view_module": "@jupyter-widgets/base",
            "_view_module_version": "1.2.0",
            "_view_name": "LayoutView",
            "align_content": null,
            "align_items": null,
            "align_self": null,
            "border": null,
            "bottom": null,
            "display": null,
            "flex": null,
            "flex_flow": null,
            "grid_area": null,
            "grid_auto_columns": null,
            "grid_auto_flow": null,
            "grid_auto_rows": null,
            "grid_column": null,
            "grid_gap": null,
            "grid_row": null,
            "grid_template_areas": null,
            "grid_template_columns": null,
            "grid_template_rows": null,
            "height": null,
            "justify_content": null,
            "justify_items": null,
            "left": null,
            "margin": null,
            "max_height": null,
            "max_width": null,
            "min_height": null,
            "min_width": null,
            "object_fit": null,
            "object_position": null,
            "order": null,
            "overflow": null,
            "overflow_x": null,
            "overflow_y": null,
            "padding": null,
            "right": null,
            "top": null,
            "visibility": null,
            "width": null
          }
        },
        "810939062ddc45839dff5c9837fe613d": {
          "model_module": "@jupyter-widgets/controls",
          "model_name": "ProgressStyleModel",
          "model_module_version": "1.5.0",
          "state": {
            "_model_module": "@jupyter-widgets/controls",
            "_model_module_version": "1.5.0",
            "_model_name": "ProgressStyleModel",
            "_view_count": null,
            "_view_module": "@jupyter-widgets/base",
            "_view_module_version": "1.2.0",
            "_view_name": "StyleView",
            "bar_color": null,
            "description_width": ""
          }
        },
        "918b8c3c1baa4a66aedd20050ef0d6af": {
          "model_module": "@jupyter-widgets/base",
          "model_name": "LayoutModel",
          "model_module_version": "1.2.0",
          "state": {
            "_model_module": "@jupyter-widgets/base",
            "_model_module_version": "1.2.0",
            "_model_name": "LayoutModel",
            "_view_count": null,
            "_view_module": "@jupyter-widgets/base",
            "_view_module_version": "1.2.0",
            "_view_name": "LayoutView",
            "align_content": null,
            "align_items": null,
            "align_self": null,
            "border": null,
            "bottom": null,
            "display": null,
            "flex": null,
            "flex_flow": null,
            "grid_area": null,
            "grid_auto_columns": null,
            "grid_auto_flow": null,
            "grid_auto_rows": null,
            "grid_column": null,
            "grid_gap": null,
            "grid_row": null,
            "grid_template_areas": null,
            "grid_template_columns": null,
            "grid_template_rows": null,
            "height": null,
            "justify_content": null,
            "justify_items": null,
            "left": null,
            "margin": null,
            "max_height": null,
            "max_width": null,
            "min_height": null,
            "min_width": null,
            "object_fit": null,
            "object_position": null,
            "order": null,
            "overflow": null,
            "overflow_x": null,
            "overflow_y": null,
            "padding": null,
            "right": null,
            "top": null,
            "visibility": null,
            "width": null
          }
        },
        "c11b6dbb2e5940ba8eeeba898349c649": {
          "model_module": "@jupyter-widgets/controls",
          "model_name": "DescriptionStyleModel",
          "model_module_version": "1.5.0",
          "state": {
            "_model_module": "@jupyter-widgets/controls",
            "_model_module_version": "1.5.0",
            "_model_name": "DescriptionStyleModel",
            "_view_count": null,
            "_view_module": "@jupyter-widgets/base",
            "_view_module_version": "1.2.0",
            "_view_name": "StyleView",
            "description_width": ""
          }
        },
        "b8c7b2a311ef4f68b19753e1ca1e8929": {
          "model_module": "@jupyter-widgets/controls",
          "model_name": "HBoxModel",
          "model_module_version": "1.5.0",
          "state": {
            "_dom_classes": [],
            "_model_module": "@jupyter-widgets/controls",
            "_model_module_version": "1.5.0",
            "_model_name": "HBoxModel",
            "_view_count": null,
            "_view_module": "@jupyter-widgets/controls",
            "_view_module_version": "1.5.0",
            "_view_name": "HBoxView",
            "box_style": "",
            "children": [
              "IPY_MODEL_4d16a73f435d4e73951d97a415fe838b",
              "IPY_MODEL_8ff07d80c27e4a8d9a2fedcd24226ef8",
              "IPY_MODEL_cb2cb1ac12d44de29388118c1af0b232"
            ],
            "layout": "IPY_MODEL_4ce71543fefe4ffba6ce8a8c63fa6961"
          }
        },
        "4d16a73f435d4e73951d97a415fe838b": {
          "model_module": "@jupyter-widgets/controls",
          "model_name": "HTMLModel",
          "model_module_version": "1.5.0",
          "state": {
            "_dom_classes": [],
            "_model_module": "@jupyter-widgets/controls",
            "_model_module_version": "1.5.0",
            "_model_name": "HTMLModel",
            "_view_count": null,
            "_view_module": "@jupyter-widgets/controls",
            "_view_module_version": "1.5.0",
            "_view_name": "HTMLView",
            "description": "",
            "description_tooltip": null,
            "layout": "IPY_MODEL_2ff0d3382f3f49c3ab95b10adf48cc65",
            "placeholder": "​",
            "style": "IPY_MODEL_4fce290ab2be42438169673901124557",
            "value": "Downloading (…)lve/main/config.json: 100%"
          }
        },
        "8ff07d80c27e4a8d9a2fedcd24226ef8": {
          "model_module": "@jupyter-widgets/controls",
          "model_name": "FloatProgressModel",
          "model_module_version": "1.5.0",
          "state": {
            "_dom_classes": [],
            "_model_module": "@jupyter-widgets/controls",
            "_model_module_version": "1.5.0",
            "_model_name": "FloatProgressModel",
            "_view_count": null,
            "_view_module": "@jupyter-widgets/controls",
            "_view_module_version": "1.5.0",
            "_view_name": "ProgressView",
            "bar_style": "success",
            "description": "",
            "description_tooltip": null,
            "layout": "IPY_MODEL_79edfd2134494312a49f1d515bca0dee",
            "max": 570,
            "min": 0,
            "orientation": "horizontal",
            "style": "IPY_MODEL_2a54fbe067ef4494994674bc95e1aaac",
            "value": 570
          }
        },
        "cb2cb1ac12d44de29388118c1af0b232": {
          "model_module": "@jupyter-widgets/controls",
          "model_name": "HTMLModel",
          "model_module_version": "1.5.0",
          "state": {
            "_dom_classes": [],
            "_model_module": "@jupyter-widgets/controls",
            "_model_module_version": "1.5.0",
            "_model_name": "HTMLModel",
            "_view_count": null,
            "_view_module": "@jupyter-widgets/controls",
            "_view_module_version": "1.5.0",
            "_view_name": "HTMLView",
            "description": "",
            "description_tooltip": null,
            "layout": "IPY_MODEL_c05d0d6f18b044f991a1d3d610cf6455",
            "placeholder": "​",
            "style": "IPY_MODEL_cc0f0e254c114972bd6741c563d7d9a3",
            "value": " 570/570 [00:00&lt;00:00, 24.9kB/s]"
          }
        },
        "4ce71543fefe4ffba6ce8a8c63fa6961": {
          "model_module": "@jupyter-widgets/base",
          "model_name": "LayoutModel",
          "model_module_version": "1.2.0",
          "state": {
            "_model_module": "@jupyter-widgets/base",
            "_model_module_version": "1.2.0",
            "_model_name": "LayoutModel",
            "_view_count": null,
            "_view_module": "@jupyter-widgets/base",
            "_view_module_version": "1.2.0",
            "_view_name": "LayoutView",
            "align_content": null,
            "align_items": null,
            "align_self": null,
            "border": null,
            "bottom": null,
            "display": null,
            "flex": null,
            "flex_flow": null,
            "grid_area": null,
            "grid_auto_columns": null,
            "grid_auto_flow": null,
            "grid_auto_rows": null,
            "grid_column": null,
            "grid_gap": null,
            "grid_row": null,
            "grid_template_areas": null,
            "grid_template_columns": null,
            "grid_template_rows": null,
            "height": null,
            "justify_content": null,
            "justify_items": null,
            "left": null,
            "margin": null,
            "max_height": null,
            "max_width": null,
            "min_height": null,
            "min_width": null,
            "object_fit": null,
            "object_position": null,
            "order": null,
            "overflow": null,
            "overflow_x": null,
            "overflow_y": null,
            "padding": null,
            "right": null,
            "top": null,
            "visibility": null,
            "width": null
          }
        },
        "2ff0d3382f3f49c3ab95b10adf48cc65": {
          "model_module": "@jupyter-widgets/base",
          "model_name": "LayoutModel",
          "model_module_version": "1.2.0",
          "state": {
            "_model_module": "@jupyter-widgets/base",
            "_model_module_version": "1.2.0",
            "_model_name": "LayoutModel",
            "_view_count": null,
            "_view_module": "@jupyter-widgets/base",
            "_view_module_version": "1.2.0",
            "_view_name": "LayoutView",
            "align_content": null,
            "align_items": null,
            "align_self": null,
            "border": null,
            "bottom": null,
            "display": null,
            "flex": null,
            "flex_flow": null,
            "grid_area": null,
            "grid_auto_columns": null,
            "grid_auto_flow": null,
            "grid_auto_rows": null,
            "grid_column": null,
            "grid_gap": null,
            "grid_row": null,
            "grid_template_areas": null,
            "grid_template_columns": null,
            "grid_template_rows": null,
            "height": null,
            "justify_content": null,
            "justify_items": null,
            "left": null,
            "margin": null,
            "max_height": null,
            "max_width": null,
            "min_height": null,
            "min_width": null,
            "object_fit": null,
            "object_position": null,
            "order": null,
            "overflow": null,
            "overflow_x": null,
            "overflow_y": null,
            "padding": null,
            "right": null,
            "top": null,
            "visibility": null,
            "width": null
          }
        },
        "4fce290ab2be42438169673901124557": {
          "model_module": "@jupyter-widgets/controls",
          "model_name": "DescriptionStyleModel",
          "model_module_version": "1.5.0",
          "state": {
            "_model_module": "@jupyter-widgets/controls",
            "_model_module_version": "1.5.0",
            "_model_name": "DescriptionStyleModel",
            "_view_count": null,
            "_view_module": "@jupyter-widgets/base",
            "_view_module_version": "1.2.0",
            "_view_name": "StyleView",
            "description_width": ""
          }
        },
        "79edfd2134494312a49f1d515bca0dee": {
          "model_module": "@jupyter-widgets/base",
          "model_name": "LayoutModel",
          "model_module_version": "1.2.0",
          "state": {
            "_model_module": "@jupyter-widgets/base",
            "_model_module_version": "1.2.0",
            "_model_name": "LayoutModel",
            "_view_count": null,
            "_view_module": "@jupyter-widgets/base",
            "_view_module_version": "1.2.0",
            "_view_name": "LayoutView",
            "align_content": null,
            "align_items": null,
            "align_self": null,
            "border": null,
            "bottom": null,
            "display": null,
            "flex": null,
            "flex_flow": null,
            "grid_area": null,
            "grid_auto_columns": null,
            "grid_auto_flow": null,
            "grid_auto_rows": null,
            "grid_column": null,
            "grid_gap": null,
            "grid_row": null,
            "grid_template_areas": null,
            "grid_template_columns": null,
            "grid_template_rows": null,
            "height": null,
            "justify_content": null,
            "justify_items": null,
            "left": null,
            "margin": null,
            "max_height": null,
            "max_width": null,
            "min_height": null,
            "min_width": null,
            "object_fit": null,
            "object_position": null,
            "order": null,
            "overflow": null,
            "overflow_x": null,
            "overflow_y": null,
            "padding": null,
            "right": null,
            "top": null,
            "visibility": null,
            "width": null
          }
        },
        "2a54fbe067ef4494994674bc95e1aaac": {
          "model_module": "@jupyter-widgets/controls",
          "model_name": "ProgressStyleModel",
          "model_module_version": "1.5.0",
          "state": {
            "_model_module": "@jupyter-widgets/controls",
            "_model_module_version": "1.5.0",
            "_model_name": "ProgressStyleModel",
            "_view_count": null,
            "_view_module": "@jupyter-widgets/base",
            "_view_module_version": "1.2.0",
            "_view_name": "StyleView",
            "bar_color": null,
            "description_width": ""
          }
        },
        "c05d0d6f18b044f991a1d3d610cf6455": {
          "model_module": "@jupyter-widgets/base",
          "model_name": "LayoutModel",
          "model_module_version": "1.2.0",
          "state": {
            "_model_module": "@jupyter-widgets/base",
            "_model_module_version": "1.2.0",
            "_model_name": "LayoutModel",
            "_view_count": null,
            "_view_module": "@jupyter-widgets/base",
            "_view_module_version": "1.2.0",
            "_view_name": "LayoutView",
            "align_content": null,
            "align_items": null,
            "align_self": null,
            "border": null,
            "bottom": null,
            "display": null,
            "flex": null,
            "flex_flow": null,
            "grid_area": null,
            "grid_auto_columns": null,
            "grid_auto_flow": null,
            "grid_auto_rows": null,
            "grid_column": null,
            "grid_gap": null,
            "grid_row": null,
            "grid_template_areas": null,
            "grid_template_columns": null,
            "grid_template_rows": null,
            "height": null,
            "justify_content": null,
            "justify_items": null,
            "left": null,
            "margin": null,
            "max_height": null,
            "max_width": null,
            "min_height": null,
            "min_width": null,
            "object_fit": null,
            "object_position": null,
            "order": null,
            "overflow": null,
            "overflow_x": null,
            "overflow_y": null,
            "padding": null,
            "right": null,
            "top": null,
            "visibility": null,
            "width": null
          }
        },
        "cc0f0e254c114972bd6741c563d7d9a3": {
          "model_module": "@jupyter-widgets/controls",
          "model_name": "DescriptionStyleModel",
          "model_module_version": "1.5.0",
          "state": {
            "_model_module": "@jupyter-widgets/controls",
            "_model_module_version": "1.5.0",
            "_model_name": "DescriptionStyleModel",
            "_view_count": null,
            "_view_module": "@jupyter-widgets/base",
            "_view_module_version": "1.2.0",
            "_view_name": "StyleView",
            "description_width": ""
          }
        },
        "d4d99bb24c3b4cc0b5720132ba61613e": {
          "model_module": "@jupyter-widgets/controls",
          "model_name": "HBoxModel",
          "model_module_version": "1.5.0",
          "state": {
            "_dom_classes": [],
            "_model_module": "@jupyter-widgets/controls",
            "_model_module_version": "1.5.0",
            "_model_name": "HBoxModel",
            "_view_count": null,
            "_view_module": "@jupyter-widgets/controls",
            "_view_module_version": "1.5.0",
            "_view_name": "HBoxView",
            "box_style": "",
            "children": [
              "IPY_MODEL_f770db76e1ba499fa8307ca75be5dae2",
              "IPY_MODEL_d12eb52c676f4070a97fbb833e8a53ed",
              "IPY_MODEL_2e39bbec31924d2ebe9d5c54bb2ab8f4"
            ],
            "layout": "IPY_MODEL_c38a03b8292d4f73be4f193e7d958a40"
          }
        },
        "f770db76e1ba499fa8307ca75be5dae2": {
          "model_module": "@jupyter-widgets/controls",
          "model_name": "HTMLModel",
          "model_module_version": "1.5.0",
          "state": {
            "_dom_classes": [],
            "_model_module": "@jupyter-widgets/controls",
            "_model_module_version": "1.5.0",
            "_model_name": "HTMLModel",
            "_view_count": null,
            "_view_module": "@jupyter-widgets/controls",
            "_view_module_version": "1.5.0",
            "_view_name": "HTMLView",
            "description": "",
            "description_tooltip": null,
            "layout": "IPY_MODEL_ab678a72ef0e452293e01edfd9eb44f6",
            "placeholder": "​",
            "style": "IPY_MODEL_570cb4d9fa104db680b9f51954a1d1d8",
            "value": "Downloading model.safetensors: 100%"
          }
        },
        "d12eb52c676f4070a97fbb833e8a53ed": {
          "model_module": "@jupyter-widgets/controls",
          "model_name": "FloatProgressModel",
          "model_module_version": "1.5.0",
          "state": {
            "_dom_classes": [],
            "_model_module": "@jupyter-widgets/controls",
            "_model_module_version": "1.5.0",
            "_model_name": "FloatProgressModel",
            "_view_count": null,
            "_view_module": "@jupyter-widgets/controls",
            "_view_module_version": "1.5.0",
            "_view_name": "ProgressView",
            "bar_style": "success",
            "description": "",
            "description_tooltip": null,
            "layout": "IPY_MODEL_85e7c6d1bd334202a8954e4db7224693",
            "max": 440449768,
            "min": 0,
            "orientation": "horizontal",
            "style": "IPY_MODEL_e1ed97f75d9c48729da6cd53efc88d63",
            "value": 440449768
          }
        },
        "2e39bbec31924d2ebe9d5c54bb2ab8f4": {
          "model_module": "@jupyter-widgets/controls",
          "model_name": "HTMLModel",
          "model_module_version": "1.5.0",
          "state": {
            "_dom_classes": [],
            "_model_module": "@jupyter-widgets/controls",
            "_model_module_version": "1.5.0",
            "_model_name": "HTMLModel",
            "_view_count": null,
            "_view_module": "@jupyter-widgets/controls",
            "_view_module_version": "1.5.0",
            "_view_name": "HTMLView",
            "description": "",
            "description_tooltip": null,
            "layout": "IPY_MODEL_5253f6599b6a4fafa4ecd9abb5a89f1d",
            "placeholder": "​",
            "style": "IPY_MODEL_1c663f0912a54d8d8219f82e6d11b918",
            "value": " 440M/440M [00:04&lt;00:00, 139MB/s]"
          }
        },
        "c38a03b8292d4f73be4f193e7d958a40": {
          "model_module": "@jupyter-widgets/base",
          "model_name": "LayoutModel",
          "model_module_version": "1.2.0",
          "state": {
            "_model_module": "@jupyter-widgets/base",
            "_model_module_version": "1.2.0",
            "_model_name": "LayoutModel",
            "_view_count": null,
            "_view_module": "@jupyter-widgets/base",
            "_view_module_version": "1.2.0",
            "_view_name": "LayoutView",
            "align_content": null,
            "align_items": null,
            "align_self": null,
            "border": null,
            "bottom": null,
            "display": null,
            "flex": null,
            "flex_flow": null,
            "grid_area": null,
            "grid_auto_columns": null,
            "grid_auto_flow": null,
            "grid_auto_rows": null,
            "grid_column": null,
            "grid_gap": null,
            "grid_row": null,
            "grid_template_areas": null,
            "grid_template_columns": null,
            "grid_template_rows": null,
            "height": null,
            "justify_content": null,
            "justify_items": null,
            "left": null,
            "margin": null,
            "max_height": null,
            "max_width": null,
            "min_height": null,
            "min_width": null,
            "object_fit": null,
            "object_position": null,
            "order": null,
            "overflow": null,
            "overflow_x": null,
            "overflow_y": null,
            "padding": null,
            "right": null,
            "top": null,
            "visibility": null,
            "width": null
          }
        },
        "ab678a72ef0e452293e01edfd9eb44f6": {
          "model_module": "@jupyter-widgets/base",
          "model_name": "LayoutModel",
          "model_module_version": "1.2.0",
          "state": {
            "_model_module": "@jupyter-widgets/base",
            "_model_module_version": "1.2.0",
            "_model_name": "LayoutModel",
            "_view_count": null,
            "_view_module": "@jupyter-widgets/base",
            "_view_module_version": "1.2.0",
            "_view_name": "LayoutView",
            "align_content": null,
            "align_items": null,
            "align_self": null,
            "border": null,
            "bottom": null,
            "display": null,
            "flex": null,
            "flex_flow": null,
            "grid_area": null,
            "grid_auto_columns": null,
            "grid_auto_flow": null,
            "grid_auto_rows": null,
            "grid_column": null,
            "grid_gap": null,
            "grid_row": null,
            "grid_template_areas": null,
            "grid_template_columns": null,
            "grid_template_rows": null,
            "height": null,
            "justify_content": null,
            "justify_items": null,
            "left": null,
            "margin": null,
            "max_height": null,
            "max_width": null,
            "min_height": null,
            "min_width": null,
            "object_fit": null,
            "object_position": null,
            "order": null,
            "overflow": null,
            "overflow_x": null,
            "overflow_y": null,
            "padding": null,
            "right": null,
            "top": null,
            "visibility": null,
            "width": null
          }
        },
        "570cb4d9fa104db680b9f51954a1d1d8": {
          "model_module": "@jupyter-widgets/controls",
          "model_name": "DescriptionStyleModel",
          "model_module_version": "1.5.0",
          "state": {
            "_model_module": "@jupyter-widgets/controls",
            "_model_module_version": "1.5.0",
            "_model_name": "DescriptionStyleModel",
            "_view_count": null,
            "_view_module": "@jupyter-widgets/base",
            "_view_module_version": "1.2.0",
            "_view_name": "StyleView",
            "description_width": ""
          }
        },
        "85e7c6d1bd334202a8954e4db7224693": {
          "model_module": "@jupyter-widgets/base",
          "model_name": "LayoutModel",
          "model_module_version": "1.2.0",
          "state": {
            "_model_module": "@jupyter-widgets/base",
            "_model_module_version": "1.2.0",
            "_model_name": "LayoutModel",
            "_view_count": null,
            "_view_module": "@jupyter-widgets/base",
            "_view_module_version": "1.2.0",
            "_view_name": "LayoutView",
            "align_content": null,
            "align_items": null,
            "align_self": null,
            "border": null,
            "bottom": null,
            "display": null,
            "flex": null,
            "flex_flow": null,
            "grid_area": null,
            "grid_auto_columns": null,
            "grid_auto_flow": null,
            "grid_auto_rows": null,
            "grid_column": null,
            "grid_gap": null,
            "grid_row": null,
            "grid_template_areas": null,
            "grid_template_columns": null,
            "grid_template_rows": null,
            "height": null,
            "justify_content": null,
            "justify_items": null,
            "left": null,
            "margin": null,
            "max_height": null,
            "max_width": null,
            "min_height": null,
            "min_width": null,
            "object_fit": null,
            "object_position": null,
            "order": null,
            "overflow": null,
            "overflow_x": null,
            "overflow_y": null,
            "padding": null,
            "right": null,
            "top": null,
            "visibility": null,
            "width": null
          }
        },
        "e1ed97f75d9c48729da6cd53efc88d63": {
          "model_module": "@jupyter-widgets/controls",
          "model_name": "ProgressStyleModel",
          "model_module_version": "1.5.0",
          "state": {
            "_model_module": "@jupyter-widgets/controls",
            "_model_module_version": "1.5.0",
            "_model_name": "ProgressStyleModel",
            "_view_count": null,
            "_view_module": "@jupyter-widgets/base",
            "_view_module_version": "1.2.0",
            "_view_name": "StyleView",
            "bar_color": null,
            "description_width": ""
          }
        },
        "5253f6599b6a4fafa4ecd9abb5a89f1d": {
          "model_module": "@jupyter-widgets/base",
          "model_name": "LayoutModel",
          "model_module_version": "1.2.0",
          "state": {
            "_model_module": "@jupyter-widgets/base",
            "_model_module_version": "1.2.0",
            "_model_name": "LayoutModel",
            "_view_count": null,
            "_view_module": "@jupyter-widgets/base",
            "_view_module_version": "1.2.0",
            "_view_name": "LayoutView",
            "align_content": null,
            "align_items": null,
            "align_self": null,
            "border": null,
            "bottom": null,
            "display": null,
            "flex": null,
            "flex_flow": null,
            "grid_area": null,
            "grid_auto_columns": null,
            "grid_auto_flow": null,
            "grid_auto_rows": null,
            "grid_column": null,
            "grid_gap": null,
            "grid_row": null,
            "grid_template_areas": null,
            "grid_template_columns": null,
            "grid_template_rows": null,
            "height": null,
            "justify_content": null,
            "justify_items": null,
            "left": null,
            "margin": null,
            "max_height": null,
            "max_width": null,
            "min_height": null,
            "min_width": null,
            "object_fit": null,
            "object_position": null,
            "order": null,
            "overflow": null,
            "overflow_x": null,
            "overflow_y": null,
            "padding": null,
            "right": null,
            "top": null,
            "visibility": null,
            "width": null
          }
        },
        "1c663f0912a54d8d8219f82e6d11b918": {
          "model_module": "@jupyter-widgets/controls",
          "model_name": "DescriptionStyleModel",
          "model_module_version": "1.5.0",
          "state": {
            "_model_module": "@jupyter-widgets/controls",
            "_model_module_version": "1.5.0",
            "_model_name": "DescriptionStyleModel",
            "_view_count": null,
            "_view_module": "@jupyter-widgets/base",
            "_view_module_version": "1.2.0",
            "_view_name": "StyleView",
            "description_width": ""
          }
        }
      }
    }
  },
  "nbformat": 4,
  "nbformat_minor": 0
}