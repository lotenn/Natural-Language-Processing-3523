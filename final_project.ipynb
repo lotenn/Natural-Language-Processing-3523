{
 "cells": [
  {
   "cell_type": "code",
   "execution_count": 141,
   "metadata": {},
   "outputs": [],
   "source": [
    "import pandas as pd\n",
    "import numpy as np\n",
    "import random\n",
    "import torch\n",
    "import torch.nn as nn\n",
    "from tqdm import tqdm\n",
    "from mmsdk import mmdatasdk\n",
    "from sklearn.model_selection import train_test_split\n",
    "from torch.utils.data import Dataset, DataLoader\n",
    "from torch.nn.utils.rnn import pad_sequence\n",
    "from torch import FloatTensor, no_grad\n",
    "from torch.optim import Adam\n",
    "from transformers import BertTokenizer\n",
    "from transformers import BertModel, BertTokenizer"
   ]
  },
  {
   "cell_type": "code",
   "execution_count": 142,
   "metadata": {},
   "outputs": [],
   "source": [
    "import warnings\n",
    "warnings.filterwarnings('ignore')"
   ]
  },
  {
   "cell_type": "code",
   "execution_count": 143,
   "metadata": {},
   "outputs": [],
   "source": [
    "RANDOM_SEED = 42\n",
    "random.seed(RANDOM_SEED)\n",
    "np.random.seed(RANDOM_SEED)"
   ]
  },
  {
   "cell_type": "code",
   "execution_count": null,
   "metadata": {},
   "outputs": [],
   "source": [
    "DEVICE = 'cuda' if torch.cuda.is_available() else 'cpu'\n",
    "assert DEVICE == 'cuda'"
   ]
  },
  {
   "cell_type": "code",
   "execution_count": 6,
   "metadata": {
    "collapsed": false,
    "pycharm": {
     "is_executing": true,
     "name": "#%%\n"
    }
   },
   "outputs": [
    {
     "name": "stdout",
     "output_type": "stream",
     "text": [
      "\u001b[92m\u001b[1m[2023-07-14 12:21:45.376] | Success | \u001b[0mComputational sequence read from file cmumosi/CMU_MOSI_TimestampedWordVectors.csd ...\n",
      "\u001b[94m\u001b[1m[2023-07-14 12:21:45.412] | Status  | \u001b[0mChecking the integrity of the <glove_vectors> computational sequence ...\n",
      "\u001b[94m\u001b[1m[2023-07-14 12:21:45.412] | Status  | \u001b[0mChecking the format of the data in <glove_vectors> computational sequence ...\n"
     ]
    },
    {
     "name": "stderr",
     "output_type": "stream",
     "text": [
      "                                                                   "
     ]
    },
    {
     "name": "stdout",
     "output_type": "stream",
     "text": [
      "\u001b[92m\u001b[1m[2023-07-14 12:21:45.557] | Success | \u001b[0m<glove_vectors> computational sequence data in correct format.\n",
      "\u001b[94m\u001b[1m[2023-07-14 12:21:45.557] | Status  | \u001b[0mChecking the format of the metadata in <glove_vectors> computational sequence ...\n",
      "\u001b[93m\u001b[1m[2023-07-14 12:21:45.558] | Warning | \u001b[0m<glove_vectors> computational sequence does not have all the required metadata ... continuing \n",
      "\u001b[92m\u001b[1m[2023-07-14 12:21:45.559] | Success | \u001b[0mComputational sequence read from file cmumosi/CMU_MOSI_Visual_Facet_41.csd ...\n"
     ]
    },
    {
     "name": "stderr",
     "output_type": "stream",
     "text": [
      "\r"
     ]
    },
    {
     "name": "stdout",
     "output_type": "stream",
     "text": [
      "\u001b[94m\u001b[1m[2023-07-14 12:21:45.587] | Status  | \u001b[0mChecking the integrity of the <FACET_4.1> computational sequence ...\n",
      "\u001b[94m\u001b[1m[2023-07-14 12:21:45.587] | Status  | \u001b[0mChecking the format of the data in <FACET_4.1> computational sequence ...\n"
     ]
    },
    {
     "name": "stderr",
     "output_type": "stream",
     "text": [
      "                                                                   \r"
     ]
    },
    {
     "name": "stdout",
     "output_type": "stream",
     "text": [
      "\u001b[92m\u001b[1m[2023-07-14 12:21:45.676] | Success | \u001b[0m<FACET_4.1> computational sequence data in correct format.\n",
      "\u001b[94m\u001b[1m[2023-07-14 12:21:45.676] | Status  | \u001b[0mChecking the format of the metadata in <FACET_4.1> computational sequence ...\n",
      "\u001b[93m\u001b[1m[2023-07-14 12:21:45.676] | Warning | \u001b[0m<FACET_4.1> computational sequence does not have all the required metadata ... continuing \n",
      "\u001b[92m\u001b[1m[2023-07-14 12:21:45.678] | Success | \u001b[0mComputational sequence read from file cmumosi/CMU_MOSI_Visual_Facet_42.csd ...\n",
      "\u001b[94m\u001b[1m[2023-07-14 12:21:45.702] | Status  | \u001b[0mChecking the integrity of the <FACET_4.2> computational sequence ...\n",
      "\u001b[94m\u001b[1m[2023-07-14 12:21:45.702] | Status  | \u001b[0mChecking the format of the data in <FACET_4.2> computational sequence ...\n"
     ]
    },
    {
     "name": "stderr",
     "output_type": "stream",
     "text": [
      "                                                                   \r"
     ]
    },
    {
     "name": "stdout",
     "output_type": "stream",
     "text": [
      "\u001b[92m\u001b[1m[2023-07-14 12:21:45.789] | Success | \u001b[0m<FACET_4.2> computational sequence data in correct format.\n",
      "\u001b[94m\u001b[1m[2023-07-14 12:21:45.789] | Status  | \u001b[0mChecking the format of the metadata in <FACET_4.2> computational sequence ...\n",
      "\u001b[93m\u001b[1m[2023-07-14 12:21:45.789] | Warning | \u001b[0m<FACET_4.2> computational sequence does not have all the required metadata ... continuing \n",
      "\u001b[92m\u001b[1m[2023-07-14 12:21:45.791] | Success | \u001b[0mComputational sequence read from file cmumosi/CMU_MOSI_OpenSmile_EB10.csd ...\n",
      "\u001b[94m\u001b[1m[2023-07-14 12:21:45.817] | Status  | \u001b[0mChecking the integrity of the <OpenSmile_emobase2010> computational sequence ...\n",
      "\u001b[94m\u001b[1m[2023-07-14 12:21:45.817] | Status  | \u001b[0mChecking the format of the data in <OpenSmile_emobase2010> computational sequence ...\n"
     ]
    },
    {
     "name": "stderr",
     "output_type": "stream",
     "text": [
      "                                                                   \r"
     ]
    },
    {
     "name": "stdout",
     "output_type": "stream",
     "text": [
      "\u001b[92m\u001b[1m[2023-07-14 12:21:45.902] | Success | \u001b[0m<OpenSmile_emobase2010> computational sequence data in correct format.\n",
      "\u001b[94m\u001b[1m[2023-07-14 12:21:45.902] | Status  | \u001b[0mChecking the format of the metadata in <OpenSmile_emobase2010> computational sequence ...\n",
      "\u001b[93m\u001b[1m[2023-07-14 12:21:45.902] | Warning | \u001b[0m<OpenSmile_emobase2010> computational sequence does not have all the required metadata ... continuing \n",
      "\u001b[92m\u001b[1m[2023-07-14 12:21:45.903] | Success | \u001b[0mComputational sequence read from file cmumosi/CMU_MOSI_openSMILE_IS09.csd ...\n",
      "\u001b[94m\u001b[1m[2023-07-14 12:21:45.923] | Status  | \u001b[0mChecking the integrity of the <b'OpenSMILE'> computational sequence ...\n",
      "\u001b[94m\u001b[1m[2023-07-14 12:21:45.923] | Status  | \u001b[0mChecking the format of the data in <b'OpenSMILE'> computational sequence ...\n"
     ]
    },
    {
     "name": "stderr",
     "output_type": "stream",
     "text": [
      "                                                                   \r"
     ]
    },
    {
     "name": "stdout",
     "output_type": "stream",
     "text": [
      "\u001b[92m\u001b[1m[2023-07-14 12:21:45.978] | Success | \u001b[0m<b'OpenSMILE'> computational sequence data in correct format.\n",
      "\u001b[94m\u001b[1m[2023-07-14 12:21:45.978] | Status  | \u001b[0mChecking the format of the metadata in <b'OpenSMILE'> computational sequence ...\n",
      "\u001b[93m\u001b[1m[2023-07-14 12:21:45.978] | Warning | \u001b[0m<b'OpenSMILE'> computational sequence does not have all the required metadata ... continuing \n",
      "\u001b[92m\u001b[1m[2023-07-14 12:21:45.979] | Success | \u001b[0mComputational sequence read from file cmumosi/CMU_MOSI_Visual_OpenFace_1.csd ...\n",
      "\u001b[94m\u001b[1m[2023-07-14 12:21:46.003] | Status  | \u001b[0mChecking the integrity of the <OpenFace_1> computational sequence ...\n",
      "\u001b[94m\u001b[1m[2023-07-14 12:21:46.003] | Status  | \u001b[0mChecking the format of the data in <OpenFace_1> computational sequence ...\n"
     ]
    },
    {
     "name": "stderr",
     "output_type": "stream",
     "text": [
      "                                                                   \r"
     ]
    },
    {
     "name": "stdout",
     "output_type": "stream",
     "text": [
      "\u001b[92m\u001b[1m[2023-07-14 12:21:46.080] | Success | \u001b[0m<OpenFace_1> computational sequence data in correct format.\n",
      "\u001b[94m\u001b[1m[2023-07-14 12:21:46.080] | Status  | \u001b[0mChecking the format of the metadata in <OpenFace_1> computational sequence ...\n",
      "\u001b[93m\u001b[1m[2023-07-14 12:21:46.080] | Warning | \u001b[0m<OpenFace_1> computational sequence does not have all the required metadata ... continuing \n",
      "\u001b[92m\u001b[1m[2023-07-14 12:21:46.082] | Success | \u001b[0mComputational sequence read from file cmumosi/CMU_MOSI_Visual_OpenFace_2.csd ...\n",
      "\u001b[94m\u001b[1m[2023-07-14 12:21:46.106] | Status  | \u001b[0mChecking the integrity of the <OpenFace_2> computational sequence ...\n",
      "\u001b[94m\u001b[1m[2023-07-14 12:21:46.106] | Status  | \u001b[0mChecking the format of the data in <OpenFace_2> computational sequence ...\n"
     ]
    },
    {
     "name": "stderr",
     "output_type": "stream",
     "text": [
      "                                                                   \r"
     ]
    },
    {
     "name": "stdout",
     "output_type": "stream",
     "text": [
      "\u001b[92m\u001b[1m[2023-07-14 12:21:46.167] | Success | \u001b[0m<OpenFace_2> computational sequence data in correct format.\n",
      "\u001b[94m\u001b[1m[2023-07-14 12:21:46.167] | Status  | \u001b[0mChecking the format of the metadata in <OpenFace_2> computational sequence ...\n",
      "\u001b[93m\u001b[1m[2023-07-14 12:21:46.167] | Warning | \u001b[0m<OpenFace_2> computational sequence does not have all the required metadata ... continuing \n",
      "\u001b[92m\u001b[1m[2023-07-14 12:21:46.168] | Success | \u001b[0mComputational sequence read from file cmumosi/CMU_MOSI_COVAREP.csd ...\n",
      "\u001b[94m\u001b[1m[2023-07-14 12:21:46.188] | Status  | \u001b[0mChecking the integrity of the <COVAREP> computational sequence ...\n",
      "\u001b[94m\u001b[1m[2023-07-14 12:21:46.188] | Status  | \u001b[0mChecking the format of the data in <COVAREP> computational sequence ...\n"
     ]
    },
    {
     "name": "stderr",
     "output_type": "stream",
     "text": [
      "                                                                   \r"
     ]
    },
    {
     "name": "stdout",
     "output_type": "stream",
     "text": [
      "\u001b[92m\u001b[1m[2023-07-14 12:21:46.264] | Success | \u001b[0m<COVAREP> computational sequence data in correct format.\n",
      "\u001b[94m\u001b[1m[2023-07-14 12:21:46.264] | Status  | \u001b[0mChecking the format of the metadata in <COVAREP> computational sequence ...\n",
      "\u001b[93m\u001b[1m[2023-07-14 12:21:46.264] | Warning | \u001b[0m<COVAREP> computational sequence does not have all the required metadata ... continuing \n",
      "\u001b[92m\u001b[1m[2023-07-14 12:21:46.264] | Success | \u001b[0mDataset initialized successfully ... \n",
      "\u001b[92m\u001b[1m[2023-07-14 12:21:46.266] | Success | \u001b[0mComputational sequence read from file cmumosi/CMU_MOSI_TimestampedWords.csd ...\n",
      "\u001b[94m\u001b[1m[2023-07-14 12:21:46.293] | Status  | \u001b[0mChecking the integrity of the <words> computational sequence ...\n",
      "\u001b[94m\u001b[1m[2023-07-14 12:21:46.293] | Status  | \u001b[0mChecking the format of the data in <words> computational sequence ...\n"
     ]
    },
    {
     "name": "stderr",
     "output_type": "stream",
     "text": [
      "                                                                   \r"
     ]
    },
    {
     "name": "stdout",
     "output_type": "stream",
     "text": [
      "\u001b[92m\u001b[1m[2023-07-14 12:21:46.343] | Success | \u001b[0m<words> computational sequence data in correct format.\n",
      "\u001b[94m\u001b[1m[2023-07-14 12:21:46.343] | Status  | \u001b[0mChecking the format of the metadata in <words> computational sequence ...\n",
      "\u001b[93m\u001b[1m[2023-07-14 12:21:46.343] | Warning | \u001b[0m<words> computational sequence does not have all the required metadata ... continuing \n",
      "\u001b[92m\u001b[1m[2023-07-14 12:21:46.344] | Success | \u001b[0mComputational sequence read from file cmumosi/CMU_MOSI_TimestampedPhones.csd ...\n",
      "\u001b[94m\u001b[1m[2023-07-14 12:21:46.370] | Status  | \u001b[0mChecking the integrity of the <phoneme> computational sequence ...\n",
      "\u001b[94m\u001b[1m[2023-07-14 12:21:46.370] | Status  | \u001b[0mChecking the format of the data in <phoneme> computational sequence ...\n"
     ]
    },
    {
     "name": "stderr",
     "output_type": "stream",
     "text": [
      "                                                                   \r"
     ]
    },
    {
     "name": "stdout",
     "output_type": "stream",
     "text": [
      "\u001b[92m\u001b[1m[2023-07-14 12:21:46.427] | Success | \u001b[0m<phoneme> computational sequence data in correct format.\n",
      "\u001b[94m\u001b[1m[2023-07-14 12:21:46.427] | Status  | \u001b[0mChecking the format of the metadata in <phoneme> computational sequence ...\n",
      "\u001b[93m\u001b[1m[2023-07-14 12:21:46.427] | Warning | \u001b[0m<phoneme> computational sequence does not have all the required metadata ... continuing \n",
      "\u001b[92m\u001b[1m[2023-07-14 12:21:46.428] | Success | \u001b[0mComputational sequence read from file cmumosi/CMU_MOSI_Opinion_Labels.csd ...\n",
      "\u001b[94m\u001b[1m[2023-07-14 12:21:46.447] | Status  | \u001b[0mChecking the integrity of the <Opinion Segment Labels> computational sequence ...\n",
      "\u001b[94m\u001b[1m[2023-07-14 12:21:46.447] | Status  | \u001b[0mChecking the format of the data in <Opinion Segment Labels> computational sequence ...\n"
     ]
    },
    {
     "name": "stderr",
     "output_type": "stream",
     "text": [
      "                                                                   \r"
     ]
    },
    {
     "name": "stdout",
     "output_type": "stream",
     "text": [
      "\u001b[92m\u001b[1m[2023-07-14 12:21:46.509] | Success | \u001b[0m<Opinion Segment Labels> computational sequence data in correct format.\n",
      "\u001b[94m\u001b[1m[2023-07-14 12:21:46.509] | Status  | \u001b[0mChecking the format of the metadata in <Opinion Segment Labels> computational sequence ...\n",
      "\u001b[93m\u001b[1m[2023-07-14 12:21:46.509] | Warning | \u001b[0m<Opinion Segment Labels> computational sequence does not have all the required metadata ... continuing \n",
      "\u001b[94m\u001b[1m[2023-07-14 12:21:46.509] | Status  | \u001b[0mUnify was called ...\n",
      "\u001b[93m\u001b[1m[2023-07-14 12:21:46.510] | Warning | \u001b[0mc5xsKMxpXnc entry is not shared among all sequences, removing it ...\n",
      "\u001b[92m\u001b[1m[2023-07-14 12:21:46.511] | Success | \u001b[0mUnify completed ...\n",
      "\u001b[94m\u001b[1m[2023-07-14 12:21:46.511] | Status  | \u001b[0mPre-alignment based on <Opinion Segment Labels> computational sequence started ...\n",
      "\u001b[94m\u001b[1m[2023-07-14 12:21:46.719] | Status  | \u001b[0mPre-alignment done for <phonemes> ...\n",
      "\u001b[94m\u001b[1m[2023-07-14 12:22:04.582] | Status  | \u001b[0mPre-alignment done for <OpenFace_2> ...\n",
      "\u001b[94m\u001b[1m[2023-07-14 12:22:04.891] | Status  | \u001b[0mPre-alignment done for <OpenSmile-emobase2010> ...\n",
      "\u001b[94m\u001b[1m[2023-07-14 12:22:13.255] | Status  | \u001b[0mPre-alignment done for <COVAREP> ...\n",
      "\u001b[94m\u001b[1m[2023-07-14 12:22:14.596] | Status  | \u001b[0mPre-alignment done for <FACET_4.2> ...\n",
      "\u001b[94m\u001b[1m[2023-07-14 12:22:15.356] | Status  | \u001b[0mPre-alignment done for <OpenSMILE> ...\n",
      "\u001b[94m\u001b[1m[2023-07-14 12:22:16.933] | Status  | \u001b[0mPre-alignment done for <glove_vectors> ...\n",
      "\u001b[94m\u001b[1m[2023-07-14 12:22:29.052] | Status  | \u001b[0mPre-alignment done for <OpenFace_1> ...\n",
      "\u001b[94m\u001b[1m[2023-07-14 12:22:30.663] | Status  | \u001b[0mPre-alignment done for <FACET_4.1> ...\n",
      "\u001b[94m\u001b[1m[2023-07-14 12:22:30.787] | Status  | \u001b[0mPre-alignment done for <words> ...\n",
      "\u001b[94m\u001b[1m[2023-07-14 12:22:30.905] | Status  | \u001b[0mAlignment starting ...\n"
     ]
    },
    {
     "name": "stderr",
     "output_type": "stream",
     "text": [
      "                                                                                              \r"
     ]
    },
    {
     "name": "stdout",
     "output_type": "stream",
     "text": [
      "\u001b[92m\u001b[1m[2023-07-14 12:22:37.795] | Success | \u001b[0mAlignment to <Opinion Segment Labels> complete.\n",
      "\u001b[94m\u001b[1m[2023-07-14 12:22:37.795] | Status  | \u001b[0mReplacing dataset content with aligned computational sequences\n",
      "\u001b[92m\u001b[1m[2023-07-14 12:22:37.850] | Success | \u001b[0mInitialized empty <glove_vectors> computational sequence.\n",
      "\u001b[94m\u001b[1m[2023-07-14 12:22:37.850] | Status  | \u001b[0mChecking the format of the data in <glove_vectors> computational sequence ...\n"
     ]
    },
    {
     "name": "stderr",
     "output_type": "stream",
     "text": [
      "                                                                     \r"
     ]
    },
    {
     "name": "stdout",
     "output_type": "stream",
     "text": [
      "\u001b[92m\u001b[1m[2023-07-14 12:22:37.858] | Success | \u001b[0m<glove_vectors> computational sequence data in correct format.\n",
      "\u001b[94m\u001b[1m[2023-07-14 12:22:37.858] | Status  | \u001b[0mChecking the format of the metadata in <glove_vectors> computational sequence ...\n",
      "\u001b[93m\u001b[1m[2023-07-14 12:22:37.858] | Warning | \u001b[0m<glove_vectors> computational sequence does not have all the required metadata ... continuing \n",
      "\u001b[92m\u001b[1m[2023-07-14 12:22:37.858] | Success | \u001b[0mInitialized empty <FACET_4.1> computational sequence.\n",
      "\u001b[94m\u001b[1m[2023-07-14 12:22:37.858] | Status  | \u001b[0mChecking the format of the data in <FACET_4.1> computational sequence ...\n"
     ]
    },
    {
     "name": "stderr",
     "output_type": "stream",
     "text": [
      "                                                                     \r"
     ]
    },
    {
     "name": "stdout",
     "output_type": "stream",
     "text": [
      "\u001b[92m\u001b[1m[2023-07-14 12:22:37.865] | Success | \u001b[0m<FACET_4.1> computational sequence data in correct format.\n",
      "\u001b[94m\u001b[1m[2023-07-14 12:22:37.865] | Status  | \u001b[0mChecking the format of the metadata in <FACET_4.1> computational sequence ...\n",
      "\u001b[93m\u001b[1m[2023-07-14 12:22:37.865] | Warning | \u001b[0m<FACET_4.1> computational sequence does not have all the required metadata ... continuing \n",
      "\u001b[92m\u001b[1m[2023-07-14 12:22:37.865] | Success | \u001b[0mInitialized empty <FACET_4.2> computational sequence.\n",
      "\u001b[94m\u001b[1m[2023-07-14 12:22:37.865] | Status  | \u001b[0mChecking the format of the data in <FACET_4.2> computational sequence ...\n"
     ]
    },
    {
     "name": "stderr",
     "output_type": "stream",
     "text": [
      "                                                                     \r"
     ]
    },
    {
     "name": "stdout",
     "output_type": "stream",
     "text": [
      "\u001b[92m\u001b[1m[2023-07-14 12:22:37.875] | Success | \u001b[0m<FACET_4.2> computational sequence data in correct format.\n",
      "\u001b[94m\u001b[1m[2023-07-14 12:22:37.875] | Status  | \u001b[0mChecking the format of the metadata in <FACET_4.2> computational sequence ...\n",
      "\u001b[93m\u001b[1m[2023-07-14 12:22:37.875] | Warning | \u001b[0m<FACET_4.2> computational sequence does not have all the required metadata ... continuing \n",
      "\u001b[92m\u001b[1m[2023-07-14 12:22:37.875] | Success | \u001b[0mInitialized empty <OpenSmile-emobase2010> computational sequence.\n",
      "\u001b[94m\u001b[1m[2023-07-14 12:22:37.875] | Status  | \u001b[0mChecking the format of the data in <OpenSmile-emobase2010> computational sequence ...\n"
     ]
    },
    {
     "name": "stderr",
     "output_type": "stream",
     "text": [
      "                                                                     \r"
     ]
    },
    {
     "name": "stdout",
     "output_type": "stream",
     "text": [
      "\u001b[92m\u001b[1m[2023-07-14 12:22:37.883] | Success | \u001b[0m<OpenSmile-emobase2010> computational sequence data in correct format.\n",
      "\u001b[94m\u001b[1m[2023-07-14 12:22:37.884] | Status  | \u001b[0mChecking the format of the metadata in <OpenSmile-emobase2010> computational sequence ...\n",
      "\u001b[93m\u001b[1m[2023-07-14 12:22:37.884] | Warning | \u001b[0m<OpenSmile-emobase2010> computational sequence does not have all the required metadata ... continuing \n",
      "\u001b[92m\u001b[1m[2023-07-14 12:22:37.884] | Success | \u001b[0mInitialized empty <OpenSMILE> computational sequence.\n",
      "\u001b[94m\u001b[1m[2023-07-14 12:22:37.884] | Status  | \u001b[0mChecking the format of the data in <OpenSMILE> computational sequence ...\n"
     ]
    },
    {
     "name": "stderr",
     "output_type": "stream",
     "text": [
      "                                                                     \r"
     ]
    },
    {
     "name": "stdout",
     "output_type": "stream",
     "text": [
      "\u001b[92m\u001b[1m[2023-07-14 12:22:37.892] | Success | \u001b[0m<OpenSMILE> computational sequence data in correct format.\n",
      "\u001b[94m\u001b[1m[2023-07-14 12:22:37.892] | Status  | \u001b[0mChecking the format of the metadata in <OpenSMILE> computational sequence ...\n",
      "\u001b[93m\u001b[1m[2023-07-14 12:22:37.892] | Warning | \u001b[0m<OpenSMILE> computational sequence does not have all the required metadata ... continuing \n",
      "\u001b[92m\u001b[1m[2023-07-14 12:22:37.892] | Success | \u001b[0mInitialized empty <OpenFace_1> computational sequence.\n",
      "\u001b[94m\u001b[1m[2023-07-14 12:22:37.892] | Status  | \u001b[0mChecking the format of the data in <OpenFace_1> computational sequence ...\n"
     ]
    },
    {
     "name": "stderr",
     "output_type": "stream",
     "text": [
      "                                                                     \r"
     ]
    },
    {
     "name": "stdout",
     "output_type": "stream",
     "text": [
      "\u001b[92m\u001b[1m[2023-07-14 12:22:37.902] | Success | \u001b[0m<OpenFace_1> computational sequence data in correct format.\n",
      "\u001b[94m\u001b[1m[2023-07-14 12:22:37.902] | Status  | \u001b[0mChecking the format of the metadata in <OpenFace_1> computational sequence ...\n",
      "\u001b[93m\u001b[1m[2023-07-14 12:22:37.902] | Warning | \u001b[0m<OpenFace_1> computational sequence does not have all the required metadata ... continuing \n",
      "\u001b[92m\u001b[1m[2023-07-14 12:22:37.902] | Success | \u001b[0mInitialized empty <OpenFace_2> computational sequence.\n",
      "\u001b[94m\u001b[1m[2023-07-14 12:22:37.902] | Status  | \u001b[0mChecking the format of the data in <OpenFace_2> computational sequence ...\n"
     ]
    },
    {
     "name": "stderr",
     "output_type": "stream",
     "text": [
      "                                                                  \r"
     ]
    },
    {
     "name": "stdout",
     "output_type": "stream",
     "text": [
      "\u001b[92m\u001b[1m[2023-07-14 12:22:37.905] | Success | \u001b[0m<OpenFace_2> computational sequence data in correct format.\n",
      "\u001b[94m\u001b[1m[2023-07-14 12:22:37.905] | Status  | \u001b[0mChecking the format of the metadata in <OpenFace_2> computational sequence ...\n",
      "\u001b[93m\u001b[1m[2023-07-14 12:22:37.905] | Warning | \u001b[0m<OpenFace_2> computational sequence does not have all the required metadata ... continuing \n",
      "\u001b[92m\u001b[1m[2023-07-14 12:22:37.905] | Success | \u001b[0mInitialized empty <COVAREP> computational sequence.\n",
      "\u001b[94m\u001b[1m[2023-07-14 12:22:37.905] | Status  | \u001b[0mChecking the format of the data in <COVAREP> computational sequence ...\n"
     ]
    },
    {
     "name": "stderr",
     "output_type": "stream",
     "text": [
      "                                                                     \r"
     ]
    },
    {
     "name": "stdout",
     "output_type": "stream",
     "text": [
      "\u001b[92m\u001b[1m[2023-07-14 12:22:37.913] | Success | \u001b[0m<COVAREP> computational sequence data in correct format.\n",
      "\u001b[94m\u001b[1m[2023-07-14 12:22:37.913] | Status  | \u001b[0mChecking the format of the metadata in <COVAREP> computational sequence ...\n",
      "\u001b[93m\u001b[1m[2023-07-14 12:22:37.913] | Warning | \u001b[0m<COVAREP> computational sequence does not have all the required metadata ... continuing \n",
      "\u001b[92m\u001b[1m[2023-07-14 12:22:37.913] | Success | \u001b[0mInitialized empty <words> computational sequence.\n",
      "\u001b[94m\u001b[1m[2023-07-14 12:22:37.913] | Status  | \u001b[0mChecking the format of the data in <words> computational sequence ...\n"
     ]
    },
    {
     "name": "stderr",
     "output_type": "stream",
     "text": [
      "                                                                     \r"
     ]
    },
    {
     "name": "stdout",
     "output_type": "stream",
     "text": [
      "\u001b[92m\u001b[1m[2023-07-14 12:22:37.922] | Success | \u001b[0m<words> computational sequence data in correct format.\n",
      "\u001b[94m\u001b[1m[2023-07-14 12:22:37.922] | Status  | \u001b[0mChecking the format of the metadata in <words> computational sequence ...\n",
      "\u001b[93m\u001b[1m[2023-07-14 12:22:37.922] | Warning | \u001b[0m<words> computational sequence does not have all the required metadata ... continuing \n",
      "\u001b[92m\u001b[1m[2023-07-14 12:22:37.922] | Success | \u001b[0mInitialized empty <phonemes> computational sequence.\n",
      "\u001b[94m\u001b[1m[2023-07-14 12:22:37.922] | Status  | \u001b[0mChecking the format of the data in <phonemes> computational sequence ...\n"
     ]
    },
    {
     "name": "stderr",
     "output_type": "stream",
     "text": [
      "                                                                     \r"
     ]
    },
    {
     "name": "stdout",
     "output_type": "stream",
     "text": [
      "\u001b[92m\u001b[1m[2023-07-14 12:22:37.930] | Success | \u001b[0m<phonemes> computational sequence data in correct format.\n",
      "\u001b[94m\u001b[1m[2023-07-14 12:22:37.930] | Status  | \u001b[0mChecking the format of the metadata in <phonemes> computational sequence ...\n",
      "\u001b[93m\u001b[1m[2023-07-14 12:22:37.930] | Warning | \u001b[0m<phonemes> computational sequence does not have all the required metadata ... continuing \n",
      "\u001b[92m\u001b[1m[2023-07-14 12:22:37.930] | Success | \u001b[0mInitialized empty <Opinion Segment Labels> computational sequence.\n",
      "\u001b[94m\u001b[1m[2023-07-14 12:22:37.930] | Status  | \u001b[0mChecking the format of the data in <Opinion Segment Labels> computational sequence ...\n"
     ]
    },
    {
     "name": "stderr",
     "output_type": "stream",
     "text": [
      "                                                                     \r"
     ]
    },
    {
     "name": "stdout",
     "output_type": "stream",
     "text": [
      "\u001b[92m\u001b[1m[2023-07-14 12:22:37.939] | Success | \u001b[0m<Opinion Segment Labels> computational sequence data in correct format.\n",
      "\u001b[94m\u001b[1m[2023-07-14 12:22:37.939] | Status  | \u001b[0mChecking the format of the metadata in <Opinion Segment Labels> computational sequence ...\n",
      "\u001b[93m\u001b[1m[2023-07-14 12:22:37.939] | Warning | \u001b[0m<Opinion Segment Labels> computational sequence does not have all the required metadata ... continuing \n"
     ]
    }
   ],
   "source": [
    "cmumosi_highlevel=mmdatasdk.mmdataset(mmdatasdk.cmu_mosi.highlevel, 'cmumosi/')\n",
    "cmumosi_highlevel.add_computational_sequences(mmdatasdk.cmu_mosi.raw, 'cmumosi/')\n",
    "cmumosi_highlevel.add_computational_sequences(mmdatasdk.cmu_mosi.labels,'cmumosi/')\n",
    "cmumosi_highlevel.align('Opinion Segment Labels')"
   ]
  },
  {
   "cell_type": "code",
   "execution_count": 7,
   "metadata": {},
   "outputs": [
    {
     "data": {
      "text/plain": [
       "dict_keys(['glove_vectors', 'FACET_4.1', 'FACET_4.2', 'OpenSmile-emobase2010', 'OpenSMILE', 'OpenFace_1', 'OpenFace_2', 'COVAREP', 'words', 'phonemes', 'Opinion Segment Labels'])"
      ]
     },
     "execution_count": 7,
     "metadata": {},
     "output_type": "execute_result"
    }
   ],
   "source": [
    "cmumosi_highlevel.keys()"
   ]
  },
  {
   "cell_type": "code",
   "execution_count": 8,
   "metadata": {},
   "outputs": [],
   "source": [
    "tokenizer = BertTokenizer.from_pretrained('bert-base-uncased')"
   ]
  },
  {
   "cell_type": "code",
   "execution_count": 9,
   "metadata": {},
   "outputs": [],
   "source": [
    "SEP = 'sp'\n",
    "RANDOM_SEED = 42\n",
    "\n",
    "class DataPreprocessor:\n",
    "    def __init__(self, cmumosi_highlevel, tokenizer: BertTokenizer, random_seed=RANDOM_SEED, split_size=0.2):\n",
    "        self.__cmumosi_highlevel = cmumosi_highlevel\n",
    "        self.__tokenizer = tokenizer\n",
    "        self.__random_seed = random_seed\n",
    "        self.__split_size = split_size\n",
    "\n",
    "    def __to_seq(self, df):\n",
    "        return list(df[['text', 'visual_features', 'label']].itertuples(index=False, name=None))\n",
    "\n",
    "    def prepare_data(self):\n",
    "        data_df = self.__generate_data()    \n",
    "        train_df, test_df = train_test_split(data_df, test_size=self.__split_size, random_state=self.__random_seed)\n",
    "        train_df, val_df = train_test_split(train_df, test_size=self.__split_size, random_state=self.__random_seed)\n",
    "        return self.__to_seq(train_df), self.__to_seq(val_df), self.__to_seq(test_df)\n",
    "\n",
    "    def __generate_labels_df(self):\n",
    "        labels_df = pd.DataFrame(self.__cmumosi_highlevel['Opinion Segment Labels'].data).T\n",
    "        labels_df.columns = ['intervals', 'label']\n",
    "        labels_df['t_start'] = labels_df['intervals'].apply(lambda x: x[0][0])\n",
    "        # labels_df['t_start'] = labels_df['t_start'].apply(lambda x: round(x, 4))\n",
    "        labels_df['t_end'] = labels_df['intervals'].apply(lambda x: x[0][1])\n",
    "        # labels_df['t_end'] = labels_df['t_end'].apply(lambda x: round(x, 4))\n",
    "        labels_df = labels_df.drop(columns='intervals')\n",
    "        labels_df['label'] = labels_df['label'].apply(lambda x: x[0][0])\n",
    "        \n",
    "        return labels_df.reset_index().rename(columns={'index': 'sample_id'})\n",
    "\n",
    "    def __generate_language_modality(self) -> pd.DataFrame:\n",
    "        words_df = pd.DataFrame(self.__cmumosi_highlevel['words'].data).T.reset_index().rename(columns={'index': 'sample_id'})\n",
    "        words_df = words_df.explode(['features', 'intervals']).reset_index(drop=True)\n",
    "        words_df['word'] = words_df.features.apply(lambda x: x[0].decode('utf-8'))\n",
    "        words_df = words_df[words_df.word != SEP].reset_index().drop(columns=['index'])\n",
    "        words_df['t_start'] = words_df.intervals.apply(lambda x: x[0])\n",
    "        words_df['t_end'] = words_df.intervals.apply(lambda x: x[1])\n",
    "        words_df = words_df.drop(columns=['features', 'intervals'])\n",
    "        \n",
    "        return words_df\n",
    "\n",
    "    def __generate_visual_modality(self) -> pd.DataFrame:\n",
    "        visual_modality = pd.DataFrame.from_records(self.__cmumosi_highlevel['OpenFace_1'].data).T\n",
    "        visual_modality = visual_modality.reset_index().rename(columns={'index': 'sample_id'})\n",
    "        visual_modality = visual_modality.explode(['intervals', 'features']).reset_index(drop=True)\n",
    "        visual_modality['t_start'] = visual_modality.intervals.apply(lambda x: float(x[0]))\n",
    "        visual_modality['t_end'] = visual_modality.intervals.apply(lambda x: float(x[1]))\n",
    "        visual_modality = visual_modality.drop(columns=['intervals'])\n",
    "        return visual_modality\n",
    "\n",
    "\n",
    "    def __generate_data(self) -> pd.DataFrame:\n",
    "        labels_df = self.__generate_labels_df()\n",
    "        language_modality = self.__generate_language_modality()\n",
    "        visual_modality = self.__generate_visual_modality()\n",
    "        \n",
    "        data = pd.merge(language_modality, visual_modality, on='sample_id')\n",
    "        data = data[(data.t_start_x <= data.t_start_y) & (data.t_end_x >= data.t_end_y)]\n",
    "        data = data.drop(columns=['t_start_y', 't_end_y']).rename(columns={'t_start_x': 't_start', 't_end_x': 't_end'})\n",
    "        data = data.groupby(['sample_id', 'word', 't_start', 't_end']).agg({'features': lambda x: np.mean(x)}).reset_index().sort_values(by=['sample_id', 't_start'])\n",
    "        data['text'] = data.groupby('sample_id')['word'].transform(lambda x: ' '.join(x))\n",
    "        data['bert_token'] = data.word.apply(lambda x: self.__tokenizer.encode(x, add_special_tokens=False))\n",
    "        data = data.explode('bert_token')\n",
    "        data = data.rename(columns={'features': 'visual_features'})\n",
    "        data = data.groupby('sample_id').agg({'text': lambda x: x.iloc[0], 'visual_features': lambda x: np.stack(x)}).reset_index()\n",
    "        data = pd.merge(data, labels_df, on='sample_id')\n",
    "        \n",
    "        return data"
   ]
  },
  {
   "cell_type": "code",
   "execution_count": 11,
   "metadata": {},
   "outputs": [],
   "source": [
    "class CMUMOSIDataset(Dataset):\n",
    "    def __init__(self, data, tokenizer: BertTokenizer):\n",
    "        self.__data = data\n",
    "        self.__tokenizer = tokenizer\n",
    "\n",
    "    def __len__(self):\n",
    "        return len(self.__data)\n",
    "\n",
    "    def __getitem__(self, idx):\n",
    "        return self.__data[idx]\n",
    "    \n",
    "    \n",
    "    def collate_fn(self, batch):\n",
    "        language, visual, label = zip(*batch)\n",
    "        language = self.__tokenizer(language, padding=True, return_tensors=\"pt\")\n",
    "        visual = pad_sequence([FloatTensor(x) for x in visual], batch_first=True)\n",
    "        return language, visual, FloatTensor(label)"
   ]
  },
  {
   "cell_type": "code",
   "execution_count": 12,
   "metadata": {},
   "outputs": [],
   "source": [
    "train, val, test = DataPreprocessor(cmumosi_highlevel, tokenizer).prepare_data()\n",
    "\n",
    "train_dataset = CMUMOSIDataset(train, tokenizer)\n",
    "val_dataset = CMUMOSIDataset(val, tokenizer)\n",
    "test_dataset = CMUMOSIDataset(test, tokenizer)\n",
    "\n",
    "train_dl = DataLoader(train_dataset, batch_size=32, shuffle=True, collate_fn=train_dataset.collate_fn)\n",
    "val_dl = DataLoader(val_dataset, batch_size=32, shuffle=True, collate_fn=val_dataset.collate_fn)\n",
    "test_dl = DataLoader(test_dataset, batch_size=32, shuffle=True, collate_fn=test_dataset.collate_fn)"
   ]
  },
  {
   "cell_type": "code",
   "execution_count": 121,
   "metadata": {},
   "outputs": [],
   "source": [
    "from typing import NamedTuple\n",
    "\n",
    "class MCTNLosses(NamedTuple):\n",
    "    forward_translation_loss: FloatTensor = None\n",
    "    cycle_consistency_loss: FloatTensor = None\n",
    "    prediction_loss: FloatTensor = None\n",
    "\n",
    "\n",
    "class MCTNOuputs(NamedTuple):\n",
    "    prediction: FloatTensor\n",
    "    losses: MCTNLosses = None\n",
    "    \n",
    "\n",
    "class MCTN(nn.Module):\n",
    "    def __init__(self, bert_model, t_hidden_size=430, n_decoder_layers=2):\n",
    "        super(MCTN, self).__init__()\n",
    "        \n",
    "        s_hidden_size = bert_model.config.hidden_size\n",
    "        self.bert_model = bert_model\n",
    "        self.linear_ts = nn.Linear(t_hidden_size, s_hidden_size)\n",
    "        decoder_layer = nn.TransformerDecoderLayer(d_model=s_hidden_size, nhead=8, batch_first=True)\n",
    "        self.decoder = nn.TransformerDecoder(decoder_layer, num_layers=n_decoder_layers)\n",
    "        self.sentiment_regressor = nn.Sequential(\n",
    "            nn.Dropout(0.1),\n",
    "            nn.Linear(s_hidden_size, 1)\n",
    "        )\n",
    "\n",
    "        self.lt_loss = nn.SmoothL1Loss()\n",
    "        self.lc_loss = nn.SmoothL1Loss()\n",
    "        self.pred_loss = nn.MSELoss()\n",
    "        \n",
    "\n",
    "    def forward(self, language, visual, label=None):\n",
    "        # forward translation\n",
    "        outputs_s = self.bert_model(**language)\n",
    "        Hst = outputs_s.last_hidden_state\n",
    "        Xt = self.linear_ts(visual)\n",
    "        Xt_hat = self.decoder(Xt, Hst)\n",
    "\n",
    "        # backward translation\n",
    "        Hts = self.bert_model(inputs_embeds=Xt_hat, output_hidden_states=True).last_hidden_state\n",
    "        Xs = outputs_s.hidden_states[0]\n",
    "        Xs_hat = self.decoder(Xs, Hts)\n",
    "\n",
    "        # sentiment prediction\n",
    "        pred = self.sentiment_regressor(Hst[:, 0, :]).squeeze()\n",
    "        outputs = MCTNOuputs(pred)\n",
    "\n",
    "        if label is not None:\n",
    "            lt = self.lt_loss(Xt_hat, Xt)       # forward translation loss\n",
    "            lc = self.lc_loss(Xs_hat, Xs)       # cycle consistency loss\n",
    "            ls = self.pred_loss(pred, label)    # prediction loss\n",
    "            losses = MCTNLosses(lt, lc, ls)\n",
    "            outputs = MCTNOuputs(pred, losses)\n",
    "\n",
    "        return outputs"
   ]
  },
  {
   "cell_type": "code",
   "execution_count": 131,
   "metadata": {},
   "outputs": [],
   "source": [
    "class Trainer:\n",
    "    def __init__(self, model, train_dl, val_dl, optimizer, lambda_t=1, lambda_c=1):\n",
    "        self.__model = model\n",
    "        self.__train_dl = train_dl\n",
    "        self.__val_dl = val_dl\n",
    "        self.__optimizer = optimizer\n",
    "        self.__lambda_t = lambda_t\n",
    "        self.__lambda_c = lambda_c\n",
    "    \n",
    "\n",
    "    def __forward_single_batch(self, language, visual, label):\n",
    "        language, visual, label = language.to(DEVICE), visual.to(DEVICE), label.to(DEVICE)\n",
    "        outputs = self.__model(language, visual, label)\n",
    "        losses = outputs.losses\n",
    "        loss = losses.forward_translation_loss * self.__lambda_t + losses.cycle_consistency_loss * self.__lambda_c + losses.prediction_loss\n",
    "        return outputs, loss\n",
    "    \n",
    "\n",
    "    def __run_epoch(self, dl, train: bool):\n",
    "        if train:\n",
    "            self.__model.train()\n",
    "            desc = \"Training\"\n",
    "        else:\n",
    "            self.__model.eval()\n",
    "            desc = \"Evaluating\"\n",
    "    \n",
    "        epoch_losses = []\n",
    "        mctn_losses = []\n",
    "        with tqdm(total=len(dl), desc=desc, leave=False) as pbar:\n",
    "            for idx, (language, visual, label) in enumerate(self.__train_dl):\n",
    "                if train:\n",
    "                    self.__optimizer.zero_grad()\n",
    "                \n",
    "                outputs, loss = self.__forward_single_batch(language, visual, label)\n",
    "                \n",
    "                if train:\n",
    "                    loss.backward()\n",
    "                    self.__optimizer.step()\n",
    "\n",
    "                epoch_losses.append(loss.item())\n",
    "                mctn_losses.append(tuple([x.item() for x in outputs.losses]))\n",
    "                \n",
    "                if idx % 5 == 0:\n",
    "                    pbar.set_postfix({\"loss\": epoch_losses[-1]})\n",
    "                pbar.update(1)\n",
    "\n",
    "        return np.mean(epoch_losses), np.array(mctn_losses).mean(axis=0)\n",
    "\n",
    "\n",
    "    def train(self, epochs=10):\n",
    "        train_losses = []\n",
    "        mctn_train_losses = []\n",
    "        val_losses = []\n",
    "        mctn_val_losses = []\n",
    "        \n",
    "        for epoch in range(epochs):\n",
    "            epoch_loss, mctn_loss = self.__run_epoch(self.__train_dl, train=True)\n",
    "            train_losses.append(epoch_loss)\n",
    "            mctn_train_losses.append(mctn_loss)\n",
    "\n",
    "            with no_grad():\n",
    "                epoch_loss, mctn_loss = self.__run_epoch(self.__val_dl, train=False)\n",
    "                val_losses.append(epoch_loss)\n",
    "                mctn_val_losses.append(mctn_loss)\n",
    "\n",
    "            print(f\"Epoch {epoch+1}/{epochs} | Train loss: {train_losses[-1]} | Train MCTN loss: {mctn_train_losses[-1]} | Val loss: {val_losses[-1]} | Val MCTN loss: {mctn_val_losses[-1]}\")\n",
    "        \n",
    "        return train_losses, mctn_train_losses, val_losses, mctn_val_losses"
   ]
  },
  {
   "cell_type": "code",
   "execution_count": 132,
   "metadata": {},
   "outputs": [
    {
     "name": "stderr",
     "output_type": "stream",
     "text": [
      "Some weights of the model checkpoint at bert-base-uncased were not used when initializing BertModel: ['cls.seq_relationship.bias', 'cls.predictions.decoder.weight', 'cls.predictions.transform.dense.weight', 'cls.predictions.transform.LayerNorm.bias', 'cls.predictions.transform.LayerNorm.weight', 'cls.predictions.bias', 'cls.seq_relationship.weight', 'cls.predictions.transform.dense.bias']\n",
      "- This IS expected if you are initializing BertModel from the checkpoint of a model trained on another task or with another architecture (e.g. initializing a BertForSequenceClassification model from a BertForPreTraining model).\n",
      "- This IS NOT expected if you are initializing BertModel from the checkpoint of a model that you expect to be exactly identical (initializing a BertForSequenceClassification model from a BertForSequenceClassification model).\n"
     ]
    }
   ],
   "source": [
    "tokenizer = BertTokenizer.from_pretrained('bert-base-uncased')\n",
    "bert_model = BertModel.from_pretrained('bert-base-uncased', output_hidden_states = True)\n",
    "mctn = MCTN(bert_model).to(DEVICE)\n",
    "optimizer = Adam(mctn.parameters(), lr=1e-5)"
   ]
  },
  {
   "cell_type": "code",
   "execution_count": 135,
   "metadata": {},
   "outputs": [
    {
     "name": "stderr",
     "output_type": "stream",
     "text": [
      "                                                                      \r"
     ]
    },
    {
     "name": "stdout",
     "output_type": "stream",
     "text": [
      "Epoch 1/2 | Train loss: 23.678487105803057 | Train MCTN loss: [23.09670004  0.14652258  0.43526461] | Val loss: 21.31716136498885 | Val MCTN loss: [20.86017696  0.13402962  0.32295469]\n"
     ]
    },
    {
     "name": "stderr",
     "output_type": "stream",
     "text": [
      "                                                                      "
     ]
    },
    {
     "name": "stdout",
     "output_type": "stream",
     "text": [
      "Epoch 2/2 | Train loss: 18.431992985985495 | Train MCTN loss: [17.98633679  0.12843842  0.31721768] | Val loss: 15.63178790699352 | Val MCTN loss: [15.31857097  0.11422274  0.19899419]\n"
     ]
    },
    {
     "name": "stderr",
     "output_type": "stream",
     "text": [
      "\r"
     ]
    }
   ],
   "source": [
    "trainer = Trainer(mctn, train_dl, val_dl, optimizer)\n",
    "train_losses, mctn_train_losses, val_losses, mctn_val_losses = trainer.train(epochs=10)"
   ]
  },
  {
   "cell_type": "code",
   "execution_count": 140,
   "metadata": {},
   "outputs": [
    {
     "data": {
      "image/png": "[encoded data removed]",
      "text/plain": [
       "<Figure size 2000x500 with 3 Axes>"
      ]
     },
     "metadata": {},
     "output_type": "display_data"
    }
   ],
   "source": [
    "import matplotlib.pyplot as plt\n",
    "import seaborn as sns\n",
    "\n",
    "def plot_train_results(mctn_train_losses, mctn_val_losses):\n",
    "    cols = [\"forward_translation_loss\", \"cycle_consistency_loss\", \"prediction_loss\"]\n",
    "    train_mctn_losses_df = pd.DataFrame(mctn_train_losses, columns=cols)\n",
    "    val_mctn_losses_df = pd.DataFrame(mctn_val_losses, columns=cols)\n",
    "\n",
    "    _, ax = plt.subplots(1, 3, figsize=(20, 5))\n",
    "    for i, loss in enumerate(cols):\n",
    "        sns.lineplot(data=train_mctn_losses_df[loss], ax=ax[i], label=\"train\")\n",
    "        sns.lineplot(data=val_mctn_losses_df[loss], ax=ax[i], label=\"val\")\n",
    "        ax[i].set_title(loss)\n",
    "        ax[i].set_xlabel(\"Epoch\")\n",
    "        ax[i].set_ylabel(\"Loss\")\n",
    "\n",
    "plot_train_results(mctn_train_losses, mctn_val_losses)\n"
   ]
  },
  {
   "cell_type": "code",
   "execution_count": null,
   "metadata": {},
   "outputs": [],
   "source": []
  }
 ],
 "metadata": {
  "kernelspec": {
   "display_name": "Natural-Language-Processing-3523-VXvTj-HR",
   "language": "python",
   "name": "python3"
  },
  "language_info": {
   "codemirror_mode": {
    "name": "ipython",
    "version": 3
   },
   "file_extension": ".py",
   "mimetype": "text/x-python",
   "name": "python",
   "nbconvert_exporter": "python",
   "pygments_lexer": "ipython3",
   "version": "3.9.17"
  },
  "orig_nbformat": 4
 },
 "nbformat": 4,
 "nbformat_minor": 2
}
