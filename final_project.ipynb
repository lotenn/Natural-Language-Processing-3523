{
  "cells": [
    {
      "cell_type": "code",
      "source": [
        "!git clone https://github.com/CMU-MultiComp-Lab/CMU-MultimodalSDK.git\n",
        "!cp -r CMU-MultimodalSDK/mmsdk mmsdk"
      ],
      "metadata": {
        "id": "6F2P7_FZ-DTp"
      },
      "execution_count": 5,
      "outputs": []
    },
    {
      "cell_type": "code",
      "source": [
        "!pip install transformers -q\n",
        "!pip install validators -q\n",
        "!pip install colorama -q"
      ],
      "metadata": {
        "id": "F7Gctv_D-TJu"
      },
      "execution_count": 9,
      "outputs": []
    },
    {
      "cell_type": "code",
      "execution_count": 29,
      "metadata": {
        "id": "BQ05s36T-AWu"
      },
      "outputs": [],
      "source": [
        "import random\n",
        "import torch\n",
        "\n",
        "import pandas as pd\n",
        "import numpy as np\n",
        "import torch.nn as nn\n",
        "\n",
        "from typing import NamedTuple\n",
        "from tqdm import tqdm\n",
        "from mmsdk import mmdatasdk\n",
        "from sklearn.model_selection import train_test_split\n",
        "from torch.utils.data import Dataset, DataLoader\n",
        "from torch.nn.utils.rnn import pad_sequence\n",
        "from torch import FloatTensor, no_grad\n",
        "from torch.optim import Adam\n",
        "from transformers import BertTokenizer\n",
        "from transformers import BertModel, BertTokenizer"
      ]
    },
    {
      "cell_type": "code",
      "execution_count": 11,
      "metadata": {
        "id": "I2mxFrFD-AWv"
      },
      "outputs": [],
      "source": [
        "import warnings\n",
        "warnings.filterwarnings('ignore')"
      ]
    },
    {
      "cell_type": "code",
      "execution_count": 12,
      "metadata": {
        "id": "uHCVPx_h-AWv"
      },
      "outputs": [],
      "source": [
        "RANDOM_SEED = 42\n",
        "random.seed(RANDOM_SEED)\n",
        "np.random.seed(RANDOM_SEED)"
      ]
    },
    {
      "cell_type": "code",
      "execution_count": 13,
      "metadata": {
        "id": "eHv63eCe-AWw"
      },
      "outputs": [],
      "source": [
        "DEVICE = 'cuda' if torch.cuda.is_available() else 'cpu'\n",
        "assert DEVICE == 'cuda'"
      ]
    },
    {
      "cell_type": "code",
      "execution_count": 14,
      "metadata": {
        "pycharm": {
          "is_executing": true,
          "name": "#%%\n"
        },
        "colab": {
          "base_uri": "https://localhost:8080/"
        },
        "id": "vt-SDXeC-AWw",
        "outputId": "8289220e-9fea-4c58-a8cf-ba6d262f118e"
      },
      "outputs": [
        {
          "output_type": "stream",
          "name": "stdout",
          "text": [
            "\u001b[94m\u001b[1m[2023-07-15 19:17:39.088] | Status  | \u001b[0mDownloading from http://immortal.multicomp.cs.cmu.edu/CMU-MOSI/language/CMU_MOSI_TimestampedWordVectors.csd to cmumosi/CMU_MOSI_TimestampedWordVectors.csd...\n"
          ]
        },
        {
          "output_type": "stream",
          "name": "stderr",
          "text": []
        },
        {
          "output_type": "stream",
          "name": "stdout",
          "text": [
            "\u001b[92m\u001b[1m[2023-07-15 19:17:41.906] | Success | \u001b[0mDownload complete!\n",
            "\u001b[92m\u001b[1m[2023-07-15 19:17:41.908] | Success | \u001b[0mComputational sequence read from file cmumosi/CMU_MOSI_TimestampedWordVectors.csd ...\n",
            "\u001b[94m\u001b[1m[2023-07-15 19:17:41.924] | Status  | \u001b[0mChecking the integrity of the <glove_vectors> computational sequence ...\n",
            "\u001b[94m\u001b[1m[2023-07-15 19:17:41.925] | Status  | \u001b[0mChecking the format of the data in <glove_vectors> computational sequence ...\n"
          ]
        },
        {
          "output_type": "stream",
          "name": "stderr",
          "text": []
        },
        {
          "output_type": "stream",
          "name": "stdout",
          "text": [
            "\u001b[92m\u001b[1m[2023-07-15 19:17:42.022] | Success | \u001b[0m<glove_vectors> computational sequence data in correct format.\n",
            "\u001b[94m\u001b[1m[2023-07-15 19:17:42.023] | Status  | \u001b[0mChecking the format of the metadata in <glove_vectors> computational sequence ...\n",
            "\u001b[93m\u001b[1m[2023-07-15 19:17:42.024] | Warning | \u001b[0m<glove_vectors> computational sequence does not have all the required metadata ... continuing \n",
            "\u001b[94m\u001b[1m[2023-07-15 19:17:42.119] | Status  | \u001b[0mDownloading from http://immortal.multicomp.cs.cmu.edu/CMU-MOSI/visual/CMU_MOSI_Visual_Facet_41.csd to cmumosi/CMU_MOSI_Visual_Facet_41.csd...\n"
          ]
        },
        {
          "output_type": "stream",
          "name": "stderr",
          "text": []
        },
        {
          "output_type": "stream",
          "name": "stdout",
          "text": [
            "\u001b[92m\u001b[1m[2023-07-15 19:17:45.365] | Success | \u001b[0mDownload complete!\n",
            "\u001b[92m\u001b[1m[2023-07-15 19:17:45.366] | Success | \u001b[0mComputational sequence read from file cmumosi/CMU_MOSI_Visual_Facet_41.csd ...\n",
            "\u001b[94m\u001b[1m[2023-07-15 19:17:45.374] | Status  | \u001b[0mChecking the integrity of the <FACET_4.1> computational sequence ...\n",
            "\u001b[94m\u001b[1m[2023-07-15 19:17:45.374] | Status  | \u001b[0mChecking the format of the data in <FACET_4.1> computational sequence ...\n"
          ]
        },
        {
          "output_type": "stream",
          "name": "stderr",
          "text": []
        },
        {
          "output_type": "stream",
          "name": "stdout",
          "text": [
            "\u001b[92m\u001b[1m[2023-07-15 19:17:45.421] | Success | \u001b[0m<FACET_4.1> computational sequence data in correct format.\n",
            "\u001b[94m\u001b[1m[2023-07-15 19:17:45.421] | Status  | \u001b[0mChecking the format of the metadata in <FACET_4.1> computational sequence ...\n",
            "\u001b[93m\u001b[1m[2023-07-15 19:17:45.421] | Warning | \u001b[0m<FACET_4.1> computational sequence does not have all the required metadata ... continuing \n",
            "\u001b[94m\u001b[1m[2023-07-15 19:17:45.517] | Status  | \u001b[0mDownloading from http://immortal.multicomp.cs.cmu.edu/CMU-MOSI/visual/CMU_MOSI_Visual_Facet_42.csd to cmumosi/CMU_MOSI_Visual_Facet_42.csd...\n"
          ]
        },
        {
          "output_type": "stream",
          "name": "stderr",
          "text": []
        },
        {
          "output_type": "stream",
          "name": "stdout",
          "text": [
            "\u001b[92m\u001b[1m[2023-07-15 19:17:48.079] | Success | \u001b[0mDownload complete!\n",
            "\u001b[92m\u001b[1m[2023-07-15 19:17:48.080] | Success | \u001b[0mComputational sequence read from file cmumosi/CMU_MOSI_Visual_Facet_42.csd ...\n",
            "\u001b[94m\u001b[1m[2023-07-15 19:17:48.088] | Status  | \u001b[0mChecking the integrity of the <FACET_4.2> computational sequence ...\n",
            "\u001b[94m\u001b[1m[2023-07-15 19:17:48.088] | Status  | \u001b[0mChecking the format of the data in <FACET_4.2> computational sequence ...\n"
          ]
        },
        {
          "output_type": "stream",
          "name": "stderr",
          "text": []
        },
        {
          "output_type": "stream",
          "name": "stdout",
          "text": [
            "\u001b[92m\u001b[1m[2023-07-15 19:17:48.131] | Success | \u001b[0m<FACET_4.2> computational sequence data in correct format.\n",
            "\u001b[94m\u001b[1m[2023-07-15 19:17:48.131] | Status  | \u001b[0mChecking the format of the metadata in <FACET_4.2> computational sequence ...\n",
            "\u001b[93m\u001b[1m[2023-07-15 19:17:48.132] | Warning | \u001b[0m<FACET_4.2> computational sequence does not have all the required metadata ... continuing \n",
            "\u001b[94m\u001b[1m[2023-07-15 19:17:48.228] | Status  | \u001b[0mDownloading from http://immortal.multicomp.cs.cmu.edu/CMU-MOSI/acoustic/CMU_MOSI_OpenSmile_EB10.csd to cmumosi/CMU_MOSI_OpenSmile_EB10.csd...\n"
          ]
        },
        {
          "output_type": "stream",
          "name": "stderr",
          "text": []
        },
        {
          "output_type": "stream",
          "name": "stdout",
          "text": [
            "\u001b[92m\u001b[1m[2023-07-15 19:17:48.994] | Success | \u001b[0mDownload complete!\n",
            "\u001b[92m\u001b[1m[2023-07-15 19:17:48.997] | Success | \u001b[0mComputational sequence read from file cmumosi/CMU_MOSI_OpenSmile_EB10.csd ...\n",
            "\u001b[94m\u001b[1m[2023-07-15 19:17:49.005] | Status  | \u001b[0mChecking the integrity of the <OpenSmile_emobase2010> computational sequence ...\n",
            "\u001b[94m\u001b[1m[2023-07-15 19:17:49.005] | Status  | \u001b[0mChecking the format of the data in <OpenSmile_emobase2010> computational sequence ...\n"
          ]
        },
        {
          "output_type": "stream",
          "name": "stderr",
          "text": []
        },
        {
          "output_type": "stream",
          "name": "stdout",
          "text": [
            "\u001b[92m\u001b[1m[2023-07-15 19:17:49.048] | Success | \u001b[0m<OpenSmile_emobase2010> computational sequence data in correct format.\n",
            "\u001b[94m\u001b[1m[2023-07-15 19:17:49.048] | Status  | \u001b[0mChecking the format of the metadata in <OpenSmile_emobase2010> computational sequence ...\n",
            "\u001b[93m\u001b[1m[2023-07-15 19:17:49.048] | Warning | \u001b[0m<OpenSmile_emobase2010> computational sequence does not have all the required metadata ... continuing \n",
            "\u001b[94m\u001b[1m[2023-07-15 19:17:49.144] | Status  | \u001b[0mDownloading from http://immortal.multicomp.cs.cmu.edu/CMU-MOSI/acoustic/CMU_MOSI_openSMILE_IS09.csd to cmumosi/CMU_MOSI_openSMILE_IS09.csd...\n"
          ]
        },
        {
          "output_type": "stream",
          "name": "stderr",
          "text": []
        },
        {
          "output_type": "stream",
          "name": "stdout",
          "text": [
            "\u001b[92m\u001b[1m[2023-07-15 19:18:07.516] | Success | \u001b[0mDownload complete!\n",
            "\u001b[92m\u001b[1m[2023-07-15 19:18:07.517] | Success | \u001b[0mComputational sequence read from file cmumosi/CMU_MOSI_openSMILE_IS09.csd ...\n",
            "\u001b[94m\u001b[1m[2023-07-15 19:18:07.529] | Status  | \u001b[0mChecking the integrity of the <b'OpenSMILE'> computational sequence ...\n",
            "\u001b[94m\u001b[1m[2023-07-15 19:18:07.529] | Status  | \u001b[0mChecking the format of the data in <b'OpenSMILE'> computational sequence ...\n"
          ]
        },
        {
          "output_type": "stream",
          "name": "stderr",
          "text": []
        },
        {
          "output_type": "stream",
          "name": "stdout",
          "text": [
            "\u001b[92m\u001b[1m[2023-07-15 19:18:07.571] | Success | \u001b[0m<b'OpenSMILE'> computational sequence data in correct format.\n",
            "\u001b[94m\u001b[1m[2023-07-15 19:18:07.571] | Status  | \u001b[0mChecking the format of the metadata in <b'OpenSMILE'> computational sequence ...\n",
            "\u001b[93m\u001b[1m[2023-07-15 19:18:07.571] | Warning | \u001b[0m<b'OpenSMILE'> computational sequence does not have all the required metadata ... continuing \n",
            "\u001b[94m\u001b[1m[2023-07-15 19:18:07.665] | Status  | \u001b[0mDownloading from http://immortal.multicomp.cs.cmu.edu/CMU-MOSI/visual/CMU_MOSI_Visual_OpenFace_1.csd to cmumosi/CMU_MOSI_Visual_OpenFace_1.csd...\n"
          ]
        },
        {
          "output_type": "stream",
          "name": "stderr",
          "text": []
        },
        {
          "output_type": "stream",
          "name": "stdout",
          "text": [
            "\u001b[92m\u001b[1m[2023-07-15 19:18:32.295] | Success | \u001b[0mDownload complete!\n",
            "\u001b[92m\u001b[1m[2023-07-15 19:18:32.296] | Success | \u001b[0mComputational sequence read from file cmumosi/CMU_MOSI_Visual_OpenFace_1.csd ...\n",
            "\u001b[94m\u001b[1m[2023-07-15 19:18:32.304] | Status  | \u001b[0mChecking the integrity of the <OpenFace_1> computational sequence ...\n",
            "\u001b[94m\u001b[1m[2023-07-15 19:18:32.304] | Status  | \u001b[0mChecking the format of the data in <OpenFace_1> computational sequence ...\n"
          ]
        },
        {
          "output_type": "stream",
          "name": "stderr",
          "text": []
        },
        {
          "output_type": "stream",
          "name": "stdout",
          "text": [
            "\u001b[92m\u001b[1m[2023-07-15 19:18:32.346] | Success | \u001b[0m<OpenFace_1> computational sequence data in correct format.\n",
            "\u001b[94m\u001b[1m[2023-07-15 19:18:32.346] | Status  | \u001b[0mChecking the format of the metadata in <OpenFace_1> computational sequence ...\n",
            "\u001b[93m\u001b[1m[2023-07-15 19:18:32.346] | Warning | \u001b[0m<OpenFace_1> computational sequence does not have all the required metadata ... continuing \n",
            "\u001b[94m\u001b[1m[2023-07-15 19:18:32.537] | Status  | \u001b[0mDownloading from http://immortal.multicomp.cs.cmu.edu/CMU-MOSI/visual/CMU_MOSI_Visual_OpenFace_2.csd to cmumosi/CMU_MOSI_Visual_OpenFace_2.csd...\n"
          ]
        },
        {
          "output_type": "stream",
          "name": "stderr",
          "text": []
        },
        {
          "output_type": "stream",
          "name": "stdout",
          "text": [
            "\u001b[92m\u001b[1m[2023-07-15 19:18:55.109] | Success | \u001b[0mDownload complete!\n",
            "\u001b[92m\u001b[1m[2023-07-15 19:18:55.111] | Success | \u001b[0mComputational sequence read from file cmumosi/CMU_MOSI_Visual_OpenFace_2.csd ...\n",
            "\u001b[94m\u001b[1m[2023-07-15 19:18:55.119] | Status  | \u001b[0mChecking the integrity of the <OpenFace_2> computational sequence ...\n",
            "\u001b[94m\u001b[1m[2023-07-15 19:18:55.120] | Status  | \u001b[0mChecking the format of the data in <OpenFace_2> computational sequence ...\n"
          ]
        },
        {
          "output_type": "stream",
          "name": "stderr",
          "text": []
        },
        {
          "output_type": "stream",
          "name": "stdout",
          "text": [
            "\u001b[92m\u001b[1m[2023-07-15 19:18:55.163] | Success | \u001b[0m<OpenFace_2> computational sequence data in correct format.\n",
            "\u001b[94m\u001b[1m[2023-07-15 19:18:55.163] | Status  | \u001b[0mChecking the format of the metadata in <OpenFace_2> computational sequence ...\n",
            "\u001b[93m\u001b[1m[2023-07-15 19:18:55.163] | Warning | \u001b[0m<OpenFace_2> computational sequence does not have all the required metadata ... continuing \n",
            "\u001b[94m\u001b[1m[2023-07-15 19:18:55.260] | Status  | \u001b[0mDownloading from http://immortal.multicomp.cs.cmu.edu/CMU-MOSI/acoustic/CMU_MOSI_COVAREP.csd to cmumosi/CMU_MOSI_COVAREP.csd...\n"
          ]
        },
        {
          "output_type": "stream",
          "name": "stderr",
          "text": []
        },
        {
          "output_type": "stream",
          "name": "stdout",
          "text": [
            "\u001b[92m\u001b[1m[2023-07-15 19:19:10.095] | Success | \u001b[0mDownload complete!\n",
            "\u001b[92m\u001b[1m[2023-07-15 19:19:10.097] | Success | \u001b[0mComputational sequence read from file cmumosi/CMU_MOSI_COVAREP.csd ...\n",
            "\u001b[94m\u001b[1m[2023-07-15 19:19:10.112] | Status  | \u001b[0mChecking the integrity of the <COVAREP> computational sequence ...\n",
            "\u001b[94m\u001b[1m[2023-07-15 19:19:10.115] | Status  | \u001b[0mChecking the format of the data in <COVAREP> computational sequence ...\n"
          ]
        },
        {
          "output_type": "stream",
          "name": "stderr",
          "text": []
        },
        {
          "output_type": "stream",
          "name": "stdout",
          "text": [
            "\u001b[92m\u001b[1m[2023-07-15 19:19:10.196] | Success | \u001b[0m<COVAREP> computational sequence data in correct format.\n",
            "\u001b[94m\u001b[1m[2023-07-15 19:19:10.196] | Status  | \u001b[0mChecking the format of the metadata in <COVAREP> computational sequence ...\n",
            "\u001b[93m\u001b[1m[2023-07-15 19:19:10.196] | Warning | \u001b[0m<COVAREP> computational sequence does not have all the required metadata ... continuing \n",
            "\u001b[92m\u001b[1m[2023-07-15 19:19:10.196] | Success | \u001b[0mDataset initialized successfully ... \n",
            "\u001b[94m\u001b[1m[2023-07-15 19:19:10.382] | Status  | \u001b[0mDownloading from http://immortal.multicomp.cs.cmu.edu/CMU-MOSI/language/CMU_MOSI_TimestampedWords.csd to cmumosi/CMU_MOSI_TimestampedWords.csd...\n"
          ]
        },
        {
          "output_type": "stream",
          "name": "stderr",
          "text": []
        },
        {
          "output_type": "stream",
          "name": "stdout",
          "text": [
            "\u001b[92m\u001b[1m[2023-07-15 19:19:10.660] | Success | \u001b[0mDownload complete!\n",
            "\u001b[92m\u001b[1m[2023-07-15 19:19:10.662] | Success | \u001b[0mComputational sequence read from file cmumosi/CMU_MOSI_TimestampedWords.csd ...\n",
            "\u001b[94m\u001b[1m[2023-07-15 19:19:10.676] | Status  | \u001b[0mChecking the integrity of the <words> computational sequence ...\n",
            "\u001b[94m\u001b[1m[2023-07-15 19:19:10.677] | Status  | \u001b[0mChecking the format of the data in <words> computational sequence ...\n"
          ]
        },
        {
          "output_type": "stream",
          "name": "stderr",
          "text": []
        },
        {
          "output_type": "stream",
          "name": "stdout",
          "text": [
            "\u001b[92m\u001b[1m[2023-07-15 19:19:10.766] | Success | \u001b[0m<words> computational sequence data in correct format.\n",
            "\u001b[94m\u001b[1m[2023-07-15 19:19:10.767] | Status  | \u001b[0mChecking the format of the metadata in <words> computational sequence ...\n",
            "\u001b[93m\u001b[1m[2023-07-15 19:19:10.768] | Warning | \u001b[0m<words> computational sequence does not have all the required metadata ... continuing \n",
            "\u001b[94m\u001b[1m[2023-07-15 19:19:10.864] | Status  | \u001b[0mDownloading from http://immortal.multicomp.cs.cmu.edu/CMU-MOSI/language/CMU_MOSI_TimestampedPhones.csd to cmumosi/CMU_MOSI_TimestampedPhones.csd...\n"
          ]
        },
        {
          "output_type": "stream",
          "name": "stderr",
          "text": []
        },
        {
          "output_type": "stream",
          "name": "stdout",
          "text": [
            "\u001b[92m\u001b[1m[2023-07-15 19:19:11.197] | Success | \u001b[0mDownload complete!\n",
            "\u001b[92m\u001b[1m[2023-07-15 19:19:11.199] | Success | \u001b[0mComputational sequence read from file cmumosi/CMU_MOSI_TimestampedPhones.csd ...\n",
            "\u001b[94m\u001b[1m[2023-07-15 19:19:11.215] | Status  | \u001b[0mChecking the integrity of the <phoneme> computational sequence ...\n",
            "\u001b[94m\u001b[1m[2023-07-15 19:19:11.215] | Status  | \u001b[0mChecking the format of the data in <phoneme> computational sequence ...\n"
          ]
        },
        {
          "output_type": "stream",
          "name": "stderr",
          "text": []
        },
        {
          "output_type": "stream",
          "name": "stdout",
          "text": [
            "\u001b[92m\u001b[1m[2023-07-15 19:19:11.299] | Success | \u001b[0m<phoneme> computational sequence data in correct format.\n",
            "\u001b[94m\u001b[1m[2023-07-15 19:19:11.300] | Status  | \u001b[0mChecking the format of the metadata in <phoneme> computational sequence ...\n",
            "\u001b[93m\u001b[1m[2023-07-15 19:19:11.300] | Warning | \u001b[0m<phoneme> computational sequence does not have all the required metadata ... continuing \n",
            "\u001b[94m\u001b[1m[2023-07-15 19:19:11.396] | Status  | \u001b[0mDownloading from http://immortal.multicomp.cs.cmu.edu/CMU-MOSI/labels/CMU_MOSI_Opinion_Labels.csd to cmumosi/CMU_MOSI_Opinion_Labels.csd...\n"
          ]
        },
        {
          "output_type": "stream",
          "name": "stderr",
          "text": []
        },
        {
          "output_type": "stream",
          "name": "stdout",
          "text": [
            "\u001b[92m\u001b[1m[2023-07-15 19:19:11.631] | Success | \u001b[0mDownload complete!\n",
            "\u001b[92m\u001b[1m[2023-07-15 19:19:11.633] | Success | \u001b[0mComputational sequence read from file cmumosi/CMU_MOSI_Opinion_Labels.csd ...\n",
            "\u001b[94m\u001b[1m[2023-07-15 19:19:11.642] | Status  | \u001b[0mChecking the integrity of the <Opinion Segment Labels> computational sequence ...\n",
            "\u001b[94m\u001b[1m[2023-07-15 19:19:11.642] | Status  | \u001b[0mChecking the format of the data in <Opinion Segment Labels> computational sequence ...\n"
          ]
        },
        {
          "output_type": "stream",
          "name": "stderr",
          "text": []
        },
        {
          "output_type": "stream",
          "name": "stdout",
          "text": [
            "\u001b[92m\u001b[1m[2023-07-15 19:19:11.688] | Success | \u001b[0m<Opinion Segment Labels> computational sequence data in correct format.\n",
            "\u001b[94m\u001b[1m[2023-07-15 19:19:11.688] | Status  | \u001b[0mChecking the format of the metadata in <Opinion Segment Labels> computational sequence ...\n",
            "\u001b[93m\u001b[1m[2023-07-15 19:19:11.688] | Warning | \u001b[0m<Opinion Segment Labels> computational sequence does not have all the required metadata ... continuing \n",
            "\u001b[94m\u001b[1m[2023-07-15 19:19:11.688] | Status  | \u001b[0mUnify was called ...\n",
            "\u001b[93m\u001b[1m[2023-07-15 19:19:11.689] | Warning | \u001b[0mc5xsKMxpXnc entry is not shared among all sequences, removing it ...\n",
            "\u001b[92m\u001b[1m[2023-07-15 19:19:11.692] | Success | \u001b[0mUnify completed ...\n",
            "\u001b[94m\u001b[1m[2023-07-15 19:19:11.692] | Status  | \u001b[0mPre-alignment based on <Opinion Segment Labels> computational sequence started ...\n",
            "\u001b[94m\u001b[1m[2023-07-15 19:19:20.241] | Status  | \u001b[0mPre-alignment done for <OpenFace_2> ...\n",
            "\u001b[94m\u001b[1m[2023-07-15 19:19:20.633] | Status  | \u001b[0mPre-alignment done for <OpenSMILE> ...\n",
            "\u001b[94m\u001b[1m[2023-07-15 19:19:25.319] | Status  | \u001b[0mPre-alignment done for <COVAREP> ...\n",
            "\u001b[94m\u001b[1m[2023-07-15 19:19:25.391] | Status  | \u001b[0mPre-alignment done for <words> ...\n",
            "\u001b[94m\u001b[1m[2023-07-15 19:19:26.227] | Status  | \u001b[0mPre-alignment done for <FACET_4.1> ...\n",
            "\u001b[94m\u001b[1m[2023-07-15 19:19:31.797] | Status  | \u001b[0mPre-alignment done for <OpenFace_1> ...\n",
            "\u001b[94m\u001b[1m[2023-07-15 19:19:32.094] | Status  | \u001b[0mPre-alignment done for <OpenSmile-emobase2010> ...\n",
            "\u001b[94m\u001b[1m[2023-07-15 19:19:32.779] | Status  | \u001b[0mPre-alignment done for <FACET_4.2> ...\n",
            "\u001b[94m\u001b[1m[2023-07-15 19:19:32.907] | Status  | \u001b[0mPre-alignment done for <phonemes> ...\n",
            "\u001b[94m\u001b[1m[2023-07-15 19:19:33.654] | Status  | \u001b[0mPre-alignment done for <glove_vectors> ...\n",
            "\u001b[94m\u001b[1m[2023-07-15 19:19:33.707] | Status  | \u001b[0mAlignment starting ...\n"
          ]
        },
        {
          "output_type": "stream",
          "name": "stderr",
          "text": [
            "Overall Progress:   0%|          | 0/92 [00:00<?, ? Computational Sequence Entries/s]\n",
            "  0%|          | 0/13 [00:00<?, ? Segments/s]\u001b[A\n",
            "Aligning 03bSnISJMiM:   0%|          | 0/13 [00:00<?, ? Segments/s]\u001b[A\n",
            "                                                                   \u001b[A\n",
            "  0%|          | 0/25 [00:00<?, ? Segments/s]\u001b[A\n",
            "Aligning 0h-zjBukYpk:   0%|          | 0/25 [00:00<?, ? Segments/s]\u001b[A\n",
            "Aligning 0h-zjBukYpk:  96%|█████████▌| 24/25 [00:00<00:00, 231.51 Segments/s]\u001b[A\n",
            "Overall Progress:   2%|▏         | 2/92 [00:00<00:10,  8.48 Computational Sequence Entries/s]\n",
            "  0%|          | 0/14 [00:00<?, ? Segments/s]\u001b[A\n",
            "Aligning 1DmNV9C1hbY:   0%|          | 0/14 [00:00<?, ? Segments/s]\u001b[A\n",
            "                                                                   \u001b[A\n",
            "  0%|          | 0/30 [00:00<?, ? Segments/s]\u001b[A\n",
            "Aligning 1iG0909rllw:   0%|          | 0/30 [00:00<?, ? Segments/s]\u001b[A\n",
            "Aligning 1iG0909rllw:  90%|█████████ | 27/30 [00:00<00:00, 263.91 Segments/s]\u001b[A\n",
            "Overall Progress:   4%|▍         | 4/92 [00:00<00:09,  9.51 Computational Sequence Entries/s]\n",
            "  0%|          | 0/63 [00:00<?, ? Segments/s]\u001b[A\n",
            "Aligning 2WGyTLYerpo:   0%|          | 0/63 [00:00<?, ? Segments/s]\u001b[A\n",
            "Aligning 2WGyTLYerpo:  33%|███▎      | 21/63 [00:00<00:00, 206.56 Segments/s]\u001b[A\n",
            "Aligning 2WGyTLYerpo:  78%|███████▊  | 49/63 [00:00<00:00, 241.76 Segments/s]\u001b[A\n",
            "Overall Progress:   5%|▌         | 5/92 [00:00<00:13,  6.36 Computational Sequence Entries/s]\n",
            "  0%|          | 0/30 [00:00<?, ? Segments/s]\u001b[A\n",
            "Aligning 2iD-tVS8NPw:   0%|          | 0/30 [00:00<?, ? Segments/s]\u001b[A\n",
            "Aligning 2iD-tVS8NPw:  73%|███████▎  | 22/30 [00:00<00:00, 214.55 Segments/s]\u001b[A\n",
            "Overall Progress:   7%|▋         | 6/92 [00:00<00:13,  6.35 Computational Sequence Entries/s]\n",
            "  0%|          | 0/24 [00:00<?, ? Segments/s]\u001b[A\n",
            "Aligning 5W7Z1C_fDaE:   0%|          | 0/24 [00:00<?, ? Segments/s]\u001b[A\n",
            "                                                                   \u001b[A\n",
            "  0%|          | 0/12 [00:00<?, ? Segments/s]\u001b[A\n",
            "Aligning 6Egk_28TtTM:   0%|          | 0/12 [00:00<?, ? Segments/s]\u001b[A\n",
            "Overall Progress:   9%|▊         | 8/92 [00:01<00:10,  8.34 Computational Sequence Entries/s]\n",
            "  0%|          | 0/14 [00:00<?, ? Segments/s]\u001b[A\n",
            "Aligning 6_0THN4chvY:   0%|          | 0/14 [00:00<?, ? Segments/s]\u001b[A\n",
            "                                                                   \u001b[A\n",
            "  0%|          | 0/19 [00:00<?, ? Segments/s]\u001b[A\n",
            "Aligning 73jzhE8R1TQ:   0%|          | 0/19 [00:00<?, ? Segments/s]\u001b[A\n",
            "Overall Progress:  11%|█         | 10/92 [00:01<00:08,  9.37 Computational Sequence Entries/s]\n",
            "  0%|          | 0/39 [00:00<?, ? Segments/s]\u001b[A\n",
            "Aligning 7JsX8y1ysxY:   0%|          | 0/39 [00:00<?, ? Segments/s]\u001b[A\n",
            "Aligning 7JsX8y1ysxY:  64%|██████▍   | 25/39 [00:00<00:00, 241.87 Segments/s]\u001b[A\n",
            "Overall Progress:  12%|█▏        | 11/92 [00:01<00:09,  8.30 Computational Sequence Entries/s]\n",
            "  0%|          | 0/23 [00:00<?, ? Segments/s]\u001b[A\n",
            "Aligning 8OtFthrtaJM:   0%|          | 0/23 [00:00<?, ? Segments/s]\u001b[A\n",
            "Overall Progress:  13%|█▎        | 12/92 [00:01<00:09,  8.49 Computational Sequence Entries/s]\n",
            "  0%|          | 0/30 [00:00<?, ? Segments/s]\u001b[A\n",
            "Aligning 8d-gEyoeBzc:   0%|          | 0/30 [00:00<?, ? Segments/s]\u001b[A\n",
            "Aligning 8d-gEyoeBzc:  53%|█████▎    | 16/30 [00:00<00:00, 159.47 Segments/s]\u001b[A\n",
            "Overall Progress:  14%|█▍        | 13/92 [00:01<00:10,  7.27 Computational Sequence Entries/s]\n",
            "  0%|          | 0/26 [00:00<?, ? Segments/s]\u001b[A\n",
            "Aligning 8qrpnFRGt2A:   0%|          | 0/26 [00:00<?, ? Segments/s]\u001b[A\n",
            "Aligning 8qrpnFRGt2A:  73%|███████▎  | 19/26 [00:00<00:00, 182.43 Segments/s]\u001b[A\n",
            "Overall Progress:  15%|█▌        | 14/92 [00:01<00:11,  7.03 Computational Sequence Entries/s]\n",
            "  0%|          | 0/25 [00:00<?, ? Segments/s]\u001b[A\n",
            "Aligning 9J25DZhivz8:   0%|          | 0/25 [00:00<?, ? Segments/s]\u001b[A\n",
            "Aligning 9J25DZhivz8:  76%|███████▌  | 19/25 [00:00<00:00, 185.26 Segments/s]\u001b[A\n",
            "Overall Progress:  16%|█▋        | 15/92 [00:01<00:11,  6.92 Computational Sequence Entries/s]\n",
            "  0%|          | 0/25 [00:00<?, ? Segments/s]\u001b[A\n",
            "Aligning 9T9Hf74oK10:   0%|          | 0/25 [00:00<?, ? Segments/s]\u001b[A\n",
            "Aligning 9T9Hf74oK10:  72%|███████▏  | 18/25 [00:00<00:00, 177.85 Segments/s]\u001b[A\n",
            "Overall Progress:  17%|█▋        | 16/92 [00:02<00:11,  6.61 Computational Sequence Entries/s]\n",
            "  0%|          | 0/12 [00:00<?, ? Segments/s]\u001b[A\n",
            "Aligning 9c67fiY0wGQ:   0%|          | 0/12 [00:00<?, ? Segments/s]\u001b[A\n",
            "                                                                   \u001b[A\n",
            "  0%|          | 0/33 [00:00<?, ? Segments/s]\u001b[A\n",
            "Aligning 9qR7uwkblbs:   0%|          | 0/33 [00:00<?, ? Segments/s]\u001b[A\n",
            "Aligning 9qR7uwkblbs:  55%|█████▍    | 18/33 [00:00<00:00, 176.13 Segments/s]\u001b[A\n",
            "Overall Progress:  20%|█▉        | 18/92 [00:02<00:10,  7.00 Computational Sequence Entries/s]\n",
            "  0%|          | 0/31 [00:00<?, ? Segments/s]\u001b[A\n",
            "Aligning Af8D0E4ZXaw:   0%|          | 0/31 [00:00<?, ? Segments/s]\u001b[A\n",
            "Aligning Af8D0E4ZXaw:  61%|██████▏   | 19/31 [00:00<00:00, 188.36 Segments/s]\u001b[A\n",
            "Overall Progress:  21%|██        | 19/92 [00:02<00:11,  6.54 Computational Sequence Entries/s]\n",
            "  0%|          | 0/31 [00:00<?, ? Segments/s]\u001b[A\n",
            "Aligning BI97DNYfe5I:   0%|          | 0/31 [00:00<?, ? Segments/s]\u001b[A\n",
            "Aligning BI97DNYfe5I:  77%|███████▋  | 24/31 [00:00<00:00, 239.02 Segments/s]\u001b[A\n",
            "Overall Progress:  22%|██▏       | 20/92 [00:02<00:10,  6.61 Computational Sequence Entries/s]\n",
            "  0%|          | 0/31 [00:00<?, ? Segments/s]\u001b[A\n",
            "Aligning BXuRRbG0Ugk:   0%|          | 0/31 [00:00<?, ? Segments/s]\u001b[A\n",
            "Aligning BXuRRbG0Ugk:  55%|█████▍    | 17/31 [00:00<00:00, 163.93 Segments/s]\u001b[A\n",
            "Overall Progress:  23%|██▎       | 21/92 [00:02<00:11,  6.02 Computational Sequence Entries/s]\n",
            "  0%|          | 0/22 [00:00<?, ? Segments/s]\u001b[A\n",
            "Aligning Bfr499ggo-0:   0%|          | 0/22 [00:00<?, ? Segments/s]\u001b[A\n",
            "Overall Progress:  24%|██▍       | 22/92 [00:03<00:10,  6.68 Computational Sequence Entries/s]\n",
            "  0%|          | 0/30 [00:00<?, ? Segments/s]\u001b[A\n",
            "Aligning BioHAh1qJAQ:   0%|          | 0/30 [00:00<?, ? Segments/s]\u001b[A\n",
            "Aligning BioHAh1qJAQ:  57%|█████▋    | 17/30 [00:00<00:00, 166.89 Segments/s]\u001b[A\n",
            "Overall Progress:  25%|██▌       | 23/92 [00:03<00:11,  6.16 Computational Sequence Entries/s]\n",
            "  0%|          | 0/26 [00:00<?, ? Segments/s]\u001b[A\n",
            "Aligning BvYR0L6f2Ig:   0%|          | 0/26 [00:00<?, ? Segments/s]\u001b[A\n",
            "Aligning BvYR0L6f2Ig:  77%|███████▋  | 20/26 [00:00<00:00, 197.84 Segments/s]\u001b[A\n",
            "Overall Progress:  26%|██▌       | 24/92 [00:03<00:10,  6.34 Computational Sequence Entries/s]\n",
            "  0%|          | 0/44 [00:00<?, ? Segments/s]\u001b[A\n",
            "Aligning Ci-AH39fi3Y:   0%|          | 0/44 [00:00<?, ? Segments/s]\u001b[A\n",
            "Aligning Ci-AH39fi3Y:  45%|████▌     | 20/44 [00:00<00:00, 194.46 Segments/s]\u001b[A\n",
            "Aligning Ci-AH39fi3Y:  91%|█████████ | 40/44 [00:00<00:00, 196.12 Segments/s]\u001b[A\n",
            "Overall Progress:  27%|██▋       | 25/92 [00:03<00:12,  5.45 Computational Sequence Entries/s]\n",
            "  0%|          | 0/31 [00:00<?, ? Segments/s]\u001b[A\n",
            "Aligning Clx4VXItLTE:   0%|          | 0/31 [00:00<?, ? Segments/s]\u001b[A\n",
            "Aligning Clx4VXItLTE:  58%|█████▊    | 18/31 [00:00<00:00, 174.62 Segments/s]\u001b[A\n",
            "Overall Progress:  28%|██▊       | 26/92 [00:03<00:12,  5.41 Computational Sequence Entries/s]\n",
            "  0%|          | 0/18 [00:00<?, ? Segments/s]\u001b[A\n",
            "Aligning Dg_0XKD0Mf4:   0%|          | 0/18 [00:00<?, ? Segments/s]\u001b[A\n",
            "Overall Progress:  29%|██▉       | 27/92 [00:03<00:10,  6.22 Computational Sequence Entries/s]\n",
            "  0%|          | 0/21 [00:00<?, ? Segments/s]\u001b[A\n",
            "Aligning G-xst2euQUc:   0%|          | 0/21 [00:00<?, ? Segments/s]\u001b[A\n",
            "Aligning G-xst2euQUc: 100%|██████████| 21/21 [00:00<00:00, 208.07 Segments/s]\u001b[A\n",
            "Overall Progress:  30%|███       | 28/92 [00:04<00:09,  6.73 Computational Sequence Entries/s]\n",
            "  0%|          | 0/29 [00:00<?, ? Segments/s]\u001b[A\n",
            "Aligning G6GlGvlkxAQ:   0%|          | 0/29 [00:00<?, ? Segments/s]\u001b[A\n",
            "Aligning G6GlGvlkxAQ:  62%|██████▏   | 18/29 [00:00<00:00, 178.15 Segments/s]\u001b[A\n",
            "Overall Progress:  32%|███▏      | 29/92 [00:04<00:09,  6.30 Computational Sequence Entries/s]\n",
            "  0%|          | 0/18 [00:00<?, ? Segments/s]\u001b[A\n",
            "Aligning GWuJjcEuzt8:   0%|          | 0/18 [00:00<?, ? Segments/s]\u001b[A\n",
            "                                                                   \u001b[A\n",
            "  0%|          | 0/34 [00:00<?, ? Segments/s]\u001b[A\n",
            "Aligning HEsqda8_d0Q:   0%|          | 0/34 [00:00<?, ? Segments/s]\u001b[A\n",
            "Aligning HEsqda8_d0Q:  53%|█████▎    | 18/34 [00:00<00:00, 174.34 Segments/s]\u001b[A\n",
            "Overall Progress:  34%|███▎      | 31/92 [00:04<00:09,  6.52 Computational Sequence Entries/s]\n",
            "  0%|          | 0/39 [00:00<?, ? Segments/s]\u001b[A\n",
            "Aligning I5y0__X72p0:   0%|          | 0/39 [00:00<?, ? Segments/s]\u001b[A\n",
            "Aligning I5y0__X72p0:  41%|████      | 16/39 [00:00<00:00, 152.18 Segments/s]\u001b[A\n",
            "Aligning I5y0__X72p0:  90%|████████▉ | 35/39 [00:00<00:00, 173.88 Segments/s]\u001b[A\n",
            "Overall Progress:  35%|███▍      | 32/92 [00:04<00:10,  5.64 Computational Sequence Entries/s]\n",
            "  0%|          | 0/16 [00:00<?, ? Segments/s]\u001b[A\n",
            "Aligning Iu2PFX3z_1s:   0%|          | 0/16 [00:00<?, ? Segments/s]\u001b[A\n",
            "                                                                   \u001b[A\n",
            "  0%|          | 0/22 [00:00<?, ? Segments/s]\u001b[A\n",
            "Aligning IumbAb8q2dM:   0%|          | 0/22 [00:00<?, ? Segments/s]\u001b[A\n",
            "Aligning IumbAb8q2dM:  82%|████████▏ | 18/22 [00:00<00:00, 179.46 Segments/s]\u001b[A\n",
            "Overall Progress:  37%|███▋      | 34/92 [00:05<00:08,  6.56 Computational Sequence Entries/s]\n",
            "  0%|          | 0/20 [00:00<?, ? Segments/s]\u001b[A\n",
            "Aligning Jkswaaud0hk:   0%|          | 0/20 [00:00<?, ? Segments/s]\u001b[A\n",
            "                                                                   \u001b[A\n",
            "  0%|          | 0/29 [00:00<?, ? Segments/s]\u001b[A\n",
            "Aligning LSi-o-IrDMs:   0%|          | 0/29 [00:00<?, ? Segments/s]\u001b[A\n",
            "Aligning LSi-o-IrDMs:  59%|█████▊    | 17/29 [00:00<00:00, 162.35 Segments/s]\u001b[A\n",
            "Overall Progress:  39%|███▉      | 36/92 [00:05<00:08,  6.67 Computational Sequence Entries/s]\n",
            "  0%|          | 0/18 [00:00<?, ? Segments/s]\u001b[A\n",
            "Aligning MLal-t_vJPM:   0%|          | 0/18 [00:00<?, ? Segments/s]\u001b[A\n",
            "                                                                   \u001b[A\n",
            "  0%|          | 0/13 [00:00<?, ? Segments/s]\u001b[A\n",
            "Aligning Njd1F0vZSm4:   0%|          | 0/13 [00:00<?, ? Segments/s]\u001b[A\n",
            "Overall Progress:  41%|████▏     | 38/92 [00:05<00:06,  7.88 Computational Sequence Entries/s]\n",
            "  0%|          | 0/32 [00:00<?, ? Segments/s]\u001b[A\n",
            "Aligning Nzq88NnDkEk:   0%|          | 0/32 [00:00<?, ? Segments/s]\u001b[A\n",
            "Aligning Nzq88NnDkEk:  53%|█████▎    | 17/32 [00:00<00:00, 168.87 Segments/s]\u001b[A\n",
            "Overall Progress:  42%|████▏     | 39/92 [00:05<00:07,  7.05 Computational Sequence Entries/s]\n",
            "  0%|          | 0/16 [00:00<?, ? Segments/s]\u001b[A\n",
            "Aligning OQvJTdtJ2H4:   0%|          | 0/16 [00:00<?, ? Segments/s]\u001b[A\n",
            "                                                                   \u001b[A\n",
            "  0%|          | 0/24 [00:00<?, ? Segments/s]\u001b[A\n",
            "Aligning OtBXNcAL_lE:   0%|          | 0/24 [00:00<?, ? Segments/s]\u001b[A\n",
            "Aligning OtBXNcAL_lE:  71%|███████   | 17/24 [00:00<00:00, 167.27 Segments/s]\u001b[A\n",
            "Overall Progress:  45%|████▍     | 41/92 [00:05<00:06,  7.32 Computational Sequence Entries/s]\n",
            "  0%|          | 0/25 [00:00<?, ? Segments/s]\u001b[A\n",
            "Aligning Oz06ZWiO20M:   0%|          | 0/25 [00:00<?, ? Segments/s]\u001b[A\n",
            "Aligning Oz06ZWiO20M:  72%|███████▏  | 18/25 [00:00<00:00, 179.46 Segments/s]\u001b[A\n",
            "Overall Progress:  46%|████▌     | 42/92 [00:06<00:07,  7.10 Computational Sequence Entries/s]\n",
            "  0%|          | 0/13 [00:00<?, ? Segments/s]\u001b[A\n",
            "Aligning POKffnXeBds:   0%|          | 0/13 [00:00<?, ? Segments/s]\u001b[A\n",
            "                                                                   \u001b[A\n",
            "  0%|          | 0/12 [00:00<?, ? Segments/s]\u001b[A\n",
            "Aligning PZ-lDQFboO8:   0%|          | 0/12 [00:00<?, ? Segments/s]\u001b[A\n",
            "Overall Progress:  48%|████▊     | 44/92 [00:06<00:05,  8.78 Computational Sequence Entries/s]\n",
            "  0%|          | 0/18 [00:00<?, ? Segments/s]\u001b[A\n",
            "Aligning QN9ZIUWUXsY:   0%|          | 0/18 [00:00<?, ? Segments/s]\u001b[A\n",
            "Aligning QN9ZIUWUXsY: 100%|██████████| 18/18 [00:00<00:00, 178.24 Segments/s]\u001b[A\n",
            "Overall Progress:  49%|████▉     | 45/92 [00:06<00:05,  8.73 Computational Sequence Entries/s]\n",
            "  0%|          | 0/14 [00:00<?, ? Segments/s]\u001b[A\n",
            "Aligning Qr1Ca94K55A:   0%|          | 0/14 [00:00<?, ? Segments/s]\u001b[A\n",
            "                                                                   \u001b[A\n",
            "  0%|          | 0/22 [00:00<?, ? Segments/s]\u001b[A\n",
            "Aligning Sqr0AcuoNnk:   0%|          | 0/22 [00:00<?, ? Segments/s]\u001b[A\n",
            "Aligning Sqr0AcuoNnk:  91%|█████████ | 20/22 [00:00<00:00, 193.41 Segments/s]\u001b[A\n",
            "Overall Progress:  51%|█████     | 47/92 [00:06<00:04,  9.01 Computational Sequence Entries/s]\n",
            "  0%|          | 0/15 [00:00<?, ? Segments/s]\u001b[A\n",
            "Aligning TvyZBvOMOTc:   0%|          | 0/15 [00:00<?, ? Segments/s]\u001b[A\n",
            "                                                                   \u001b[A\n",
            "  0%|          | 0/17 [00:00<?, ? Segments/s]\u001b[A\n",
            "Aligning VCslbP0mgZI:   0%|          | 0/17 [00:00<?, ? Segments/s]\u001b[A\n",
            "Overall Progress:  53%|█████▎    | 49/92 [00:06<00:04, 10.00 Computational Sequence Entries/s]\n",
            "  0%|          | 0/55 [00:00<?, ? Segments/s]\u001b[A\n",
            "Aligning VbQk4H8hgr0:   0%|          | 0/55 [00:00<?, ? Segments/s]\u001b[A\n",
            "Aligning VbQk4H8hgr0:  55%|█████▍    | 30/55 [00:00<00:00, 293.96 Segments/s]\u001b[A\n",
            "                                                                             \u001b[A\n",
            "  0%|          | 0/9 [00:00<?, ? Segments/s]\u001b[A\n",
            "Aligning Vj1wYRQjB-o:   0%|          | 0/9 [00:00<?, ? Segments/s]\u001b[A\n",
            "Overall Progress:  55%|█████▌    | 51/92 [00:06<00:04,  9.03 Computational Sequence Entries/s]\n",
            "  0%|          | 0/32 [00:00<?, ? Segments/s]\u001b[A\n",
            "Aligning W8NXH0Djyww:   0%|          | 0/32 [00:00<?, ? Segments/s]\u001b[A\n",
            "Aligning W8NXH0Djyww:  94%|█████████▍| 30/32 [00:00<00:00, 293.33 Segments/s]\u001b[A\n",
            "Overall Progress:  57%|█████▋    | 52/92 [00:07<00:04,  8.72 Computational Sequence Entries/s]\n",
            "  0%|          | 0/22 [00:00<?, ? Segments/s]\u001b[A\n",
            "Aligning WKA5OygbEKI:   0%|          | 0/22 [00:00<?, ? Segments/s]\u001b[A\n",
            "                                                                   \u001b[A\n",
            "  0%|          | 0/11 [00:00<?, ? Segments/s]\u001b[A\n",
            "Aligning X3j2zQgwYgE:   0%|          | 0/11 [00:00<?, ? Segments/s]\u001b[A\n",
            "Overall Progress:  59%|█████▊    | 54/92 [00:07<00:03, 10.05 Computational Sequence Entries/s]\n",
            "  0%|          | 0/9 [00:00<?, ? Segments/s]\u001b[A\n",
            "Aligning ZAIRrfG22O0:   0%|          | 0/9 [00:00<?, ? Segments/s]\u001b[A\n",
            "                                                                  \u001b[A\n",
            "  0%|          | 0/34 [00:00<?, ? Segments/s]\u001b[A\n",
            "Aligning ZUXBRvtny7o:   0%|          | 0/34 [00:00<?, ? Segments/s]\u001b[A\n",
            "Aligning ZUXBRvtny7o:  74%|███████▎  | 25/34 [00:00<00:00, 249.07 Segments/s]\u001b[A\n",
            "Overall Progress:  61%|██████    | 56/92 [00:07<00:03, 10.18 Computational Sequence Entries/s]\n",
            "  0%|          | 0/28 [00:00<?, ? Segments/s]\u001b[A\n",
            "Aligning _dI--eQ6qVU:   0%|          | 0/28 [00:00<?, ? Segments/s]\u001b[A\n",
            "                                                                   \u001b[A\n",
            "  0%|          | 0/30 [00:00<?, ? Segments/s]\u001b[A\n",
            "Aligning aiEXnCPZubE:   0%|          | 0/30 [00:00<?, ? Segments/s]\u001b[A\n",
            "Aligning aiEXnCPZubE:  97%|█████████▋| 29/30 [00:00<00:00, 286.11 Segments/s]\u001b[A\n",
            "Overall Progress:  63%|██████▎   | 58/92 [00:07<00:03,  9.41 Computational Sequence Entries/s]\n",
            "  0%|          | 0/21 [00:00<?, ? Segments/s]\u001b[A\n",
            "Aligning atnd_PF-Lbs:   0%|          | 0/21 [00:00<?, ? Segments/s]\u001b[A\n",
            "                                                                   \u001b[A\n",
            "  0%|          | 0/34 [00:00<?, ? Segments/s]\u001b[A\n",
            "Aligning bOL9jKpeJRs:   0%|          | 0/34 [00:00<?, ? Segments/s]\u001b[A\n",
            "Overall Progress:  65%|██████▌   | 60/92 [00:07<00:03,  9.35 Computational Sequence Entries/s]\n",
            "  0%|          | 0/25 [00:00<?, ? Segments/s]\u001b[A\n",
            "Aligning bvLlb-M3UXU:   0%|          | 0/25 [00:00<?, ? Segments/s]\u001b[A\n",
            "Overall Progress:  66%|██████▋   | 61/92 [00:08<00:03,  9.35 Computational Sequence Entries/s]\n",
            "  0%|          | 0/33 [00:00<?, ? Segments/s]\u001b[A\n",
            "Aligning c7UH_rxdZv4:   0%|          | 0/33 [00:00<?, ? Segments/s]\u001b[A\n",
            "Aligning c7UH_rxdZv4:  82%|████████▏ | 27/33 [00:00<00:00, 269.71 Segments/s]\u001b[A\n",
            "Overall Progress:  67%|██████▋   | 62/92 [00:08<00:03,  8.81 Computational Sequence Entries/s]\n",
            "  0%|          | 0/16 [00:00<?, ? Segments/s]\u001b[A\n",
            "Aligning cM3Yna7AavY:   0%|          | 0/16 [00:00<?, ? Segments/s]\u001b[A\n",
            "                                                                   \u001b[A\n",
            "  0%|          | 0/24 [00:00<?, ? Segments/s]\u001b[A\n",
            "Aligning cW1FSBF59ik:   0%|          | 0/24 [00:00<?, ? Segments/s]\u001b[A\n",
            "Overall Progress:  70%|██████▉   | 64/92 [00:08<00:02,  9.61 Computational Sequence Entries/s]\n",
            "  0%|          | 0/29 [00:00<?, ? Segments/s]\u001b[A\n",
            "Aligning cXypl4FnoZo:   0%|          | 0/29 [00:00<?, ? Segments/s]\u001b[A\n",
            "Aligning cXypl4FnoZo:  83%|████████▎ | 24/29 [00:00<00:00, 236.30 Segments/s]\u001b[A\n",
            "Overall Progress:  71%|███████   | 65/92 [00:08<00:03,  8.99 Computational Sequence Entries/s]\n",
            "  0%|          | 0/19 [00:00<?, ? Segments/s]\u001b[A\n",
            "Aligning d3_k5Xpfmik:   0%|          | 0/19 [00:00<?, ? Segments/s]\u001b[A\n",
            "                                                                   \u001b[A\n",
            "  0%|          | 0/43 [00:00<?, ? Segments/s]\u001b[A\n",
            "Aligning d6hH302o4v8:   0%|          | 0/43 [00:00<?, ? Segments/s]\u001b[A\n",
            "Aligning d6hH302o4v8:  84%|████████▎ | 36/43 [00:00<00:00, 352.10 Segments/s]\u001b[A\n",
            "Overall Progress:  73%|███████▎  | 67/92 [00:08<00:02,  8.87 Computational Sequence Entries/s]\n",
            "  0%|          | 0/15 [00:00<?, ? Segments/s]\u001b[A\n",
            "Aligning dq3Nf_lMPnE:   0%|          | 0/15 [00:00<?, ? Segments/s]\u001b[A\n",
            "                                                                   \u001b[A\n",
            "  0%|          | 0/19 [00:00<?, ? Segments/s]\u001b[A\n",
            "Aligning etzxEpPuc6I:   0%|          | 0/19 [00:00<?, ? Segments/s]\u001b[A\n",
            "Overall Progress:  75%|███████▌  | 69/92 [00:08<00:02, 10.08 Computational Sequence Entries/s]\n",
            "  0%|          | 0/30 [00:00<?, ? Segments/s]\u001b[A\n",
            "Aligning f9O3YtZ2VfI:   0%|          | 0/30 [00:00<?, ? Segments/s]\u001b[A\n",
            "Aligning f9O3YtZ2VfI: 100%|██████████| 30/30 [00:00<00:00, 296.82 Segments/s]\u001b[A\n",
            "                                                                             \u001b[A\n",
            "  0%|          | 0/15 [00:00<?, ? Segments/s]\u001b[A\n",
            "Aligning f_pcplsH_V0:   0%|          | 0/15 [00:00<?, ? Segments/s]\u001b[A\n",
            "Overall Progress:  77%|███████▋  | 71/92 [00:09<00:02, 10.09 Computational Sequence Entries/s]\n",
            "  0%|          | 0/14 [00:00<?, ? Segments/s]\u001b[A\n",
            "Aligning fvVhgmXxadc:   0%|          | 0/14 [00:00<?, ? Segments/s]\u001b[A\n",
            "                                                                   \u001b[A\n",
            "  0%|          | 0/18 [00:00<?, ? Segments/s]\u001b[A\n",
            "Aligning iiK8YX8oH1E:   0%|          | 0/18 [00:00<?, ? Segments/s]\u001b[A\n",
            "Overall Progress:  79%|███████▉  | 73/92 [00:09<00:01, 10.86 Computational Sequence Entries/s]\n",
            "  0%|          | 0/27 [00:00<?, ? Segments/s]\u001b[A\n",
            "Aligning jUzDDGyPkXU:   0%|          | 0/27 [00:00<?, ? Segments/s]\u001b[A\n",
            "Aligning jUzDDGyPkXU: 100%|██████████| 27/27 [00:00<00:00, 266.29 Segments/s]\u001b[A\n",
            "                                                                             \u001b[A\n",
            "  0%|          | 0/31 [00:00<?, ? Segments/s]\u001b[A\n",
            "Aligning k5Y_838nuGo:   0%|          | 0/31 [00:00<?, ? Segments/s]\u001b[A\n",
            "Aligning k5Y_838nuGo:  77%|███████▋  | 24/31 [00:00<00:00, 239.92 Segments/s]\u001b[A\n",
            "Overall Progress:  82%|████████▏ | 75/92 [00:09<00:01,  9.64 Computational Sequence Entries/s]\n",
            "  0%|          | 0/30 [00:00<?, ? Segments/s]\u001b[A\n",
            "Aligning lXPQBPVc5Cw:   0%|          | 0/30 [00:00<?, ? Segments/s]\u001b[A\n",
            "Aligning lXPQBPVc5Cw:  83%|████████▎ | 25/30 [00:00<00:00, 247.72 Segments/s]\u001b[A\n",
            "                                                                             \u001b[A\n",
            "  0%|          | 0/10 [00:00<?, ? Segments/s]\u001b[A\n",
            "Aligning nbWiPyCm4g0:   0%|          | 0/10 [00:00<?, ? Segments/s]\u001b[A\n",
            "Overall Progress:  84%|████████▎ | 77/92 [00:09<00:01,  9.74 Computational Sequence Entries/s]\n",
            "  0%|          | 0/24 [00:00<?, ? Segments/s]\u001b[A\n",
            "Aligning nzpVDcQ0ywM:   0%|          | 0/24 [00:00<?, ? Segments/s]\u001b[A\n",
            "                                                                   \u001b[A\n",
            "  0%|          | 0/14 [00:00<?, ? Segments/s]\u001b[A\n",
            "Aligning ob23OKe5a9Q:   0%|          | 0/14 [00:00<?, ? Segments/s]\u001b[A\n",
            "Overall Progress:  86%|████████▌ | 79/92 [00:09<00:01, 10.05 Computational Sequence Entries/s]\n",
            "  0%|          | 0/16 [00:00<?, ? Segments/s]\u001b[A\n",
            "Aligning pLTX3ipuDJI:   0%|          | 0/16 [00:00<?, ? Segments/s]\u001b[A\n",
            "                                                                   \u001b[A\n",
            "  0%|          | 0/21 [00:00<?, ? Segments/s]\u001b[A\n",
            "Aligning phBUpBr1hSo:   0%|          | 0/21 [00:00<?, ? Segments/s]\u001b[A\n",
            "Overall Progress:  88%|████████▊ | 81/92 [00:10<00:01, 10.36 Computational Sequence Entries/s]\n",
            "  0%|          | 0/22 [00:00<?, ? Segments/s]\u001b[A\n",
            "Aligning rnaNMUZpvvg:   0%|          | 0/22 [00:00<?, ? Segments/s]\u001b[A\n",
            "                                                                   \u001b[A\n",
            "  0%|          | 0/18 [00:00<?, ? Segments/s]\u001b[A\n",
            "Aligning tIrG4oNLFzE:   0%|          | 0/18 [00:00<?, ? Segments/s]\u001b[A\n",
            "Overall Progress:  90%|█████████ | 83/92 [00:10<00:00, 10.29 Computational Sequence Entries/s]\n",
            "  0%|          | 0/16 [00:00<?, ? Segments/s]\u001b[A\n",
            "Aligning tStelxIAHjw:   0%|          | 0/16 [00:00<?, ? Segments/s]\u001b[A\n",
            "                                                                   \u001b[A\n",
            "  0%|          | 0/20 [00:00<?, ? Segments/s]\u001b[A\n",
            "Aligning tmZoasNr4rU:   0%|          | 0/20 [00:00<?, ? Segments/s]\u001b[A\n",
            "Overall Progress:  92%|█████████▏| 85/92 [00:10<00:00, 10.57 Computational Sequence Entries/s]\n",
            "  0%|          | 0/16 [00:00<?, ? Segments/s]\u001b[A\n",
            "Aligning v0zCBqDeKcE:   0%|          | 0/16 [00:00<?, ? Segments/s]\u001b[A\n",
            "                                                                   \u001b[A\n",
            "  0%|          | 0/12 [00:00<?, ? Segments/s]\u001b[A\n",
            "Aligning vvZ4IcEtiZc:   0%|          | 0/12 [00:00<?, ? Segments/s]\u001b[A\n",
            "Overall Progress:  95%|█████████▍| 87/92 [00:10<00:00, 11.12 Computational Sequence Entries/s]\n",
            "  0%|          | 0/22 [00:00<?, ? Segments/s]\u001b[A\n",
            "Aligning vyB00TXsimI:   0%|          | 0/22 [00:00<?, ? Segments/s]\u001b[A\n",
            "                                                                   \u001b[A\n",
            "  0%|          | 0/30 [00:00<?, ? Segments/s]\u001b[A\n",
            "Aligning wMbj6ajWbic:   0%|          | 0/30 [00:00<?, ? Segments/s]\u001b[A\n",
            "Aligning wMbj6ajWbic:  97%|█████████▋| 29/30 [00:00<00:00, 282.61 Segments/s]\u001b[A\n",
            "Overall Progress:  97%|█████████▋| 89/92 [00:10<00:00, 10.05 Computational Sequence Entries/s]\n",
            "  0%|          | 0/24 [00:00<?, ? Segments/s]\u001b[A\n",
            "Aligning yDtzw_Y-7RU:   0%|          | 0/24 [00:00<?, ? Segments/s]\u001b[A\n",
            "Aligning yDtzw_Y-7RU: 100%|██████████| 24/24 [00:00<00:00, 236.49 Segments/s]\u001b[A\n",
            "                                                                             \u001b[A\n",
            "  0%|          | 0/23 [00:00<?, ? Segments/s]\u001b[A\n",
            "Aligning yvsjCA6Y5Fc:   0%|          | 0/23 [00:00<?, ? Segments/s]\u001b[A\n",
            "Aligning yvsjCA6Y5Fc:  96%|█████████▌| 22/23 [00:00<00:00, 219.47 Segments/s]\u001b[A\n",
            "Overall Progress:  99%|█████████▉| 91/92 [00:11<00:00,  9.41 Computational Sequence Entries/s]\n",
            "  0%|          | 0/35 [00:00<?, ? Segments/s]\u001b[A\n",
            "Aligning zhpQhgha_KU:   0%|          | 0/35 [00:00<?, ? Segments/s]\u001b[A\n",
            "Aligning zhpQhgha_KU:  83%|████████▎ | 29/35 [00:00<00:00, 283.20 Segments/s]\u001b[A\n"
          ]
        },
        {
          "output_type": "stream",
          "name": "stdout",
          "text": [
            "\u001b[92m\u001b[1m[2023-07-15 19:19:44.905] | Success | \u001b[0mAlignment to <Opinion Segment Labels> complete.\n",
            "\u001b[94m\u001b[1m[2023-07-15 19:19:44.905] | Status  | \u001b[0mReplacing dataset content with aligned computational sequences\n",
            "\u001b[92m\u001b[1m[2023-07-15 19:19:44.924] | Success | \u001b[0mInitialized empty <glove_vectors> computational sequence.\n",
            "\u001b[94m\u001b[1m[2023-07-15 19:19:44.925] | Status  | \u001b[0mChecking the format of the data in <glove_vectors> computational sequence ...\n"
          ]
        },
        {
          "output_type": "stream",
          "name": "stderr",
          "text": []
        },
        {
          "output_type": "stream",
          "name": "stdout",
          "text": [
            "\u001b[92m\u001b[1m[2023-07-15 19:19:44.939] | Success | \u001b[0m<glove_vectors> computational sequence data in correct format.\n",
            "\u001b[94m\u001b[1m[2023-07-15 19:19:44.939] | Status  | \u001b[0mChecking the format of the metadata in <glove_vectors> computational sequence ...\n",
            "\u001b[93m\u001b[1m[2023-07-15 19:19:44.939] | Warning | \u001b[0m<glove_vectors> computational sequence does not have all the required metadata ... continuing \n",
            "\u001b[92m\u001b[1m[2023-07-15 19:19:44.939] | Success | \u001b[0mInitialized empty <FACET_4.1> computational sequence.\n",
            "\u001b[94m\u001b[1m[2023-07-15 19:19:44.939] | Status  | \u001b[0mChecking the format of the data in <FACET_4.1> computational sequence ...\n"
          ]
        },
        {
          "output_type": "stream",
          "name": "stderr",
          "text": []
        },
        {
          "output_type": "stream",
          "name": "stdout",
          "text": [
            "\u001b[92m\u001b[1m[2023-07-15 19:19:44.951] | Success | \u001b[0m<FACET_4.1> computational sequence data in correct format.\n",
            "\u001b[94m\u001b[1m[2023-07-15 19:19:44.952] | Status  | \u001b[0mChecking the format of the metadata in <FACET_4.1> computational sequence ...\n",
            "\u001b[93m\u001b[1m[2023-07-15 19:19:44.952] | Warning | \u001b[0m<FACET_4.1> computational sequence does not have all the required metadata ... continuing \n",
            "\u001b[92m\u001b[1m[2023-07-15 19:19:44.952] | Success | \u001b[0mInitialized empty <FACET_4.2> computational sequence.\n",
            "\u001b[94m\u001b[1m[2023-07-15 19:19:44.952] | Status  | \u001b[0mChecking the format of the data in <FACET_4.2> computational sequence ...\n"
          ]
        },
        {
          "output_type": "stream",
          "name": "stderr",
          "text": []
        },
        {
          "output_type": "stream",
          "name": "stdout",
          "text": [
            "\u001b[92m\u001b[1m[2023-07-15 19:19:44.961] | Success | \u001b[0m<FACET_4.2> computational sequence data in correct format.\n",
            "\u001b[94m\u001b[1m[2023-07-15 19:19:44.961] | Status  | \u001b[0mChecking the format of the metadata in <FACET_4.2> computational sequence ...\n",
            "\u001b[93m\u001b[1m[2023-07-15 19:19:44.961] | Warning | \u001b[0m<FACET_4.2> computational sequence does not have all the required metadata ... continuing \n",
            "\u001b[92m\u001b[1m[2023-07-15 19:19:44.961] | Success | \u001b[0mInitialized empty <OpenSmile-emobase2010> computational sequence.\n",
            "\u001b[94m\u001b[1m[2023-07-15 19:19:44.961] | Status  | \u001b[0mChecking the format of the data in <OpenSmile-emobase2010> computational sequence ...\n"
          ]
        },
        {
          "output_type": "stream",
          "name": "stderr",
          "text": []
        },
        {
          "output_type": "stream",
          "name": "stdout",
          "text": [
            "\u001b[92m\u001b[1m[2023-07-15 19:19:44.979] | Success | \u001b[0m<OpenSmile-emobase2010> computational sequence data in correct format.\n",
            "\u001b[94m\u001b[1m[2023-07-15 19:19:44.979] | Status  | \u001b[0mChecking the format of the metadata in <OpenSmile-emobase2010> computational sequence ...\n",
            "\u001b[93m\u001b[1m[2023-07-15 19:19:44.979] | Warning | \u001b[0m<OpenSmile-emobase2010> computational sequence does not have all the required metadata ... continuing \n",
            "\u001b[92m\u001b[1m[2023-07-15 19:19:44.979] | Success | \u001b[0mInitialized empty <OpenSMILE> computational sequence.\n",
            "\u001b[94m\u001b[1m[2023-07-15 19:19:44.979] | Status  | \u001b[0mChecking the format of the data in <OpenSMILE> computational sequence ...\n"
          ]
        },
        {
          "output_type": "stream",
          "name": "stderr",
          "text": []
        },
        {
          "output_type": "stream",
          "name": "stdout",
          "text": [
            "\u001b[92m\u001b[1m[2023-07-15 19:19:44.999] | Success | \u001b[0m<OpenSMILE> computational sequence data in correct format.\n",
            "\u001b[94m\u001b[1m[2023-07-15 19:19:45.000] | Status  | \u001b[0mChecking the format of the metadata in <OpenSMILE> computational sequence ...\n",
            "\u001b[93m\u001b[1m[2023-07-15 19:19:45.000] | Warning | \u001b[0m<OpenSMILE> computational sequence does not have all the required metadata ... continuing \n",
            "\u001b[92m\u001b[1m[2023-07-15 19:19:45.000] | Success | \u001b[0mInitialized empty <OpenFace_1> computational sequence.\n",
            "\u001b[94m\u001b[1m[2023-07-15 19:19:45.000] | Status  | \u001b[0mChecking the format of the data in <OpenFace_1> computational sequence ...\n"
          ]
        },
        {
          "output_type": "stream",
          "name": "stderr",
          "text": []
        },
        {
          "output_type": "stream",
          "name": "stdout",
          "text": [
            "\u001b[92m\u001b[1m[2023-07-15 19:19:45.011] | Success | \u001b[0m<OpenFace_1> computational sequence data in correct format.\n",
            "\u001b[94m\u001b[1m[2023-07-15 19:19:45.011] | Status  | \u001b[0mChecking the format of the metadata in <OpenFace_1> computational sequence ...\n",
            "\u001b[93m\u001b[1m[2023-07-15 19:19:45.011] | Warning | \u001b[0m<OpenFace_1> computational sequence does not have all the required metadata ... continuing \n",
            "\u001b[92m\u001b[1m[2023-07-15 19:19:45.011] | Success | \u001b[0mInitialized empty <OpenFace_2> computational sequence.\n",
            "\u001b[94m\u001b[1m[2023-07-15 19:19:45.011] | Status  | \u001b[0mChecking the format of the data in <OpenFace_2> computational sequence ...\n"
          ]
        },
        {
          "output_type": "stream",
          "name": "stderr",
          "text": []
        },
        {
          "output_type": "stream",
          "name": "stdout",
          "text": [
            "\u001b[92m\u001b[1m[2023-07-15 19:19:45.014] | Success | \u001b[0m<OpenFace_2> computational sequence data in correct format.\n",
            "\u001b[94m\u001b[1m[2023-07-15 19:19:45.014] | Status  | \u001b[0mChecking the format of the metadata in <OpenFace_2> computational sequence ...\n",
            "\u001b[93m\u001b[1m[2023-07-15 19:19:45.014] | Warning | \u001b[0m<OpenFace_2> computational sequence does not have all the required metadata ... continuing \n",
            "\u001b[92m\u001b[1m[2023-07-15 19:19:45.014] | Success | \u001b[0mInitialized empty <COVAREP> computational sequence.\n",
            "\u001b[94m\u001b[1m[2023-07-15 19:19:45.014] | Status  | \u001b[0mChecking the format of the data in <COVAREP> computational sequence ...\n"
          ]
        },
        {
          "output_type": "stream",
          "name": "stderr",
          "text": []
        },
        {
          "output_type": "stream",
          "name": "stdout",
          "text": [
            "\u001b[92m\u001b[1m[2023-07-15 19:19:45.030] | Success | \u001b[0m<COVAREP> computational sequence data in correct format.\n",
            "\u001b[94m\u001b[1m[2023-07-15 19:19:45.030] | Status  | \u001b[0mChecking the format of the metadata in <COVAREP> computational sequence ...\n",
            "\u001b[93m\u001b[1m[2023-07-15 19:19:45.031] | Warning | \u001b[0m<COVAREP> computational sequence does not have all the required metadata ... continuing \n",
            "\u001b[92m\u001b[1m[2023-07-15 19:19:45.031] | Success | \u001b[0mInitialized empty <words> computational sequence.\n",
            "\u001b[94m\u001b[1m[2023-07-15 19:19:45.031] | Status  | \u001b[0mChecking the format of the data in <words> computational sequence ...\n"
          ]
        },
        {
          "output_type": "stream",
          "name": "stderr",
          "text": []
        },
        {
          "output_type": "stream",
          "name": "stdout",
          "text": [
            "\u001b[92m\u001b[1m[2023-07-15 19:19:45.044] | Success | \u001b[0m<words> computational sequence data in correct format.\n",
            "\u001b[94m\u001b[1m[2023-07-15 19:19:45.044] | Status  | \u001b[0mChecking the format of the metadata in <words> computational sequence ...\n",
            "\u001b[93m\u001b[1m[2023-07-15 19:19:45.044] | Warning | \u001b[0m<words> computational sequence does not have all the required metadata ... continuing \n",
            "\u001b[92m\u001b[1m[2023-07-15 19:19:45.044] | Success | \u001b[0mInitialized empty <phonemes> computational sequence.\n",
            "\u001b[94m\u001b[1m[2023-07-15 19:19:45.044] | Status  | \u001b[0mChecking the format of the data in <phonemes> computational sequence ...\n"
          ]
        },
        {
          "output_type": "stream",
          "name": "stderr",
          "text": []
        },
        {
          "output_type": "stream",
          "name": "stdout",
          "text": [
            "\u001b[92m\u001b[1m[2023-07-15 19:19:45.058] | Success | \u001b[0m<phonemes> computational sequence data in correct format.\n",
            "\u001b[94m\u001b[1m[2023-07-15 19:19:45.058] | Status  | \u001b[0mChecking the format of the metadata in <phonemes> computational sequence ...\n",
            "\u001b[93m\u001b[1m[2023-07-15 19:19:45.058] | Warning | \u001b[0m<phonemes> computational sequence does not have all the required metadata ... continuing \n",
            "\u001b[92m\u001b[1m[2023-07-15 19:19:45.058] | Success | \u001b[0mInitialized empty <Opinion Segment Labels> computational sequence.\n",
            "\u001b[94m\u001b[1m[2023-07-15 19:19:45.058] | Status  | \u001b[0mChecking the format of the data in <Opinion Segment Labels> computational sequence ...\n"
          ]
        },
        {
          "output_type": "stream",
          "name": "stderr",
          "text": [
            "                                                                     "
          ]
        },
        {
          "output_type": "stream",
          "name": "stdout",
          "text": [
            "\u001b[92m\u001b[1m[2023-07-15 19:19:45.074] | Success | \u001b[0m<Opinion Segment Labels> computational sequence data in correct format.\n",
            "\u001b[94m\u001b[1m[2023-07-15 19:19:45.074] | Status  | \u001b[0mChecking the format of the metadata in <Opinion Segment Labels> computational sequence ...\n",
            "\u001b[93m\u001b[1m[2023-07-15 19:19:45.074] | Warning | \u001b[0m<Opinion Segment Labels> computational sequence does not have all the required metadata ... continuing \n"
          ]
        },
        {
          "output_type": "stream",
          "name": "stderr",
          "text": [
            "\r"
          ]
        }
      ],
      "source": [
        "cmumosi_highlevel=mmdatasdk.mmdataset(mmdatasdk.cmu_mosi.highlevel, 'cmumosi/')\n",
        "cmumosi_highlevel.add_computational_sequences(mmdatasdk.cmu_mosi.raw, 'cmumosi/')\n",
        "cmumosi_highlevel.add_computational_sequences(mmdatasdk.cmu_mosi.labels,'cmumosi/')\n",
        "cmumosi_highlevel.align('Opinion Segment Labels')"
      ]
    },
    {
      "cell_type": "code",
      "execution_count": 15,
      "metadata": {
        "colab": {
          "base_uri": "https://localhost:8080/"
        },
        "id": "c3LEKe4S-AWx",
        "outputId": "5d900d7b-cf80-4625-8ea5-c31ad892147b"
      },
      "outputs": [
        {
          "output_type": "execute_result",
          "data": {
            "text/plain": [
              "dict_keys(['glove_vectors', 'FACET_4.1', 'FACET_4.2', 'OpenSmile-emobase2010', 'OpenSMILE', 'OpenFace_1', 'OpenFace_2', 'COVAREP', 'words', 'phonemes', 'Opinion Segment Labels'])"
            ]
          },
          "metadata": {},
          "execution_count": 15
        }
      ],
      "source": [
        "cmumosi_highlevel.keys()"
      ]
    },
    {
      "cell_type": "code",
      "execution_count": 16,
      "metadata": {
        "colab": {
          "base_uri": "https://localhost:8080/",
          "height": 113,
          "referenced_widgets": [
            "951293308f254a01aa607899d34dd508",
            "ce8a693234f94e978d2378a72ff07d60",
            "603995989bed42c3b00e10a85d1dab90",
            "e1fe4fd6f0cb4ba0a0fb41e130e73802",
            "483eea631caa456d985073f679b5b360",
            "a4bd32d5db03410da6e0c3f2d02553dd",
            "c523663aadd54cb39e343d09d2848c83",
            "2fbe8a1936f744939003aec04e31d091",
            "ba632e2145844fb8a39aac12ebe7b916",
            "7909be03ca3749a19bd492742107986b",
            "9e0401de8baf439c935df38c8b31ead1",
            "fbfbd55ecede4cb6adc965e8e53b9cb8",
            "bd32c109c3134c219b27bf6f84bc12f8",
            "72aee1fa8a6d4768af1d6e9709071457",
            "56e831c8b7504009ad95d819d6721820",
            "bba4061191e4490ba1d1a0a70ac1c704",
            "73d8ce7895d245839ed910002ff593d4",
            "8405cb98da544572b4d67ae46243da3a",
            "45163497c1fe462988dba12b68560eff",
            "cd61bb6ab02a4a90a464d33c718e274f",
            "cd3a1790a6694227a75a1fed3cf69a3d",
            "0c7e65ccff2a4df1a8b79608713214d2",
            "a5c7c124f6394e1682367691f1d5c257",
            "94a3bc43aab44f0ba31cf48740edc67e",
            "bad2ce28af604b4d8d0dceb7eed602dc",
            "b1642cdfa06443358cd31704702de695",
            "6b2142cf5fcf40519144ea899dd513ca",
            "f70c46bd298b4d9e9a0a47472a5a0306",
            "45d0f2ae6547462db4ce19b3d5ec1e2b",
            "e616f32696be4142b85bf6163682c408",
            "a72de5aa2aa94c1abdaf9da025da4ed9",
            "2f5cd794ec714cd9abe5e0177e13a35a",
            "282c6987c35d4bc1a91671bfcd9e5bcf"
          ]
        },
        "id": "CQ5GLO0I-AWx",
        "outputId": "a36ac674-b3ec-4c7f-b0b1-f38bf566404d"
      },
      "outputs": [
        {
          "output_type": "display_data",
          "data": {
            "text/plain": [
              "Downloading (…)solve/main/vocab.txt:   0%|          | 0.00/232k [00:00<?, ?B/s]"
            ],
            "application/vnd.jupyter.widget-view+json": {
              "version_major": 2,
              "version_minor": 0,
              "model_id": "951293308f254a01aa607899d34dd508"
            }
          },
          "metadata": {}
        },
        {
          "output_type": "display_data",
          "data": {
            "text/plain": [
              "Downloading (…)okenizer_config.json:   0%|          | 0.00/28.0 [00:00<?, ?B/s]"
            ],
            "application/vnd.jupyter.widget-view+json": {
              "version_major": 2,
              "version_minor": 0,
              "model_id": "fbfbd55ecede4cb6adc965e8e53b9cb8"
            }
          },
          "metadata": {}
        },
        {
          "output_type": "display_data",
          "data": {
            "text/plain": [
              "Downloading (…)lve/main/config.json:   0%|          | 0.00/570 [00:00<?, ?B/s]"
            ],
            "application/vnd.jupyter.widget-view+json": {
              "version_major": 2,
              "version_minor": 0,
              "model_id": "a5c7c124f6394e1682367691f1d5c257"
            }
          },
          "metadata": {}
        }
      ],
      "source": [
        "tokenizer = BertTokenizer.from_pretrained('bert-base-uncased')"
      ]
    },
    {
      "cell_type": "code",
      "execution_count": 17,
      "metadata": {
        "id": "vdhXUiXO-AWx"
      },
      "outputs": [],
      "source": [
        "SEP = 'sp'\n",
        "RANDOM_SEED = 42\n",
        "\n",
        "class DataPreprocessor:\n",
        "    def __init__(self, cmumosi_highlevel, tokenizer: BertTokenizer, random_seed=RANDOM_SEED, split_size=0.2):\n",
        "        self.__cmumosi_highlevel = cmumosi_highlevel\n",
        "        self.__tokenizer = tokenizer\n",
        "        self.__random_seed = random_seed\n",
        "        self.__split_size = split_size\n",
        "\n",
        "    def __to_seq(self, df):\n",
        "        return list(df[['text', 'visual_features', 'label']].itertuples(index=False, name=None))\n",
        "\n",
        "    def prepare_data(self):\n",
        "        data_df = self.__generate_data()\n",
        "        train_df, test_df = train_test_split(data_df, test_size=self.__split_size, random_state=self.__random_seed)\n",
        "        train_df, val_df = train_test_split(train_df, test_size=self.__split_size, random_state=self.__random_seed)\n",
        "        return self.__to_seq(train_df), self.__to_seq(val_df), self.__to_seq(test_df)\n",
        "\n",
        "    def __generate_labels_df(self):\n",
        "        labels_df = pd.DataFrame(self.__cmumosi_highlevel['Opinion Segment Labels'].data).T\n",
        "        labels_df.columns = ['intervals', 'label']\n",
        "        labels_df['t_start'] = labels_df['intervals'].apply(lambda x: x[0][0])\n",
        "        # labels_df['t_start'] = labels_df['t_start'].apply(lambda x: round(x, 4))\n",
        "        labels_df['t_end'] = labels_df['intervals'].apply(lambda x: x[0][1])\n",
        "        # labels_df['t_end'] = labels_df['t_end'].apply(lambda x: round(x, 4))\n",
        "        labels_df = labels_df.drop(columns='intervals')\n",
        "        labels_df['label'] = labels_df['label'].apply(lambda x: x[0][0])\n",
        "\n",
        "        return labels_df.reset_index().rename(columns={'index': 'sample_id'})\n",
        "\n",
        "    def __generate_language_modality(self) -> pd.DataFrame:\n",
        "        words_df = pd.DataFrame(self.__cmumosi_highlevel['words'].data).T.reset_index().rename(columns={'index': 'sample_id'})\n",
        "        words_df = words_df.explode(['features', 'intervals']).reset_index(drop=True)\n",
        "        words_df['word'] = words_df.features.apply(lambda x: x[0].decode('utf-8'))\n",
        "        words_df = words_df[words_df.word != SEP].reset_index().drop(columns=['index'])\n",
        "        words_df['t_start'] = words_df.intervals.apply(lambda x: x[0])\n",
        "        words_df['t_end'] = words_df.intervals.apply(lambda x: x[1])\n",
        "        words_df = words_df.drop(columns=['features', 'intervals'])\n",
        "\n",
        "        return words_df\n",
        "\n",
        "    def __generate_visual_modality(self) -> pd.DataFrame:\n",
        "        visual_modality = pd.DataFrame.from_records(self.__cmumosi_highlevel['OpenFace_1'].data).T\n",
        "        visual_modality = visual_modality.reset_index().rename(columns={'index': 'sample_id'})\n",
        "        visual_modality = visual_modality.explode(['intervals', 'features']).reset_index(drop=True)\n",
        "        visual_modality['t_start'] = visual_modality.intervals.apply(lambda x: float(x[0]))\n",
        "        visual_modality['t_end'] = visual_modality.intervals.apply(lambda x: float(x[1]))\n",
        "        visual_modality = visual_modality.drop(columns=['intervals'])\n",
        "        return visual_modality\n",
        "\n",
        "\n",
        "    def __generate_data(self) -> pd.DataFrame:\n",
        "        labels_df = self.__generate_labels_df()\n",
        "        language_modality = self.__generate_language_modality()\n",
        "        visual_modality = self.__generate_visual_modality()\n",
        "\n",
        "        data = pd.merge(language_modality, visual_modality, on='sample_id')\n",
        "        data = data[(data.t_start_x <= data.t_start_y) & (data.t_end_x >= data.t_end_y)]\n",
        "        data = data.drop(columns=['t_start_y', 't_end_y']).rename(columns={'t_start_x': 't_start', 't_end_x': 't_end'})\n",
        "        data = data.groupby(['sample_id', 'word', 't_start', 't_end']).agg({'features': lambda x: np.mean(x)}).reset_index().sort_values(by=['sample_id', 't_start'])\n",
        "        data['text'] = data.groupby('sample_id')['word'].transform(lambda x: ' '.join(x))\n",
        "        data['bert_token'] = data.word.apply(lambda x: self.__tokenizer.encode(x, add_special_tokens=False))\n",
        "        data = data.explode('bert_token')\n",
        "        data = data.rename(columns={'features': 'visual_features'})\n",
        "        data = data.groupby('sample_id').agg({'text': lambda x: x.iloc[0], 'visual_features': lambda x: np.stack(x)}).reset_index()\n",
        "        data = pd.merge(data, labels_df, on='sample_id')\n",
        "\n",
        "        return data"
      ]
    },
    {
      "cell_type": "code",
      "execution_count": 18,
      "metadata": {
        "id": "HHIYdaWF-AWy"
      },
      "outputs": [],
      "source": [
        "class CMUMOSIDataset(Dataset):\n",
        "    def __init__(self, data, tokenizer: BertTokenizer):\n",
        "        self.__data = data\n",
        "        self.__tokenizer = tokenizer\n",
        "\n",
        "    def __len__(self):\n",
        "        return len(self.__data)\n",
        "\n",
        "    def __getitem__(self, idx):\n",
        "        return self.__data[idx]\n",
        "\n",
        "\n",
        "    def collate_fn(self, batch):\n",
        "        language, visual, label = zip(*batch)\n",
        "        language = self.__tokenizer(language, padding=True, return_tensors=\"pt\")\n",
        "        visual = pad_sequence([FloatTensor(x) for x in visual], batch_first=True)\n",
        "        return language, visual, FloatTensor(label)"
      ]
    },
    {
      "cell_type": "code",
      "execution_count": 19,
      "metadata": {
        "id": "RNpr2ocQ-AWy"
      },
      "outputs": [],
      "source": [
        "train, val, test = DataPreprocessor(cmumosi_highlevel, tokenizer).prepare_data()\n",
        "\n",
        "train_dataset = CMUMOSIDataset(train, tokenizer)\n",
        "val_dataset = CMUMOSIDataset(val, tokenizer)\n",
        "test_dataset = CMUMOSIDataset(test, tokenizer)\n",
        "\n",
        "train_dl = DataLoader(train_dataset, batch_size=32, shuffle=True, collate_fn=train_dataset.collate_fn)\n",
        "val_dl = DataLoader(val_dataset, batch_size=32, shuffle=True, collate_fn=val_dataset.collate_fn)\n",
        "test_dl = DataLoader(test_dataset, batch_size=32, shuffle=True, collate_fn=test_dataset.collate_fn)"
      ]
    },
    {
      "cell_type": "code",
      "execution_count": 20,
      "metadata": {
        "id": "iKLYbNDF-AWz"
      },
      "outputs": [],
      "source": [
        "class MCTNLosses(NamedTuple):\n",
        "    forward_translation_loss: FloatTensor = None\n",
        "    cycle_consistency_loss: FloatTensor = None\n",
        "    prediction_loss: FloatTensor = None\n",
        "\n",
        "\n",
        "class MCTNOuputs(NamedTuple):\n",
        "    prediction: FloatTensor\n",
        "    losses: MCTNLosses = None\n",
        "\n",
        "\n",
        "class MCTN(nn.Module):\n",
        "    def __init__(self, bert_model, t_hidden_size=430, n_decoder_layers=2):\n",
        "        super(MCTN, self).__init__()\n",
        "\n",
        "        s_hidden_size = bert_model.config.hidden_size\n",
        "        self.bert_model = bert_model\n",
        "        self.linear_ts = nn.Linear(t_hidden_size, s_hidden_size)\n",
        "        decoder_layer = nn.TransformerDecoderLayer(d_model=s_hidden_size, nhead=8, batch_first=True)\n",
        "        self.decoder = nn.TransformerDecoder(decoder_layer, num_layers=n_decoder_layers)\n",
        "        self.sentiment_regressor = nn.Sequential(\n",
        "            nn.Dropout(0.1),\n",
        "            nn.Linear(s_hidden_size, 1)\n",
        "        )\n",
        "\n",
        "        self.lt_loss = nn.SmoothL1Loss()\n",
        "        self.lc_loss = nn.SmoothL1Loss()\n",
        "        self.pred_loss = nn.MSELoss()\n",
        "\n",
        "\n",
        "    def forward(self, language, visual=None, label=None):\n",
        "        if visual is None:\n",
        "            return self._inference(language, label)\n",
        "\n",
        "        # forward translation\n",
        "        outputs_s = self.bert_model(**language)\n",
        "        Hst = outputs_s.last_hidden_state\n",
        "        Xt = self.linear_ts(visual)\n",
        "        Xt_hat = self.decoder(Xt, Hst)\n",
        "\n",
        "        # backward translation\n",
        "        Hts = self.bert_model(inputs_embeds=Xt_hat, output_hidden_states=True).last_hidden_state\n",
        "        Xs = outputs_s.hidden_states[0]\n",
        "        Xs_hat = self.decoder(Xs, Hts)\n",
        "\n",
        "        # sentiment prediction\n",
        "        pred = self.sentiment_regressor(Hst[:, 0, :]).squeeze()\n",
        "        outputs = MCTNOuputs(pred)\n",
        "\n",
        "        if label is not None:\n",
        "            lt = self.lt_loss(Xt_hat, Xt)       # forward translation loss\n",
        "            lc = self.lc_loss(Xs_hat, Xs)       # cycle consistency loss\n",
        "            ls = self.pred_loss(pred, label)    # prediction loss\n",
        "            losses = MCTNLosses(lt, lc, ls)\n",
        "            outputs = MCTNOuputs(pred, losses)\n",
        "\n",
        "        return outputs\n",
        "\n",
        "    def _inference(self, language, label=None):\n",
        "        outputs_s = self.bert_model(**language)\n",
        "        pred = self.sentiment_regressor(outputs_s.last_hidden_state[:, 0, :]).squeeze()\n",
        "        outputs = MCTNOuputs(pred)\n",
        "\n",
        "        if label is not None:\n",
        "            ls = self.pred_loss(pred, label)    # prediction loss\n",
        "            losses = MCTNLosses(prediction_loss=ls)\n",
        "            outputs = MCTNOuputs(pred, losses)\n",
        "\n",
        "        return outputs"
      ]
    },
    {
      "cell_type": "code",
      "execution_count": 25,
      "metadata": {
        "id": "vkbTJ8Dk-AWz"
      },
      "outputs": [],
      "source": [
        "class Trainer:\n",
        "    def __init__(self, model, train_dl, val_dl, optimizer, lambda_t=1, lambda_c=1):\n",
        "        self.__model = model\n",
        "        self.__train_dl = train_dl\n",
        "        self.__val_dl = val_dl\n",
        "        self.__optimizer = optimizer\n",
        "        self.__lambda_t = lambda_t\n",
        "        self.__lambda_c = lambda_c\n",
        "\n",
        "\n",
        "    def __forward_single_batch(self, language, visual, label):\n",
        "        language, visual, label = language.to(DEVICE), visual.to(DEVICE), label.to(DEVICE)\n",
        "        outputs = self.__model(language, visual, label)\n",
        "        losses = outputs.losses\n",
        "        loss = losses.forward_translation_loss * self.__lambda_t + losses.cycle_consistency_loss * self.__lambda_c + losses.prediction_loss\n",
        "        return outputs, loss\n",
        "\n",
        "\n",
        "    def __run_epoch(self, dl, train: bool):\n",
        "        if train:\n",
        "            self.__model.train()\n",
        "            desc = \"Training\"\n",
        "        else:\n",
        "            self.__model.eval()\n",
        "            desc = \"Evaluating\"\n",
        "\n",
        "        epoch_losses = []\n",
        "        mctn_losses = []\n",
        "        with tqdm(total=len(dl), desc=desc, leave=False) as pbar:\n",
        "            for idx, (language, visual, label) in enumerate(dl):\n",
        "                if train:\n",
        "                    self.__optimizer.zero_grad()\n",
        "\n",
        "                outputs, loss = self.__forward_single_batch(language, visual, label)\n",
        "\n",
        "                if train:\n",
        "                    loss.backward()\n",
        "                    self.__optimizer.step()\n",
        "\n",
        "                epoch_losses.append(loss.item())\n",
        "                mctn_losses.append(tuple([x.item() for x in outputs.losses]))\n",
        "\n",
        "                if idx % 5 == 0:\n",
        "                    pbar.set_postfix({\"loss\": epoch_losses[-1]})\n",
        "                pbar.update(1)\n",
        "\n",
        "        return np.mean(epoch_losses), np.array(mctn_losses).mean(axis=0)\n",
        "\n",
        "\n",
        "    def train(self, epochs=10):\n",
        "        train_losses = []\n",
        "        mctn_train_losses = []\n",
        "        val_losses = []\n",
        "        mctn_val_losses = []\n",
        "\n",
        "        for epoch in range(epochs):\n",
        "            epoch_loss, mctn_loss = self.__run_epoch(self.__train_dl, train=True)\n",
        "            train_losses.append(epoch_loss)\n",
        "            mctn_train_losses.append(mctn_loss)\n",
        "\n",
        "            with no_grad():\n",
        "                epoch_loss, mctn_loss = self.__run_epoch(self.__val_dl, train=False)\n",
        "                val_losses.append(epoch_loss)\n",
        "                mctn_val_losses.append(mctn_loss)\n",
        "\n",
        "            print(f\"Epoch {epoch+1}/{epochs} | Train loss: {train_losses[-1]} | Train MCTN loss: {mctn_train_losses[-1]} | Val loss: {val_losses[-1]} | Val MCTN loss: {mctn_val_losses[-1]}\")\n",
        "\n",
        "        return train_losses, mctn_train_losses, val_losses, mctn_val_losses"
      ]
    },
    {
      "cell_type": "code",
      "execution_count": 26,
      "metadata": {
        "colab": {
          "base_uri": "https://localhost:8080/"
        },
        "id": "xJDdrsIy-AWz",
        "outputId": "5c4cb531-4d0c-40e2-d58c-b7095933edc3"
      },
      "outputs": [
        {
          "output_type": "stream",
          "name": "stderr",
          "text": [
            "Some weights of the model checkpoint at bert-base-uncased were not used when initializing BertModel: ['cls.seq_relationship.bias', 'cls.seq_relationship.weight', 'cls.predictions.transform.dense.bias', 'cls.predictions.transform.dense.weight', 'cls.predictions.bias', 'cls.predictions.transform.LayerNorm.bias', 'cls.predictions.transform.LayerNorm.weight']\n",
            "- This IS expected if you are initializing BertModel from the checkpoint of a model trained on another task or with another architecture (e.g. initializing a BertForSequenceClassification model from a BertForPreTraining model).\n",
            "- This IS NOT expected if you are initializing BertModel from the checkpoint of a model that you expect to be exactly identical (initializing a BertForSequenceClassification model from a BertForSequenceClassification model).\n"
          ]
        }
      ],
      "source": [
        "tokenizer = BertTokenizer.from_pretrained('bert-base-uncased')\n",
        "bert_model = BertModel.from_pretrained('bert-base-uncased', output_hidden_states = True)\n",
        "mctn = MCTN(bert_model).to(DEVICE)\n",
        "optimizer = Adam(mctn.parameters(), lr=1e-5)"
      ]
    },
    {
      "cell_type": "code",
      "execution_count": 27,
      "metadata": {
        "colab": {
          "base_uri": "https://localhost:8080/"
        },
        "id": "uQiO6AJt-AW0",
        "outputId": "757937fa-c168-402b-9aa6-47a16c15b5cb"
      },
      "outputs": [
        {
          "output_type": "stream",
          "name": "stderr",
          "text": []
        },
        {
          "output_type": "stream",
          "name": "stdout",
          "text": [
            "Epoch 1/5 | Train loss: 30.31625305522572 | Train MCTN loss: [27.69685448  0.18790672  2.43149182] | Val loss: 25.433838410810992 | Val MCTN loss: [23.55706042  0.16038036  1.7163976 ]\n"
          ]
        },
        {
          "output_type": "stream",
          "name": "stderr",
          "text": []
        },
        {
          "output_type": "stream",
          "name": "stdout",
          "text": [
            "Epoch 2/5 | Train loss: 23.45575599236922 | Train MCTN loss: [21.94264278  0.14921845  1.36389485] | Val loss: 19.538757584311746 | Val MCTN loss: [18.16872761  0.13562066  1.23440894]\n"
          ]
        },
        {
          "output_type": "stream",
          "name": "stderr",
          "text": []
        },
        {
          "output_type": "stream",
          "name": "stdout",
          "text": [
            "Epoch 3/5 | Train loss: 18.291795232079245 | Train MCTN loss: [17.25927838  0.13005271  0.9024641 ] | Val loss: 15.949392665516246 | Val MCTN loss: [14.71995761  0.1152935   1.11414156]\n"
          ]
        },
        {
          "output_type": "stream",
          "name": "stderr",
          "text": []
        },
        {
          "output_type": "stream",
          "name": "stdout",
          "text": [
            "Epoch 4/5 | Train loss: 13.683579043908553 | Train MCTN loss: [12.93921949  0.1116728   0.63268689] | Val loss: 12.349013848738236 | Val MCTN loss: [11.08927813  0.0957883   1.16394739]\n"
          ]
        },
        {
          "output_type": "stream",
          "name": "stderr",
          "text": [
            "                                                                      "
          ]
        },
        {
          "output_type": "stream",
          "name": "stdout",
          "text": [
            "Epoch 5/5 | Train loss: 10.924859924749894 | Train MCTN loss: [10.38729916  0.09555133  0.44200947] | Val loss: 10.046952204270797 | Val MCTN loss: [8.839455   0.08042868 1.12706858]\n"
          ]
        },
        {
          "output_type": "stream",
          "name": "stderr",
          "text": [
            "\r"
          ]
        }
      ],
      "source": [
        "trainer = Trainer(mctn, train_dl, val_dl, optimizer)\n",
        "train_losses, mctn_train_losses, val_losses, mctn_val_losses = trainer.train(epochs=5)"
      ]
    },
    {
      "cell_type": "code",
      "execution_count": 28,
      "metadata": {
        "colab": {
          "base_uri": "https://localhost:8080/",
          "height": 487
        },
        "id": "uzFcolR--AW0",
        "outputId": "4e449fa3-2e37-4c24-fb5e-dd9ca62225ca"
      },
      "outputs": [
        {
          "output_type": "display_data",
          "data": {
            "text/plain": [
              "<Figure size 2000x500 with 3 Axes>"
            ],
            "image/png": "[encoded data removed]"
          },
          "metadata": {}
        }
      ],
      "source": [
        "import matplotlib.pyplot as plt\n",
        "import seaborn as sns\n",
        "\n",
        "def plot_train_results(mctn_train_losses, mctn_val_losses):\n",
        "    cols = [\"forward_translation_loss\", \"cycle_consistency_loss\", \"prediction_loss\"]\n",
        "    train_mctn_losses_df = pd.DataFrame(mctn_train_losses, columns=cols)\n",
        "    val_mctn_losses_df = pd.DataFrame(mctn_val_losses, columns=cols)\n",
        "\n",
        "    _, ax = plt.subplots(1, 3, figsize=(20, 5))\n",
        "    for i, loss in enumerate(cols):\n",
        "        sns.lineplot(data=train_mctn_losses_df[loss], ax=ax[i], label=\"train\")\n",
        "        sns.lineplot(data=val_mctn_losses_df[loss], ax=ax[i], label=\"val\")\n",
        "        ax[i].set_title(loss)\n",
        "        ax[i].set_xlabel(\"Epoch\")\n",
        "        ax[i].set_ylabel(\"Loss\")\n",
        "\n",
        "plot_train_results(mctn_train_losses, mctn_val_losses)\n"
      ]
    },
    {
      "cell_type": "code",
      "execution_count": null,
      "metadata": {
        "id": "GXyFH1bc-AW0"
      },
      "outputs": [],
      "source": []
    }
  ],
  "metadata": {
    "kernelspec": {
      "display_name": "Python 3",
      "name": "python3"
    },
    "language_info": {
      "codemirror_mode": {
        "name": "ipython",
        "version": 3
      },
      "file_extension": ".py",
      "mimetype": "text/x-python",
      "name": "python",
      "nbconvert_exporter": "python",
      "pygments_lexer": "ipython3",
      "version": "3.9.17"
    },
    "orig_nbformat": 4,
    "colab": {
      "provenance": [],
      "gpuType": "T4"
    },
    "accelerator": "GPU",
    "widgets": {
      "application/vnd.jupyter.widget-state+json": {
        "951293308f254a01aa607899d34dd508": {
          "model_module": "@jupyter-widgets/controls",
          "model_name": "HBoxModel",
          "model_module_version": "1.5.0",
          "state": {
            "_dom_classes": [],
            "_model_module": "@jupyter-widgets/controls",
            "_model_module_version": "1.5.0",
            "_model_name": "HBoxModel",
            "_view_count": null,
            "_view_module": "@jupyter-widgets/controls",
            "_view_module_version": "1.5.0",
            "_view_name": "HBoxView",
            "box_style": "",
            "children": [
              "IPY_MODEL_ce8a693234f94e978d2378a72ff07d60",
              "IPY_MODEL_603995989bed42c3b00e10a85d1dab90",
              "IPY_MODEL_e1fe4fd6f0cb4ba0a0fb41e130e73802"
            ],
            "layout": "IPY_MODEL_483eea631caa456d985073f679b5b360"
          }
        },
        "ce8a693234f94e978d2378a72ff07d60": {
          "model_module": "@jupyter-widgets/controls",
          "model_name": "HTMLModel",
          "model_module_version": "1.5.0",
          "state": {
            "_dom_classes": [],
            "_model_module": "@jupyter-widgets/controls",
            "_model_module_version": "1.5.0",
            "_model_name": "HTMLModel",
            "_view_count": null,
            "_view_module": "@jupyter-widgets/controls",
            "_view_module_version": "1.5.0",
            "_view_name": "HTMLView",
            "description": "",
            "description_tooltip": null,
            "layout": "IPY_MODEL_a4bd32d5db03410da6e0c3f2d02553dd",
            "placeholder": "​",
            "style": "IPY_MODEL_c523663aadd54cb39e343d09d2848c83",
            "value": "Downloading (…)solve/main/vocab.txt: 100%"
          }
        },
        "603995989bed42c3b00e10a85d1dab90": {
          "model_module": "@jupyter-widgets/controls",
          "model_name": "FloatProgressModel",
          "model_module_version": "1.5.0",
          "state": {
            "_dom_classes": [],
            "_model_module": "@jupyter-widgets/controls",
            "_model_module_version": "1.5.0",
            "_model_name": "FloatProgressModel",
            "_view_count": null,
            "_view_module": "@jupyter-widgets/controls",
            "_view_module_version": "1.5.0",
            "_view_name": "ProgressView",
            "bar_style": "success",
            "description": "",
            "description_tooltip": null,
            "layout": "IPY_MODEL_2fbe8a1936f744939003aec04e31d091",
            "max": 231508,
            "min": 0,
            "orientation": "horizontal",
            "style": "IPY_MODEL_ba632e2145844fb8a39aac12ebe7b916",
            "value": 231508
          }
        },
        "e1fe4fd6f0cb4ba0a0fb41e130e73802": {
          "model_module": "@jupyter-widgets/controls",
          "model_name": "HTMLModel",
          "model_module_version": "1.5.0",
          "state": {
            "_dom_classes": [],
            "_model_module": "@jupyter-widgets/controls",
            "_model_module_version": "1.5.0",
            "_model_name": "HTMLModel",
            "_view_count": null,
            "_view_module": "@jupyter-widgets/controls",
            "_view_module_version": "1.5.0",
            "_view_name": "HTMLView",
            "description": "",
            "description_tooltip": null,
            "layout": "IPY_MODEL_7909be03ca3749a19bd492742107986b",
            "placeholder": "​",
            "style": "IPY_MODEL_9e0401de8baf439c935df38c8b31ead1",
            "value": " 232k/232k [00:00&lt;00:00, 5.38MB/s]"
          }
        },
        "483eea631caa456d985073f679b5b360": {
          "model_module": "@jupyter-widgets/base",
          "model_name": "LayoutModel",
          "model_module_version": "1.2.0",
          "state": {
            "_model_module": "@jupyter-widgets/base",
            "_model_module_version": "1.2.0",
            "_model_name": "LayoutModel",
            "_view_count": null,
            "_view_module": "@jupyter-widgets/base",
            "_view_module_version": "1.2.0",
            "_view_name": "LayoutView",
            "align_content": null,
            "align_items": null,
            "align_self": null,
            "border": null,
            "bottom": null,
            "display": null,
            "flex": null,
            "flex_flow": null,
            "grid_area": null,
            "grid_auto_columns": null,
            "grid_auto_flow": null,
            "grid_auto_rows": null,
            "grid_column": null,
            "grid_gap": null,
            "grid_row": null,
            "grid_template_areas": null,
            "grid_template_columns": null,
            "grid_template_rows": null,
            "height": null,
            "justify_content": null,
            "justify_items": null,
            "left": null,
            "margin": null,
            "max_height": null,
            "max_width": null,
            "min_height": null,
            "min_width": null,
            "object_fit": null,
            "object_position": null,
            "order": null,
            "overflow": null,
            "overflow_x": null,
            "overflow_y": null,
            "padding": null,
            "right": null,
            "top": null,
            "visibility": null,
            "width": null
          }
        },
        "a4bd32d5db03410da6e0c3f2d02553dd": {
          "model_module": "@jupyter-widgets/base",
          "model_name": "LayoutModel",
          "model_module_version": "1.2.0",
          "state": {
            "_model_module": "@jupyter-widgets/base",
            "_model_module_version": "1.2.0",
            "_model_name": "LayoutModel",
            "_view_count": null,
            "_view_module": "@jupyter-widgets/base",
            "_view_module_version": "1.2.0",
            "_view_name": "LayoutView",
            "align_content": null,
            "align_items": null,
            "align_self": null,
            "border": null,
            "bottom": null,
            "display": null,
            "flex": null,
            "flex_flow": null,
            "grid_area": null,
            "grid_auto_columns": null,
            "grid_auto_flow": null,
            "grid_auto_rows": null,
            "grid_column": null,
            "grid_gap": null,
            "grid_row": null,
            "grid_template_areas": null,
            "grid_template_columns": null,
            "grid_template_rows": null,
            "height": null,
            "justify_content": null,
            "justify_items": null,
            "left": null,
            "margin": null,
            "max_height": null,
            "max_width": null,
            "min_height": null,
            "min_width": null,
            "object_fit": null,
            "object_position": null,
            "order": null,
            "overflow": null,
            "overflow_x": null,
            "overflow_y": null,
            "padding": null,
            "right": null,
            "top": null,
            "visibility": null,
            "width": null
          }
        },
        "c523663aadd54cb39e343d09d2848c83": {
          "model_module": "@jupyter-widgets/controls",
          "model_name": "DescriptionStyleModel",
          "model_module_version": "1.5.0",
          "state": {
            "_model_module": "@jupyter-widgets/controls",
            "_model_module_version": "1.5.0",
            "_model_name": "DescriptionStyleModel",
            "_view_count": null,
            "_view_module": "@jupyter-widgets/base",
            "_view_module_version": "1.2.0",
            "_view_name": "StyleView",
            "description_width": ""
          }
        },
        "2fbe8a1936f744939003aec04e31d091": {
          "model_module": "@jupyter-widgets/base",
          "model_name": "LayoutModel",
          "model_module_version": "1.2.0",
          "state": {
            "_model_module": "@jupyter-widgets/base",
            "_model_module_version": "1.2.0",
            "_model_name": "LayoutModel",
            "_view_count": null,
            "_view_module": "@jupyter-widgets/base",
            "_view_module_version": "1.2.0",
            "_view_name": "LayoutView",
            "align_content": null,
            "align_items": null,
            "align_self": null,
            "border": null,
            "bottom": null,
            "display": null,
            "flex": null,
            "flex_flow": null,
            "grid_area": null,
            "grid_auto_columns": null,
            "grid_auto_flow": null,
            "grid_auto_rows": null,
            "grid_column": null,
            "grid_gap": null,
            "grid_row": null,
            "grid_template_areas": null,
            "grid_template_columns": null,
            "grid_template_rows": null,
            "height": null,
            "justify_content": null,
            "justify_items": null,
            "left": null,
            "margin": null,
            "max_height": null,
            "max_width": null,
            "min_height": null,
            "min_width": null,
            "object_fit": null,
            "object_position": null,
            "order": null,
            "overflow": null,
            "overflow_x": null,
            "overflow_y": null,
            "padding": null,
            "right": null,
            "top": null,
            "visibility": null,
            "width": null
          }
        },
        "ba632e2145844fb8a39aac12ebe7b916": {
          "model_module": "@jupyter-widgets/controls",
          "model_name": "ProgressStyleModel",
          "model_module_version": "1.5.0",
          "state": {
            "_model_module": "@jupyter-widgets/controls",
            "_model_module_version": "1.5.0",
            "_model_name": "ProgressStyleModel",
            "_view_count": null,
            "_view_module": "@jupyter-widgets/base",
            "_view_module_version": "1.2.0",
            "_view_name": "StyleView",
            "bar_color": null,
            "description_width": ""
          }
        },
        "7909be03ca3749a19bd492742107986b": {
          "model_module": "@jupyter-widgets/base",
          "model_name": "LayoutModel",
          "model_module_version": "1.2.0",
          "state": {
            "_model_module": "@jupyter-widgets/base",
            "_model_module_version": "1.2.0",
            "_model_name": "LayoutModel",
            "_view_count": null,
            "_view_module": "@jupyter-widgets/base",
            "_view_module_version": "1.2.0",
            "_view_name": "LayoutView",
            "align_content": null,
            "align_items": null,
            "align_self": null,
            "border": null,
            "bottom": null,
            "display": null,
            "flex": null,
            "flex_flow": null,
            "grid_area": null,
            "grid_auto_columns": null,
            "grid_auto_flow": null,
            "grid_auto_rows": null,
            "grid_column": null,
            "grid_gap": null,
            "grid_row": null,
            "grid_template_areas": null,
            "grid_template_columns": null,
            "grid_template_rows": null,
            "height": null,
            "justify_content": null,
            "justify_items": null,
            "left": null,
            "margin": null,
            "max_height": null,
            "max_width": null,
            "min_height": null,
            "min_width": null,
            "object_fit": null,
            "object_position": null,
            "order": null,
            "overflow": null,
            "overflow_x": null,
            "overflow_y": null,
            "padding": null,
            "right": null,
            "top": null,
            "visibility": null,
            "width": null
          }
        },
        "9e0401de8baf439c935df38c8b31ead1": {
          "model_module": "@jupyter-widgets/controls",
          "model_name": "DescriptionStyleModel",
          "model_module_version": "1.5.0",
          "state": {
            "_model_module": "@jupyter-widgets/controls",
            "_model_module_version": "1.5.0",
            "_model_name": "DescriptionStyleModel",
            "_view_count": null,
            "_view_module": "@jupyter-widgets/base",
            "_view_module_version": "1.2.0",
            "_view_name": "StyleView",
            "description_width": ""
          }
        },
        "fbfbd55ecede4cb6adc965e8e53b9cb8": {
          "model_module": "@jupyter-widgets/controls",
          "model_name": "HBoxModel",
          "model_module_version": "1.5.0",
          "state": {
            "_dom_classes": [],
            "_model_module": "@jupyter-widgets/controls",
            "_model_module_version": "1.5.0",
            "_model_name": "HBoxModel",
            "_view_count": null,
            "_view_module": "@jupyter-widgets/controls",
            "_view_module_version": "1.5.0",
            "_view_name": "HBoxView",
            "box_style": "",
            "children": [
              "IPY_MODEL_bd32c109c3134c219b27bf6f84bc12f8",
              "IPY_MODEL_72aee1fa8a6d4768af1d6e9709071457",
              "IPY_MODEL_56e831c8b7504009ad95d819d6721820"
            ],
            "layout": "IPY_MODEL_bba4061191e4490ba1d1a0a70ac1c704"
          }
        },
        "bd32c109c3134c219b27bf6f84bc12f8": {
          "model_module": "@jupyter-widgets/controls",
          "model_name": "HTMLModel",
          "model_module_version": "1.5.0",
          "state": {
            "_dom_classes": [],
            "_model_module": "@jupyter-widgets/controls",
            "_model_module_version": "1.5.0",
            "_model_name": "HTMLModel",
            "_view_count": null,
            "_view_module": "@jupyter-widgets/controls",
            "_view_module_version": "1.5.0",
            "_view_name": "HTMLView",
            "description": "",
            "description_tooltip": null,
            "layout": "IPY_MODEL_73d8ce7895d245839ed910002ff593d4",
            "placeholder": "​",
            "style": "IPY_MODEL_8405cb98da544572b4d67ae46243da3a",
            "value": "Downloading (…)okenizer_config.json: 100%"
          }
        },
        "72aee1fa8a6d4768af1d6e9709071457": {
          "model_module": "@jupyter-widgets/controls",
          "model_name": "FloatProgressModel",
          "model_module_version": "1.5.0",
          "state": {
            "_dom_classes": [],
            "_model_module": "@jupyter-widgets/controls",
            "_model_module_version": "1.5.0",
            "_model_name": "FloatProgressModel",
            "_view_count": null,
            "_view_module": "@jupyter-widgets/controls",
            "_view_module_version": "1.5.0",
            "_view_name": "ProgressView",
            "bar_style": "success",
            "description": "",
            "description_tooltip": null,
            "layout": "IPY_MODEL_45163497c1fe462988dba12b68560eff",
            "max": 28,
            "min": 0,
            "orientation": "horizontal",
            "style": "IPY_MODEL_cd61bb6ab02a4a90a464d33c718e274f",
            "value": 28
          }
        },
        "56e831c8b7504009ad95d819d6721820": {
          "model_module": "@jupyter-widgets/controls",
          "model_name": "HTMLModel",
          "model_module_version": "1.5.0",
          "state": {
            "_dom_classes": [],
            "_model_module": "@jupyter-widgets/controls",
            "_model_module_version": "1.5.0",
            "_model_name": "HTMLModel",
            "_view_count": null,
            "_view_module": "@jupyter-widgets/controls",
            "_view_module_version": "1.5.0",
            "_view_name": "HTMLView",
            "description": "",
            "description_tooltip": null,
            "layout": "IPY_MODEL_cd3a1790a6694227a75a1fed3cf69a3d",
            "placeholder": "​",
            "style": "IPY_MODEL_0c7e65ccff2a4df1a8b79608713214d2",
            "value": " 28.0/28.0 [00:00&lt;00:00, 1.81kB/s]"
          }
        },
        "bba4061191e4490ba1d1a0a70ac1c704": {
          "model_module": "@jupyter-widgets/base",
          "model_name": "LayoutModel",
          "model_module_version": "1.2.0",
          "state": {
            "_model_module": "@jupyter-widgets/base",
            "_model_module_version": "1.2.0",
            "_model_name": "LayoutModel",
            "_view_count": null,
            "_view_module": "@jupyter-widgets/base",
            "_view_module_version": "1.2.0",
            "_view_name": "LayoutView",
            "align_content": null,
            "align_items": null,
            "align_self": null,
            "border": null,
            "bottom": null,
            "display": null,
            "flex": null,
            "flex_flow": null,
            "grid_area": null,
            "grid_auto_columns": null,
            "grid_auto_flow": null,
            "grid_auto_rows": null,
            "grid_column": null,
            "grid_gap": null,
            "grid_row": null,
            "grid_template_areas": null,
            "grid_template_columns": null,
            "grid_template_rows": null,
            "height": null,
            "justify_content": null,
            "justify_items": null,
            "left": null,
            "margin": null,
            "max_height": null,
            "max_width": null,
            "min_height": null,
            "min_width": null,
            "object_fit": null,
            "object_position": null,
            "order": null,
            "overflow": null,
            "overflow_x": null,
            "overflow_y": null,
            "padding": null,
            "right": null,
            "top": null,
            "visibility": null,
            "width": null
          }
        },
        "73d8ce7895d245839ed910002ff593d4": {
          "model_module": "@jupyter-widgets/base",
          "model_name": "LayoutModel",
          "model_module_version": "1.2.0",
          "state": {
            "_model_module": "@jupyter-widgets/base",
            "_model_module_version": "1.2.0",
            "_model_name": "LayoutModel",
            "_view_count": null,
            "_view_module": "@jupyter-widgets/base",
            "_view_module_version": "1.2.0",
            "_view_name": "LayoutView",
            "align_content": null,
            "align_items": null,
            "align_self": null,
            "border": null,
            "bottom": null,
            "display": null,
            "flex": null,
            "flex_flow": null,
            "grid_area": null,
            "grid_auto_columns": null,
            "grid_auto_flow": null,
            "grid_auto_rows": null,
            "grid_column": null,
            "grid_gap": null,
            "grid_row": null,
            "grid_template_areas": null,
            "grid_template_columns": null,
            "grid_template_rows": null,
            "height": null,
            "justify_content": null,
            "justify_items": null,
            "left": null,
            "margin": null,
            "max_height": null,
            "max_width": null,
            "min_height": null,
            "min_width": null,
            "object_fit": null,
            "object_position": null,
            "order": null,
            "overflow": null,
            "overflow_x": null,
            "overflow_y": null,
            "padding": null,
            "right": null,
            "top": null,
            "visibility": null,
            "width": null
          }
        },
        "8405cb98da544572b4d67ae46243da3a": {
          "model_module": "@jupyter-widgets/controls",
          "model_name": "DescriptionStyleModel",
          "model_module_version": "1.5.0",
          "state": {
            "_model_module": "@jupyter-widgets/controls",
            "_model_module_version": "1.5.0",
            "_model_name": "DescriptionStyleModel",
            "_view_count": null,
            "_view_module": "@jupyter-widgets/base",
            "_view_module_version": "1.2.0",
            "_view_name": "StyleView",
            "description_width": ""
          }
        },
        "45163497c1fe462988dba12b68560eff": {
          "model_module": "@jupyter-widgets/base",
          "model_name": "LayoutModel",
          "model_module_version": "1.2.0",
          "state": {
            "_model_module": "@jupyter-widgets/base",
            "_model_module_version": "1.2.0",
            "_model_name": "LayoutModel",
            "_view_count": null,
            "_view_module": "@jupyter-widgets/base",
            "_view_module_version": "1.2.0",
            "_view_name": "LayoutView",
            "align_content": null,
            "align_items": null,
            "align_self": null,
            "border": null,
            "bottom": null,
            "display": null,
            "flex": null,
            "flex_flow": null,
            "grid_area": null,
            "grid_auto_columns": null,
            "grid_auto_flow": null,
            "grid_auto_rows": null,
            "grid_column": null,
            "grid_gap": null,
            "grid_row": null,
            "grid_template_areas": null,
            "grid_template_columns": null,
            "grid_template_rows": null,
            "height": null,
            "justify_content": null,
            "justify_items": null,
            "left": null,
            "margin": null,
            "max_height": null,
            "max_width": null,
            "min_height": null,
            "min_width": null,
            "object_fit": null,
            "object_position": null,
            "order": null,
            "overflow": null,
            "overflow_x": null,
            "overflow_y": null,
            "padding": null,
            "right": null,
            "top": null,
            "visibility": null,
            "width": null
          }
        },
        "cd61bb6ab02a4a90a464d33c718e274f": {
          "model_module": "@jupyter-widgets/controls",
          "model_name": "ProgressStyleModel",
          "model_module_version": "1.5.0",
          "state": {
            "_model_module": "@jupyter-widgets/controls",
            "_model_module_version": "1.5.0",
            "_model_name": "ProgressStyleModel",
            "_view_count": null,
            "_view_module": "@jupyter-widgets/base",
            "_view_module_version": "1.2.0",
            "_view_name": "StyleView",
            "bar_color": null,
            "description_width": ""
          }
        },
        "cd3a1790a6694227a75a1fed3cf69a3d": {
          "model_module": "@jupyter-widgets/base",
          "model_name": "LayoutModel",
          "model_module_version": "1.2.0",
          "state": {
            "_model_module": "@jupyter-widgets/base",
            "_model_module_version": "1.2.0",
            "_model_name": "LayoutModel",
            "_view_count": null,
            "_view_module": "@jupyter-widgets/base",
            "_view_module_version": "1.2.0",
            "_view_name": "LayoutView",
            "align_content": null,
            "align_items": null,
            "align_self": null,
            "border": null,
            "bottom": null,
            "display": null,
            "flex": null,
            "flex_flow": null,
            "grid_area": null,
            "grid_auto_columns": null,
            "grid_auto_flow": null,
            "grid_auto_rows": null,
            "grid_column": null,
            "grid_gap": null,
            "grid_row": null,
            "grid_template_areas": null,
            "grid_template_columns": null,
            "grid_template_rows": null,
            "height": null,
            "justify_content": null,
            "justify_items": null,
            "left": null,
            "margin": null,
            "max_height": null,
            "max_width": null,
            "min_height": null,
            "min_width": null,
            "object_fit": null,
            "object_position": null,
            "order": null,
            "overflow": null,
            "overflow_x": null,
            "overflow_y": null,
            "padding": null,
            "right": null,
            "top": null,
            "visibility": null,
            "width": null
          }
        },
        "0c7e65ccff2a4df1a8b79608713214d2": {
          "model_module": "@jupyter-widgets/controls",
          "model_name": "DescriptionStyleModel",
          "model_module_version": "1.5.0",
          "state": {
            "_model_module": "@jupyter-widgets/controls",
            "_model_module_version": "1.5.0",
            "_model_name": "DescriptionStyleModel",
            "_view_count": null,
            "_view_module": "@jupyter-widgets/base",
            "_view_module_version": "1.2.0",
            "_view_name": "StyleView",
            "description_width": ""
          }
        },
        "a5c7c124f6394e1682367691f1d5c257": {
          "model_module": "@jupyter-widgets/controls",
          "model_name": "HBoxModel",
          "model_module_version": "1.5.0",
          "state": {
            "_dom_classes": [],
            "_model_module": "@jupyter-widgets/controls",
            "_model_module_version": "1.5.0",
            "_model_name": "HBoxModel",
            "_view_count": null,
            "_view_module": "@jupyter-widgets/controls",
            "_view_module_version": "1.5.0",
            "_view_name": "HBoxView",
            "box_style": "",
            "children": [
              "IPY_MODEL_94a3bc43aab44f0ba31cf48740edc67e",
              "IPY_MODEL_bad2ce28af604b4d8d0dceb7eed602dc",
              "IPY_MODEL_b1642cdfa06443358cd31704702de695"
            ],
            "layout": "IPY_MODEL_6b2142cf5fcf40519144ea899dd513ca"
          }
        },
        "94a3bc43aab44f0ba31cf48740edc67e": {
          "model_module": "@jupyter-widgets/controls",
          "model_name": "HTMLModel",
          "model_module_version": "1.5.0",
          "state": {
            "_dom_classes": [],
            "_model_module": "@jupyter-widgets/controls",
            "_model_module_version": "1.5.0",
            "_model_name": "HTMLModel",
            "_view_count": null,
            "_view_module": "@jupyter-widgets/controls",
            "_view_module_version": "1.5.0",
            "_view_name": "HTMLView",
            "description": "",
            "description_tooltip": null,
            "layout": "IPY_MODEL_f70c46bd298b4d9e9a0a47472a5a0306",
            "placeholder": "​",
            "style": "IPY_MODEL_45d0f2ae6547462db4ce19b3d5ec1e2b",
            "value": "Downloading (…)lve/main/config.json: 100%"
          }
        },
        "bad2ce28af604b4d8d0dceb7eed602dc": {
          "model_module": "@jupyter-widgets/controls",
          "model_name": "FloatProgressModel",
          "model_module_version": "1.5.0",
          "state": {
            "_dom_classes": [],
            "_model_module": "@jupyter-widgets/controls",
            "_model_module_version": "1.5.0",
            "_model_name": "FloatProgressModel",
            "_view_count": null,
            "_view_module": "@jupyter-widgets/controls",
            "_view_module_version": "1.5.0",
            "_view_name": "ProgressView",
            "bar_style": "success",
            "description": "",
            "description_tooltip": null,
            "layout": "IPY_MODEL_e616f32696be4142b85bf6163682c408",
            "max": 570,
            "min": 0,
            "orientation": "horizontal",
            "style": "IPY_MODEL_a72de5aa2aa94c1abdaf9da025da4ed9",
            "value": 570
          }
        },
        "b1642cdfa06443358cd31704702de695": {
          "model_module": "@jupyter-widgets/controls",
          "model_name": "HTMLModel",
          "model_module_version": "1.5.0",
          "state": {
            "_dom_classes": [],
            "_model_module": "@jupyter-widgets/controls",
            "_model_module_version": "1.5.0",
            "_model_name": "HTMLModel",
            "_view_count": null,
            "_view_module": "@jupyter-widgets/controls",
            "_view_module_version": "1.5.0",
            "_view_name": "HTMLView",
            "description": "",
            "description_tooltip": null,
            "layout": "IPY_MODEL_2f5cd794ec714cd9abe5e0177e13a35a",
            "placeholder": "​",
            "style": "IPY_MODEL_282c6987c35d4bc1a91671bfcd9e5bcf",
            "value": " 570/570 [00:00&lt;00:00, 39.6kB/s]"
          }
        },
        "6b2142cf5fcf40519144ea899dd513ca": {
          "model_module": "@jupyter-widgets/base",
          "model_name": "LayoutModel",
          "model_module_version": "1.2.0",
          "state": {
            "_model_module": "@jupyter-widgets/base",
            "_model_module_version": "1.2.0",
            "_model_name": "LayoutModel",
            "_view_count": null,
            "_view_module": "@jupyter-widgets/base",
            "_view_module_version": "1.2.0",
            "_view_name": "LayoutView",
            "align_content": null,
            "align_items": null,
            "align_self": null,
            "border": null,
            "bottom": null,
            "display": null,
            "flex": null,
            "flex_flow": null,
            "grid_area": null,
            "grid_auto_columns": null,
            "grid_auto_flow": null,
            "grid_auto_rows": null,
            "grid_column": null,
            "grid_gap": null,
            "grid_row": null,
            "grid_template_areas": null,
            "grid_template_columns": null,
            "grid_template_rows": null,
            "height": null,
            "justify_content": null,
            "justify_items": null,
            "left": null,
            "margin": null,
            "max_height": null,
            "max_width": null,
            "min_height": null,
            "min_width": null,
            "object_fit": null,
            "object_position": null,
            "order": null,
            "overflow": null,
            "overflow_x": null,
            "overflow_y": null,
            "padding": null,
            "right": null,
            "top": null,
            "visibility": null,
            "width": null
          }
        },
        "f70c46bd298b4d9e9a0a47472a5a0306": {
          "model_module": "@jupyter-widgets/base",
          "model_name": "LayoutModel",
          "model_module_version": "1.2.0",
          "state": {
            "_model_module": "@jupyter-widgets/base",
            "_model_module_version": "1.2.0",
            "_model_name": "LayoutModel",
            "_view_count": null,
            "_view_module": "@jupyter-widgets/base",
            "_view_module_version": "1.2.0",
            "_view_name": "LayoutView",
            "align_content": null,
            "align_items": null,
            "align_self": null,
            "border": null,
            "bottom": null,
            "display": null,
            "flex": null,
            "flex_flow": null,
            "grid_area": null,
            "grid_auto_columns": null,
            "grid_auto_flow": null,
            "grid_auto_rows": null,
            "grid_column": null,
            "grid_gap": null,
            "grid_row": null,
            "grid_template_areas": null,
            "grid_template_columns": null,
            "grid_template_rows": null,
            "height": null,
            "justify_content": null,
            "justify_items": null,
            "left": null,
            "margin": null,
            "max_height": null,
            "max_width": null,
            "min_height": null,
            "min_width": null,
            "object_fit": null,
            "object_position": null,
            "order": null,
            "overflow": null,
            "overflow_x": null,
            "overflow_y": null,
            "padding": null,
            "right": null,
            "top": null,
            "visibility": null,
            "width": null
          }
        },
        "45d0f2ae6547462db4ce19b3d5ec1e2b": {
          "model_module": "@jupyter-widgets/controls",
          "model_name": "DescriptionStyleModel",
          "model_module_version": "1.5.0",
          "state": {
            "_model_module": "@jupyter-widgets/controls",
            "_model_module_version": "1.5.0",
            "_model_name": "DescriptionStyleModel",
            "_view_count": null,
            "_view_module": "@jupyter-widgets/base",
            "_view_module_version": "1.2.0",
            "_view_name": "StyleView",
            "description_width": ""
          }
        },
        "e616f32696be4142b85bf6163682c408": {
          "model_module": "@jupyter-widgets/base",
          "model_name": "LayoutModel",
          "model_module_version": "1.2.0",
          "state": {
            "_model_module": "@jupyter-widgets/base",
            "_model_module_version": "1.2.0",
            "_model_name": "LayoutModel",
            "_view_count": null,
            "_view_module": "@jupyter-widgets/base",
            "_view_module_version": "1.2.0",
            "_view_name": "LayoutView",
            "align_content": null,
            "align_items": null,
            "align_self": null,
            "border": null,
            "bottom": null,
            "display": null,
            "flex": null,
            "flex_flow": null,
            "grid_area": null,
            "grid_auto_columns": null,
            "grid_auto_flow": null,
            "grid_auto_rows": null,
            "grid_column": null,
            "grid_gap": null,
            "grid_row": null,
            "grid_template_areas": null,
            "grid_template_columns": null,
            "grid_template_rows": null,
            "height": null,
            "justify_content": null,
            "justify_items": null,
            "left": null,
            "margin": null,
            "max_height": null,
            "max_width": null,
            "min_height": null,
            "min_width": null,
            "object_fit": null,
            "object_position": null,
            "order": null,
            "overflow": null,
            "overflow_x": null,
            "overflow_y": null,
            "padding": null,
            "right": null,
            "top": null,
            "visibility": null,
            "width": null
          }
        },
        "a72de5aa2aa94c1abdaf9da025da4ed9": {
          "model_module": "@jupyter-widgets/controls",
          "model_name": "ProgressStyleModel",
          "model_module_version": "1.5.0",
          "state": {
            "_model_module": "@jupyter-widgets/controls",
            "_model_module_version": "1.5.0",
            "_model_name": "ProgressStyleModel",
            "_view_count": null,
            "_view_module": "@jupyter-widgets/base",
            "_view_module_version": "1.2.0",
            "_view_name": "StyleView",
            "bar_color": null,
            "description_width": ""
          }
        },
        "2f5cd794ec714cd9abe5e0177e13a35a": {
          "model_module": "@jupyter-widgets/base",
          "model_name": "LayoutModel",
          "model_module_version": "1.2.0",
          "state": {
            "_model_module": "@jupyter-widgets/base",
            "_model_module_version": "1.2.0",
            "_model_name": "LayoutModel",
            "_view_count": null,
            "_view_module": "@jupyter-widgets/base",
            "_view_module_version": "1.2.0",
            "_view_name": "LayoutView",
            "align_content": null,
            "align_items": null,
            "align_self": null,
            "border": null,
            "bottom": null,
            "display": null,
            "flex": null,
            "flex_flow": null,
            "grid_area": null,
            "grid_auto_columns": null,
            "grid_auto_flow": null,
            "grid_auto_rows": null,
            "grid_column": null,
            "grid_gap": null,
            "grid_row": null,
            "grid_template_areas": null,
            "grid_template_columns": null,
            "grid_template_rows": null,
            "height": null,
            "justify_content": null,
            "justify_items": null,
            "left": null,
            "margin": null,
            "max_height": null,
            "max_width": null,
            "min_height": null,
            "min_width": null,
            "object_fit": null,
            "object_position": null,
            "order": null,
            "overflow": null,
            "overflow_x": null,
            "overflow_y": null,
            "padding": null,
            "right": null,
            "top": null,
            "visibility": null,
            "width": null
          }
        },
        "282c6987c35d4bc1a91671bfcd9e5bcf": {
          "model_module": "@jupyter-widgets/controls",
          "model_name": "DescriptionStyleModel",
          "model_module_version": "1.5.0",
          "state": {
            "_model_module": "@jupyter-widgets/controls",
            "_model_module_version": "1.5.0",
            "_model_name": "DescriptionStyleModel",
            "_view_count": null,
            "_view_module": "@jupyter-widgets/base",
            "_view_module_version": "1.2.0",
            "_view_name": "StyleView",
            "description_width": ""
          }
        }
      }
    }
  },
  "nbformat": 4,
  "nbformat_minor": 0
}